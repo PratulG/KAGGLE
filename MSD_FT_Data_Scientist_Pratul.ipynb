{
  "nbformat": 4,
  "nbformat_minor": 0,
  "metadata": {
    "colab": {
      "name": "MSD_FT_Data Scientist_Pratul.ipynb",
      "provenance": [],
      "collapsed_sections": []
    },
    "kernelspec": {
      "name": "python3",
      "display_name": "Python 3"
    },
    "language_info": {
      "name": "python"
    }
  },
  "cells": [
    {
      "cell_type": "markdown",
      "source": [
        "### Working with Dataset"
      ],
      "metadata": {
        "id": "MW1sr1FekWCX"
      }
    },
    {
      "cell_type": "code",
      "execution_count": 1,
      "metadata": {
        "id": "ln4UE3jq6wuH"
      },
      "outputs": [],
      "source": [
        "# Importing the Libraries\n",
        "import pandas as pd\n",
        "import matplotlib.pyplot as plt\n",
        "import numpy as np"
      ]
    },
    {
      "cell_type": "code",
      "source": [
        "# Importing the Dataset\n",
        "dataset = pd.read_csv('data_20160405.csv')\n",
        "dataset = dataset.iloc[:,1:] #Starting from the first index as warding of the first column as it contain serial number in original data\n",
        "dataset.head()"
      ],
      "metadata": {
        "colab": {
          "base_uri": "https://localhost:8080/",
          "height": 444
        },
        "id": "H6itSP4v7Gux",
        "outputId": "3675daca-e1ea-4a14-e6d7-f58e134b7146"
      },
      "execution_count": 2,
      "outputs": [
        {
          "output_type": "execute_result",
          "data": {
            "text/plain": [
              "        accID   accType  accSize  accTargets  district       month  sales  \\\n",
              "0  XYZ-987002  Pharmacy      700          25         3  01-10-2013      0   \n",
              "1  XYZ-987005  Hospital      790          24         3  01-10-2013      0   \n",
              "2  XYZ-987006  Hospital      320          14         3  01-10-2013      0   \n",
              "3  XYZ-987007  Pharmacy     1000          36         3  01-10-2013      0   \n",
              "4  XYZ-987008  Hospital      440          18         3  01-10-2013      0   \n",
              "\n",
              "   qty  strategy1  strategy2  strategy3  salesVisit1  salesVisit2  \\\n",
              "0    0        0.0        0.0        0.0          0.0          0.0   \n",
              "1    0        0.0        0.0        0.0          0.0     450000.0   \n",
              "2    0        0.0        0.0        0.0          0.0          0.0   \n",
              "3    0        0.0        0.0        0.0          0.0          0.0   \n",
              "4    0        0.0        0.0        0.0          0.0          0.0   \n",
              "\n",
              "   salesVisit3  salesVisit4  salesVisit5  compBrand  \n",
              "0          0.0          0.0          0.0          4  \n",
              "1      75000.0      75000.0          0.0          4  \n",
              "2          0.0          0.0          0.0          4  \n",
              "3          0.0          0.0          0.0          4  \n",
              "4          0.0          0.0          0.0          4  "
            ],
            "text/html": [
              "\n",
              "  <div id=\"df-0facb6b0-8b44-4edc-a935-7b0400f3be49\">\n",
              "    <div class=\"colab-df-container\">\n",
              "      <div>\n",
              "<style scoped>\n",
              "    .dataframe tbody tr th:only-of-type {\n",
              "        vertical-align: middle;\n",
              "    }\n",
              "\n",
              "    .dataframe tbody tr th {\n",
              "        vertical-align: top;\n",
              "    }\n",
              "\n",
              "    .dataframe thead th {\n",
              "        text-align: right;\n",
              "    }\n",
              "</style>\n",
              "<table border=\"1\" class=\"dataframe\">\n",
              "  <thead>\n",
              "    <tr style=\"text-align: right;\">\n",
              "      <th></th>\n",
              "      <th>accID</th>\n",
              "      <th>accType</th>\n",
              "      <th>accSize</th>\n",
              "      <th>accTargets</th>\n",
              "      <th>district</th>\n",
              "      <th>month</th>\n",
              "      <th>sales</th>\n",
              "      <th>qty</th>\n",
              "      <th>strategy1</th>\n",
              "      <th>strategy2</th>\n",
              "      <th>strategy3</th>\n",
              "      <th>salesVisit1</th>\n",
              "      <th>salesVisit2</th>\n",
              "      <th>salesVisit3</th>\n",
              "      <th>salesVisit4</th>\n",
              "      <th>salesVisit5</th>\n",
              "      <th>compBrand</th>\n",
              "    </tr>\n",
              "  </thead>\n",
              "  <tbody>\n",
              "    <tr>\n",
              "      <th>0</th>\n",
              "      <td>XYZ-987002</td>\n",
              "      <td>Pharmacy</td>\n",
              "      <td>700</td>\n",
              "      <td>25</td>\n",
              "      <td>3</td>\n",
              "      <td>01-10-2013</td>\n",
              "      <td>0</td>\n",
              "      <td>0</td>\n",
              "      <td>0.0</td>\n",
              "      <td>0.0</td>\n",
              "      <td>0.0</td>\n",
              "      <td>0.0</td>\n",
              "      <td>0.0</td>\n",
              "      <td>0.0</td>\n",
              "      <td>0.0</td>\n",
              "      <td>0.0</td>\n",
              "      <td>4</td>\n",
              "    </tr>\n",
              "    <tr>\n",
              "      <th>1</th>\n",
              "      <td>XYZ-987005</td>\n",
              "      <td>Hospital</td>\n",
              "      <td>790</td>\n",
              "      <td>24</td>\n",
              "      <td>3</td>\n",
              "      <td>01-10-2013</td>\n",
              "      <td>0</td>\n",
              "      <td>0</td>\n",
              "      <td>0.0</td>\n",
              "      <td>0.0</td>\n",
              "      <td>0.0</td>\n",
              "      <td>0.0</td>\n",
              "      <td>450000.0</td>\n",
              "      <td>75000.0</td>\n",
              "      <td>75000.0</td>\n",
              "      <td>0.0</td>\n",
              "      <td>4</td>\n",
              "    </tr>\n",
              "    <tr>\n",
              "      <th>2</th>\n",
              "      <td>XYZ-987006</td>\n",
              "      <td>Hospital</td>\n",
              "      <td>320</td>\n",
              "      <td>14</td>\n",
              "      <td>3</td>\n",
              "      <td>01-10-2013</td>\n",
              "      <td>0</td>\n",
              "      <td>0</td>\n",
              "      <td>0.0</td>\n",
              "      <td>0.0</td>\n",
              "      <td>0.0</td>\n",
              "      <td>0.0</td>\n",
              "      <td>0.0</td>\n",
              "      <td>0.0</td>\n",
              "      <td>0.0</td>\n",
              "      <td>0.0</td>\n",
              "      <td>4</td>\n",
              "    </tr>\n",
              "    <tr>\n",
              "      <th>3</th>\n",
              "      <td>XYZ-987007</td>\n",
              "      <td>Pharmacy</td>\n",
              "      <td>1000</td>\n",
              "      <td>36</td>\n",
              "      <td>3</td>\n",
              "      <td>01-10-2013</td>\n",
              "      <td>0</td>\n",
              "      <td>0</td>\n",
              "      <td>0.0</td>\n",
              "      <td>0.0</td>\n",
              "      <td>0.0</td>\n",
              "      <td>0.0</td>\n",
              "      <td>0.0</td>\n",
              "      <td>0.0</td>\n",
              "      <td>0.0</td>\n",
              "      <td>0.0</td>\n",
              "      <td>4</td>\n",
              "    </tr>\n",
              "    <tr>\n",
              "      <th>4</th>\n",
              "      <td>XYZ-987008</td>\n",
              "      <td>Hospital</td>\n",
              "      <td>440</td>\n",
              "      <td>18</td>\n",
              "      <td>3</td>\n",
              "      <td>01-10-2013</td>\n",
              "      <td>0</td>\n",
              "      <td>0</td>\n",
              "      <td>0.0</td>\n",
              "      <td>0.0</td>\n",
              "      <td>0.0</td>\n",
              "      <td>0.0</td>\n",
              "      <td>0.0</td>\n",
              "      <td>0.0</td>\n",
              "      <td>0.0</td>\n",
              "      <td>0.0</td>\n",
              "      <td>4</td>\n",
              "    </tr>\n",
              "  </tbody>\n",
              "</table>\n",
              "</div>\n",
              "      <button class=\"colab-df-convert\" onclick=\"convertToInteractive('df-0facb6b0-8b44-4edc-a935-7b0400f3be49')\"\n",
              "              title=\"Convert this dataframe to an interactive table.\"\n",
              "              style=\"display:none;\">\n",
              "        \n",
              "  <svg xmlns=\"http://www.w3.org/2000/svg\" height=\"24px\"viewBox=\"0 0 24 24\"\n",
              "       width=\"24px\">\n",
              "    <path d=\"M0 0h24v24H0V0z\" fill=\"none\"/>\n",
              "    <path d=\"M18.56 5.44l.94 2.06.94-2.06 2.06-.94-2.06-.94-.94-2.06-.94 2.06-2.06.94zm-11 1L8.5 8.5l.94-2.06 2.06-.94-2.06-.94L8.5 2.5l-.94 2.06-2.06.94zm10 10l.94 2.06.94-2.06 2.06-.94-2.06-.94-.94-2.06-.94 2.06-2.06.94z\"/><path d=\"M17.41 7.96l-1.37-1.37c-.4-.4-.92-.59-1.43-.59-.52 0-1.04.2-1.43.59L10.3 9.45l-7.72 7.72c-.78.78-.78 2.05 0 2.83L4 21.41c.39.39.9.59 1.41.59.51 0 1.02-.2 1.41-.59l7.78-7.78 2.81-2.81c.8-.78.8-2.07 0-2.86zM5.41 20L4 18.59l7.72-7.72 1.47 1.35L5.41 20z\"/>\n",
              "  </svg>\n",
              "      </button>\n",
              "      \n",
              "  <style>\n",
              "    .colab-df-container {\n",
              "      display:flex;\n",
              "      flex-wrap:wrap;\n",
              "      gap: 12px;\n",
              "    }\n",
              "\n",
              "    .colab-df-convert {\n",
              "      background-color: #E8F0FE;\n",
              "      border: none;\n",
              "      border-radius: 50%;\n",
              "      cursor: pointer;\n",
              "      display: none;\n",
              "      fill: #1967D2;\n",
              "      height: 32px;\n",
              "      padding: 0 0 0 0;\n",
              "      width: 32px;\n",
              "    }\n",
              "\n",
              "    .colab-df-convert:hover {\n",
              "      background-color: #E2EBFA;\n",
              "      box-shadow: 0px 1px 2px rgba(60, 64, 67, 0.3), 0px 1px 3px 1px rgba(60, 64, 67, 0.15);\n",
              "      fill: #174EA6;\n",
              "    }\n",
              "\n",
              "    [theme=dark] .colab-df-convert {\n",
              "      background-color: #3B4455;\n",
              "      fill: #D2E3FC;\n",
              "    }\n",
              "\n",
              "    [theme=dark] .colab-df-convert:hover {\n",
              "      background-color: #434B5C;\n",
              "      box-shadow: 0px 1px 3px 1px rgba(0, 0, 0, 0.15);\n",
              "      filter: drop-shadow(0px 1px 2px rgba(0, 0, 0, 0.3));\n",
              "      fill: #FFFFFF;\n",
              "    }\n",
              "  </style>\n",
              "\n",
              "      <script>\n",
              "        const buttonEl =\n",
              "          document.querySelector('#df-0facb6b0-8b44-4edc-a935-7b0400f3be49 button.colab-df-convert');\n",
              "        buttonEl.style.display =\n",
              "          google.colab.kernel.accessAllowed ? 'block' : 'none';\n",
              "\n",
              "        async function convertToInteractive(key) {\n",
              "          const element = document.querySelector('#df-0facb6b0-8b44-4edc-a935-7b0400f3be49');\n",
              "          const dataTable =\n",
              "            await google.colab.kernel.invokeFunction('convertToInteractive',\n",
              "                                                     [key], {});\n",
              "          if (!dataTable) return;\n",
              "\n",
              "          const docLinkHtml = 'Like what you see? Visit the ' +\n",
              "            '<a target=\"_blank\" href=https://colab.research.google.com/notebooks/data_table.ipynb>data table notebook</a>'\n",
              "            + ' to learn more about interactive tables.';\n",
              "          element.innerHTML = '';\n",
              "          dataTable['output_type'] = 'display_data';\n",
              "          await google.colab.output.renderOutput(dataTable, element);\n",
              "          const docLink = document.createElement('div');\n",
              "          docLink.innerHTML = docLinkHtml;\n",
              "          element.appendChild(docLink);\n",
              "        }\n",
              "      </script>\n",
              "    </div>\n",
              "  </div>\n",
              "  "
            ]
          },
          "metadata": {},
          "execution_count": 2
        }
      ]
    },
    {
      "cell_type": "code",
      "source": [
        "# Finding the missing values\n",
        "dataset.isnull().sum()"
      ],
      "metadata": {
        "colab": {
          "base_uri": "https://localhost:8080/"
        },
        "id": "vxveueVcIv48",
        "outputId": "cd398227-c8df-41d9-e4ee-b4eccdb29140"
      },
      "execution_count": 3,
      "outputs": [
        {
          "output_type": "execute_result",
          "data": {
            "text/plain": [
              "accID          0\n",
              "accType        0\n",
              "accSize        0\n",
              "accTargets     0\n",
              "district       0\n",
              "month          0\n",
              "sales          0\n",
              "qty            0\n",
              "strategy1      0\n",
              "strategy2      0\n",
              "strategy3      0\n",
              "salesVisit1    0\n",
              "salesVisit2    0\n",
              "salesVisit3    0\n",
              "salesVisit4    0\n",
              "salesVisit5    0\n",
              "compBrand      0\n",
              "dtype: int64"
            ]
          },
          "metadata": {},
          "execution_count": 3
        }
      ]
    },
    {
      "cell_type": "markdown",
      "source": [
        "Above output contains no missing value, hence no missing value treatment"
      ],
      "metadata": {
        "id": "lhkdwy9HYzRf"
      }
    },
    {
      "cell_type": "markdown",
      "source": [
        "### Statistical test to check the consistencies of different Marketing Strategies "
      ],
      "metadata": {
        "id": "FhgBVqPNcQau"
      }
    },
    {
      "cell_type": "markdown",
      "source": [
        "**Applying one way anove to check the consistency of the three strategy as a marketing expediture**\n",
        "\n",
        "Here, H0: Null Hypothesis : mean(Strategy1) = mean(Strategy2) = mean(Startegy3) are equal\n",
        "\n",
        "Ha: Alternative Hypothesis: There exist one group whose mean values are different"
      ],
      "metadata": {
        "id": "8CisPORXZLJm"
      }
    },
    {
      "cell_type": "code",
      "source": [
        "from scipy.stats import f_oneway\n",
        "f_oneway(dataset['strategy1'],dataset['strategy2'],dataset['strategy3'])"
      ],
      "metadata": {
        "colab": {
          "base_uri": "https://localhost:8080/"
        },
        "id": "xtY56B9zVezR",
        "outputId": "d7c9a81f-bf4f-48ee-d480-e79dbf0c636a"
      },
      "execution_count": 4,
      "outputs": [
        {
          "output_type": "execute_result",
          "data": {
            "text/plain": [
              "F_onewayResult(statistic=299.9687822134629, pvalue=8.258747210840436e-127)"
            ]
          },
          "metadata": {},
          "execution_count": 4
        }
      ]
    },
    {
      "cell_type": "markdown",
      "source": [
        "The F statistic and p-value turn out to be equal to 299.9687822134629 and 8.258747210840436e-127 respectively. Since the p-value is wayless than 0.05 hence we would reject the null hypothesis. This implies that we have sufficient proof to say that there exists a difference in the strategy among three different marketing expenditure. "
      ],
      "metadata": {
        "id": "ADtkSh5tWj2m"
      }
    },
    {
      "cell_type": "markdown",
      "source": [
        "**Applying three way anove to check the consistency of the three marketing expenditure stratgy on sales**\n",
        "\n",
        "Here, H0: Null Hypothesis : Stratgies are insignificant for sales\n",
        "\n",
        "Ha: Alternative Hypothesis: Strategies are Significant"
      ],
      "metadata": {
        "id": "9YD7NwssbYp4"
      }
    },
    {
      "cell_type": "code",
      "source": [
        "import statsmodels.api as sm\n",
        "from statsmodels.formula.api import ols\n",
        "\n",
        "# Performing two-way ANOVA\n",
        "model = ols('sales ~ C(strategy1) + C(strategy2) +  C(strategy3)',\n",
        "            data=dataset).fit()\n",
        "result = sm.stats.anova_lm(model, type=3)\n",
        "  \n",
        "# Print the result\n",
        "print(result)"
      ],
      "metadata": {
        "colab": {
          "base_uri": "https://localhost:8080/"
        },
        "id": "XYLCJPo7ksOw",
        "outputId": "a4a57ac3-7a7c-4250-a41a-3bdea1ad8986"
      },
      "execution_count": 5,
      "outputs": [
        {
          "output_type": "stream",
          "name": "stdout",
          "text": [
            "                  df        sum_sq       mean_sq         F         PR(>F)\n",
            "C(strategy1)   218.0  4.310034e+16  1.977080e+14  7.845835  4.904044e-155\n",
            "C(strategy2)   753.0  7.409832e+16  9.840414e+13  3.905066  6.184737e-132\n",
            "C(strategy3)    28.0  9.432374e+14  3.368705e+13  1.336835   1.117595e-01\n",
            "Residual      2084.0  5.251492e+16  2.519910e+13       NaN            NaN\n"
          ]
        }
      ]
    },
    {
      "cell_type": "markdown",
      "source": [
        "The p-values for strategy 1, startegy 2 and startegy 3  to be less than 0.05 which implies that the means of both the factors possess a statistically significant effect on sales."
      ],
      "metadata": {
        "id": "nB2vBQaRo-KD"
      }
    },
    {
      "cell_type": "markdown",
      "source": [
        "### Further analysis with the Linear Model to predict Sales based on Strategy 1, Strategy 2 and Startegy 3"
      ],
      "metadata": {
        "id": "Rnv8Ty-gqlHK"
      }
    },
    {
      "cell_type": "markdown",
      "source": [
        "#### Startegy 1"
      ],
      "metadata": {
        "id": "uPych0CnrYFp"
      }
    },
    {
      "cell_type": "code",
      "source": [
        "X = dataset[['strategy1']].values #Independent Variable Startegy1\n",
        "y = dataset[['sales']].values #Dependent Variable Sales"
      ],
      "metadata": {
        "id": "7SSx6-cWrAmA"
      },
      "execution_count": 6,
      "outputs": []
    },
    {
      "cell_type": "code",
      "source": [
        "# Splitting the model into training and test set with test size 33.33%\n",
        "from sklearn.model_selection import train_test_split\n",
        "X_train, X_test, y_train, y_test = train_test_split(X, y, test_size = 1/3, random_state = 0)"
      ],
      "metadata": {
        "id": "VHOrAolKryUk"
      },
      "execution_count": 7,
      "outputs": []
    },
    {
      "cell_type": "code",
      "source": [
        "#Applying linear model\n",
        "from sklearn.linear_model import LinearRegression\n",
        "regressor = LinearRegression()\n",
        "regressor.fit(X_train, y_train)"
      ],
      "metadata": {
        "colab": {
          "base_uri": "https://localhost:8080/"
        },
        "id": "CbPp83Jkr1iG",
        "outputId": "b18f69a9-f286-4f8c-eff9-0f7e933c0769"
      },
      "execution_count": 8,
      "outputs": [
        {
          "output_type": "execute_result",
          "data": {
            "text/plain": [
              "LinearRegression()"
            ]
          },
          "metadata": {},
          "execution_count": 8
        }
      ]
    },
    {
      "cell_type": "code",
      "source": [
        "#Predictors\n",
        "y_pred = regressor.predict(X_test)"
      ],
      "metadata": {
        "id": "WCx6Vj2hr4fo"
      },
      "execution_count": 9,
      "outputs": []
    },
    {
      "cell_type": "code",
      "source": [
        "#Visualization on the Training set for Strategy1 and its effect with sales\n",
        "plt.scatter(X_train, y_train, color = 'red')\n",
        "plt.plot(X_train, regressor.predict(X_train), color = 'blue')\n",
        "plt.title('Sales vs Strategy 1 (Training set)')\n",
        "plt.xlabel('Strategy 1')\n",
        "plt.ylabel('Sales')\n",
        "plt.show()"
      ],
      "metadata": {
        "colab": {
          "base_uri": "https://localhost:8080/",
          "height": 295
        },
        "id": "T3D_itRYsIzD",
        "outputId": "bb80a378-0931-490f-aa88-7bc449256bb5"
      },
      "execution_count": 10,
      "outputs": [
        {
          "output_type": "display_data",
          "data": {
            "text/plain": [
              "<Figure size 432x288 with 1 Axes>"
            ],
            "image/png": "[encoded data removed]"
          },
          "metadata": {
            "needs_background": "light"
          }
        }
      ]
    },
    {
      "cell_type": "markdown",
      "source": [
        "#### Strategy 2 "
      ],
      "metadata": {
        "id": "IBdyqEE4tTWk"
      }
    },
    {
      "cell_type": "code",
      "source": [
        "X = dataset[['strategy2']].values  #Independent Variable Startegy2\n",
        "y = dataset[['sales']].values  #Dependent Variable Sales"
      ],
      "metadata": {
        "id": "NkMGd-qDscAF"
      },
      "execution_count": 11,
      "outputs": []
    },
    {
      "cell_type": "code",
      "source": [
        "# Splitting the model into training and test set with test size 33.33%\n",
        "from sklearn.model_selection import train_test_split\n",
        "X_train, X_test, y_train, y_test = train_test_split(X, y, test_size = 1/3, random_state = 0)"
      ],
      "metadata": {
        "id": "JyEHKTcftmjP"
      },
      "execution_count": 12,
      "outputs": []
    },
    {
      "cell_type": "code",
      "source": [
        "#Applying linear model\n",
        "from sklearn.linear_model import LinearRegression\n",
        "regressor = LinearRegression()\n",
        "regressor.fit(X_train, y_train)"
      ],
      "metadata": {
        "colab": {
          "base_uri": "https://localhost:8080/"
        },
        "id": "EQgKKD0ftnGQ",
        "outputId": "82718da7-804f-47c1-d806-836f019fca48"
      },
      "execution_count": 13,
      "outputs": [
        {
          "output_type": "execute_result",
          "data": {
            "text/plain": [
              "LinearRegression()"
            ]
          },
          "metadata": {},
          "execution_count": 13
        }
      ]
    },
    {
      "cell_type": "code",
      "source": [
        "#Predictors\n",
        "y_pred = regressor.predict(X_test)"
      ],
      "metadata": {
        "id": "4B2ZAIV6tqce"
      },
      "execution_count": 14,
      "outputs": []
    },
    {
      "cell_type": "code",
      "source": [
        "#Visualization on the Training set for Strategy2 and its effect with sales\n",
        "plt.scatter(X_train, y_train, color = 'red')\n",
        "plt.plot(X_train, regressor.predict(X_train), color = 'blue')\n",
        "plt.title('Sales vs Strategy 2 (Training set)')\n",
        "plt.xlabel('Strategy 2')\n",
        "plt.ylabel('Sales')\n",
        "plt.show()"
      ],
      "metadata": {
        "colab": {
          "base_uri": "https://localhost:8080/",
          "height": 295
        },
        "id": "ZkbSHpqVtsvQ",
        "outputId": "ab6adfba-13d9-4edb-95a9-379d0bb3de94"
      },
      "execution_count": 15,
      "outputs": [
        {
          "output_type": "display_data",
          "data": {
            "text/plain": [
              "<Figure size 432x288 with 1 Axes>"
            ],
            "image/png": "[encoded data removed]"
          },
          "metadata": {
            "needs_background": "light"
          }
        }
      ]
    },
    {
      "cell_type": "markdown",
      "source": [
        "#### Strategy 3"
      ],
      "metadata": {
        "id": "_SKFCSvdt7x4"
      }
    },
    {
      "cell_type": "code",
      "source": [
        "X = dataset[['strategy3']].values  #Independent Variable Startegy3\n",
        "y = dataset[['sales']].values  #Dependent Variable Sales"
      ],
      "metadata": {
        "id": "EoUe7cMvtwz8"
      },
      "execution_count": 16,
      "outputs": []
    },
    {
      "cell_type": "code",
      "source": [
        "# Splitting the model into training and test set with test size 33.33%\n",
        "from sklearn.model_selection import train_test_split\n",
        "X_train, X_test, y_train, y_test = train_test_split(X, y, test_size = 1/3, random_state = 0)"
      ],
      "metadata": {
        "id": "3vbCU2iCuDpl"
      },
      "execution_count": 17,
      "outputs": []
    },
    {
      "cell_type": "code",
      "source": [
        "#Applying linear model\n",
        "from sklearn.linear_model import LinearRegression\n",
        "regressor = LinearRegression()\n",
        "regressor.fit(X_train, y_train)"
      ],
      "metadata": {
        "colab": {
          "base_uri": "https://localhost:8080/"
        },
        "id": "2r5dlszluEDI",
        "outputId": "fcaedca7-8a5d-4af3-fac5-97d1f4c7402f"
      },
      "execution_count": 18,
      "outputs": [
        {
          "output_type": "execute_result",
          "data": {
            "text/plain": [
              "LinearRegression()"
            ]
          },
          "metadata": {},
          "execution_count": 18
        }
      ]
    },
    {
      "cell_type": "code",
      "source": [
        "#Predictors\n",
        "y_pred = regressor.predict(X_test)"
      ],
      "metadata": {
        "id": "JxI6DyIJuF-r"
      },
      "execution_count": 19,
      "outputs": []
    },
    {
      "cell_type": "code",
      "source": [
        "#Visualization on the Training set for Strategy3 and its effect with sales\n",
        "plt.scatter(X_train, y_train, color = 'red')\n",
        "plt.plot(X_train, regressor.predict(X_train), color = 'blue')\n",
        "plt.title('Sales vs Strategy 3 (Training set)')\n",
        "plt.xlabel('Strategy 3')\n",
        "plt.ylabel('Sales')\n",
        "plt.show()"
      ],
      "metadata": {
        "colab": {
          "base_uri": "https://localhost:8080/",
          "height": 295
        },
        "id": "WthgSNu0uH56",
        "outputId": "1b9a65c2-3e0b-4968-9427-d732a9eb1e65"
      },
      "execution_count": 20,
      "outputs": [
        {
          "output_type": "display_data",
          "data": {
            "text/plain": [
              "<Figure size 432x288 with 1 Axes>"
            ],
            "image/png": "[encoded data removed]"
          },
          "metadata": {
            "needs_background": "light"
          }
        }
      ]
    },
    {
      "cell_type": "markdown",
      "source": [
        "**Conclusion** : Sales moves the most in value with Strategy 1 and Strategy 2, whereas least with strategy 3  "
      ],
      "metadata": {
        "id": "MGRhvRQ4fAkd"
      }
    },
    {
      "cell_type": "markdown",
      "source": [
        "### Checking the change in sales due to a new competitor drug entrance into the market since mid-2015."
      ],
      "metadata": {
        "id": "wIGerO7n0549"
      }
    },
    {
      "cell_type": "code",
      "source": [
        "# Dataset header to select specific variables\n",
        "dataset.columns"
      ],
      "metadata": {
        "colab": {
          "base_uri": "https://localhost:8080/"
        },
        "id": "UEZLXU4UPxlB",
        "outputId": "7a14cd15-025a-4f37-e87f-ed94c79fd808"
      },
      "execution_count": 21,
      "outputs": [
        {
          "output_type": "execute_result",
          "data": {
            "text/plain": [
              "Index(['accID', 'accType', 'accSize', 'accTargets', 'district', 'month',\n",
              "       'sales', 'qty', 'strategy1', 'strategy2', 'strategy3', 'salesVisit1',\n",
              "       'salesVisit2', 'salesVisit3', 'salesVisit4', 'salesVisit5',\n",
              "       'compBrand'],\n",
              "      dtype='object')"
            ]
          },
          "metadata": {},
          "execution_count": 21
        }
      ]
    },
    {
      "cell_type": "code",
      "source": [
        "data = dataset[['month','accType','sales','compBrand','strategy1', 'strategy2', 'strategy3']] #Select the desired columns\n",
        "data_4 = data.groupby('compBrand').get_group(4) # Grouping brands as per four competitors \n",
        "data_5 = data.groupby('compBrand').get_group(5) # Grouping brands as per five competitors "
      ],
      "metadata": {
        "id": "dQagAa60_myn"
      },
      "execution_count": 22,
      "outputs": []
    },
    {
      "cell_type": "code",
      "source": [
        "# Checking the  unique account type\n",
        "data['accType'].unique()"
      ],
      "metadata": {
        "colab": {
          "base_uri": "https://localhost:8080/"
        },
        "id": "Hx-vDBPQCglo",
        "outputId": "48e85f67-9fb3-41f8-92ed-a1ecaa089f10"
      },
      "execution_count": 23,
      "outputs": [
        {
          "output_type": "execute_result",
          "data": {
            "text/plain": [
              "array(['Pharmacy', 'Hospital', 'Polyclinic', 'Private Clinic'],\n",
              "      dtype=object)"
            ]
          },
          "metadata": {},
          "execution_count": 23
        }
      ]
    },
    {
      "cell_type": "code",
      "source": [
        "#Average Sales per Competitive brand for four competition\n",
        "data_avg_4 = data_4.groupby(['accType']).sum() # Finding the sum as per total sales based on account type viz: Hospital, Pharmacy, Polyclinic and Private Clinic\n",
        "data_avg_4[\"Average sales per Competition\"] = data_avg_4['sales']/data_avg_4['compBrand'] # Calculating the total sales average per competition\n",
        "data_avg_4 = data_avg_4.reset_index() # Reset the index\n",
        "data_avg_4"
      ],
      "metadata": {
        "id": "Byui4Bjyaoha",
        "colab": {
          "base_uri": "https://localhost:8080/",
          "height": 175
        },
        "outputId": "339d8be6-140d-4296-bbec-b832b32030dc"
      },
      "execution_count": 24,
      "outputs": [
        {
          "output_type": "execute_result",
          "data": {
            "text/plain": [
              "          accType       sales  compBrand   strategy1    strategy2   strategy3  \\\n",
              "0        Hospital  4949684595       4560  41078472.0  200884961.0  10459369.0   \n",
              "1        Pharmacy  3553851383       1680  43828303.0  134883916.0   4853400.0   \n",
              "2      Polyclinic   190077426       2800   1837846.0   13630317.0         0.0   \n",
              "3  Private Clinic   268921211        880    264256.0   10312106.0     82439.0   \n",
              "\n",
              "   Average sales per Competition  \n",
              "0                   1.085457e+06  \n",
              "1                   2.115388e+06  \n",
              "2                   6.788479e+04  \n",
              "3                   3.055923e+05  "
            ],
            "text/html": [
              "\n",
              "  <div id=\"df-63d51f93-6742-4007-9f01-315e3a7d3d11\">\n",
              "    <div class=\"colab-df-container\">\n",
              "      <div>\n",
              "<style scoped>\n",
              "    .dataframe tbody tr th:only-of-type {\n",
              "        vertical-align: middle;\n",
              "    }\n",
              "\n",
              "    .dataframe tbody tr th {\n",
              "        vertical-align: top;\n",
              "    }\n",
              "\n",
              "    .dataframe thead th {\n",
              "        text-align: right;\n",
              "    }\n",
              "</style>\n",
              "<table border=\"1\" class=\"dataframe\">\n",
              "  <thead>\n",
              "    <tr style=\"text-align: right;\">\n",
              "      <th></th>\n",
              "      <th>accType</th>\n",
              "      <th>sales</th>\n",
              "      <th>compBrand</th>\n",
              "      <th>strategy1</th>\n",
              "      <th>strategy2</th>\n",
              "      <th>strategy3</th>\n",
              "      <th>Average sales per Competition</th>\n",
              "    </tr>\n",
              "  </thead>\n",
              "  <tbody>\n",
              "    <tr>\n",
              "      <th>0</th>\n",
              "      <td>Hospital</td>\n",
              "      <td>4949684595</td>\n",
              "      <td>4560</td>\n",
              "      <td>41078472.0</td>\n",
              "      <td>200884961.0</td>\n",
              "      <td>10459369.0</td>\n",
              "      <td>1.085457e+06</td>\n",
              "    </tr>\n",
              "    <tr>\n",
              "      <th>1</th>\n",
              "      <td>Pharmacy</td>\n",
              "      <td>3553851383</td>\n",
              "      <td>1680</td>\n",
              "      <td>43828303.0</td>\n",
              "      <td>134883916.0</td>\n",
              "      <td>4853400.0</td>\n",
              "      <td>2.115388e+06</td>\n",
              "    </tr>\n",
              "    <tr>\n",
              "      <th>2</th>\n",
              "      <td>Polyclinic</td>\n",
              "      <td>190077426</td>\n",
              "      <td>2800</td>\n",
              "      <td>1837846.0</td>\n",
              "      <td>13630317.0</td>\n",
              "      <td>0.0</td>\n",
              "      <td>6.788479e+04</td>\n",
              "    </tr>\n",
              "    <tr>\n",
              "      <th>3</th>\n",
              "      <td>Private Clinic</td>\n",
              "      <td>268921211</td>\n",
              "      <td>880</td>\n",
              "      <td>264256.0</td>\n",
              "      <td>10312106.0</td>\n",
              "      <td>82439.0</td>\n",
              "      <td>3.055923e+05</td>\n",
              "    </tr>\n",
              "  </tbody>\n",
              "</table>\n",
              "</div>\n",
              "      <button class=\"colab-df-convert\" onclick=\"convertToInteractive('df-63d51f93-6742-4007-9f01-315e3a7d3d11')\"\n",
              "              title=\"Convert this dataframe to an interactive table.\"\n",
              "              style=\"display:none;\">\n",
              "        \n",
              "  <svg xmlns=\"http://www.w3.org/2000/svg\" height=\"24px\"viewBox=\"0 0 24 24\"\n",
              "       width=\"24px\">\n",
              "    <path d=\"M0 0h24v24H0V0z\" fill=\"none\"/>\n",
              "    <path d=\"M18.56 5.44l.94 2.06.94-2.06 2.06-.94-2.06-.94-.94-2.06-.94 2.06-2.06.94zm-11 1L8.5 8.5l.94-2.06 2.06-.94-2.06-.94L8.5 2.5l-.94 2.06-2.06.94zm10 10l.94 2.06.94-2.06 2.06-.94-2.06-.94-.94-2.06-.94 2.06-2.06.94z\"/><path d=\"M17.41 7.96l-1.37-1.37c-.4-.4-.92-.59-1.43-.59-.52 0-1.04.2-1.43.59L10.3 9.45l-7.72 7.72c-.78.78-.78 2.05 0 2.83L4 21.41c.39.39.9.59 1.41.59.51 0 1.02-.2 1.41-.59l7.78-7.78 2.81-2.81c.8-.78.8-2.07 0-2.86zM5.41 20L4 18.59l7.72-7.72 1.47 1.35L5.41 20z\"/>\n",
              "  </svg>\n",
              "      </button>\n",
              "      \n",
              "  <style>\n",
              "    .colab-df-container {\n",
              "      display:flex;\n",
              "      flex-wrap:wrap;\n",
              "      gap: 12px;\n",
              "    }\n",
              "\n",
              "    .colab-df-convert {\n",
              "      background-color: #E8F0FE;\n",
              "      border: none;\n",
              "      border-radius: 50%;\n",
              "      cursor: pointer;\n",
              "      display: none;\n",
              "      fill: #1967D2;\n",
              "      height: 32px;\n",
              "      padding: 0 0 0 0;\n",
              "      width: 32px;\n",
              "    }\n",
              "\n",
              "    .colab-df-convert:hover {\n",
              "      background-color: #E2EBFA;\n",
              "      box-shadow: 0px 1px 2px rgba(60, 64, 67, 0.3), 0px 1px 3px 1px rgba(60, 64, 67, 0.15);\n",
              "      fill: #174EA6;\n",
              "    }\n",
              "\n",
              "    [theme=dark] .colab-df-convert {\n",
              "      background-color: #3B4455;\n",
              "      fill: #D2E3FC;\n",
              "    }\n",
              "\n",
              "    [theme=dark] .colab-df-convert:hover {\n",
              "      background-color: #434B5C;\n",
              "      box-shadow: 0px 1px 3px 1px rgba(0, 0, 0, 0.15);\n",
              "      filter: drop-shadow(0px 1px 2px rgba(0, 0, 0, 0.3));\n",
              "      fill: #FFFFFF;\n",
              "    }\n",
              "  </style>\n",
              "\n",
              "      <script>\n",
              "        const buttonEl =\n",
              "          document.querySelector('#df-63d51f93-6742-4007-9f01-315e3a7d3d11 button.colab-df-convert');\n",
              "        buttonEl.style.display =\n",
              "          google.colab.kernel.accessAllowed ? 'block' : 'none';\n",
              "\n",
              "        async function convertToInteractive(key) {\n",
              "          const element = document.querySelector('#df-63d51f93-6742-4007-9f01-315e3a7d3d11');\n",
              "          const dataTable =\n",
              "            await google.colab.kernel.invokeFunction('convertToInteractive',\n",
              "                                                     [key], {});\n",
              "          if (!dataTable) return;\n",
              "\n",
              "          const docLinkHtml = 'Like what you see? Visit the ' +\n",
              "            '<a target=\"_blank\" href=https://colab.research.google.com/notebooks/data_table.ipynb>data table notebook</a>'\n",
              "            + ' to learn more about interactive tables.';\n",
              "          element.innerHTML = '';\n",
              "          dataTable['output_type'] = 'display_data';\n",
              "          await google.colab.output.renderOutput(dataTable, element);\n",
              "          const docLink = document.createElement('div');\n",
              "          docLink.innerHTML = docLinkHtml;\n",
              "          element.appendChild(docLink);\n",
              "        }\n",
              "      </script>\n",
              "    </div>\n",
              "  </div>\n",
              "  "
            ]
          },
          "metadata": {},
          "execution_count": 24
        }
      ]
    },
    {
      "cell_type": "code",
      "source": [
        "#Average Sales per Competitive brand for five competition\n",
        "data_avg_5 = data_5.groupby(['accType']).sum() # Finding the sum as per total sales based on account type viz: Hospital, Pharmacy, Polyclinic and Private Clinic\n",
        "data_avg_5[\"Average sales per Competition\"] = data_avg_5['sales']/data_avg_5['compBrand'] # Calculating the total sales average per competition\n",
        "data_avg_5 = data_avg_5.reset_index() # Reset the index\n",
        "data_avg_5"
      ],
      "metadata": {
        "colab": {
          "base_uri": "https://localhost:8080/",
          "height": 175
        },
        "id": "L8Cx7Zh0hkjR",
        "outputId": "ef2e1c2b-f35e-4290-aa99-53c64595b518"
      },
      "execution_count": 25,
      "outputs": [
        {
          "output_type": "execute_result",
          "data": {
            "text/plain": [
              "          accType       sales  compBrand  strategy1   strategy2  strategy3  \\\n",
              "0        Hospital  1889906690       1140  4184388.0  59736738.0  4046342.0   \n",
              "1        Pharmacy  1581904543        420  7417608.0  47095630.0   910584.0   \n",
              "2      Polyclinic   153851906        700   501649.0   4187207.0        0.0   \n",
              "3  Private Clinic    63075021        220    54000.0   3642558.0   256615.0   \n",
              "\n",
              "   Average sales per Competition  \n",
              "0                   1.657813e+06  \n",
              "1                   3.766439e+06  \n",
              "2                   2.197884e+05  \n",
              "3                   2.867046e+05  "
            ],
            "text/html": [
              "\n",
              "  <div id=\"df-d02bcf3e-88d0-44ef-a6d1-bd87c2829866\">\n",
              "    <div class=\"colab-df-container\">\n",
              "      <div>\n",
              "<style scoped>\n",
              "    .dataframe tbody tr th:only-of-type {\n",
              "        vertical-align: middle;\n",
              "    }\n",
              "\n",
              "    .dataframe tbody tr th {\n",
              "        vertical-align: top;\n",
              "    }\n",
              "\n",
              "    .dataframe thead th {\n",
              "        text-align: right;\n",
              "    }\n",
              "</style>\n",
              "<table border=\"1\" class=\"dataframe\">\n",
              "  <thead>\n",
              "    <tr style=\"text-align: right;\">\n",
              "      <th></th>\n",
              "      <th>accType</th>\n",
              "      <th>sales</th>\n",
              "      <th>compBrand</th>\n",
              "      <th>strategy1</th>\n",
              "      <th>strategy2</th>\n",
              "      <th>strategy3</th>\n",
              "      <th>Average sales per Competition</th>\n",
              "    </tr>\n",
              "  </thead>\n",
              "  <tbody>\n",
              "    <tr>\n",
              "      <th>0</th>\n",
              "      <td>Hospital</td>\n",
              "      <td>1889906690</td>\n",
              "      <td>1140</td>\n",
              "      <td>4184388.0</td>\n",
              "      <td>59736738.0</td>\n",
              "      <td>4046342.0</td>\n",
              "      <td>1.657813e+06</td>\n",
              "    </tr>\n",
              "    <tr>\n",
              "      <th>1</th>\n",
              "      <td>Pharmacy</td>\n",
              "      <td>1581904543</td>\n",
              "      <td>420</td>\n",
              "      <td>7417608.0</td>\n",
              "      <td>47095630.0</td>\n",
              "      <td>910584.0</td>\n",
              "      <td>3.766439e+06</td>\n",
              "    </tr>\n",
              "    <tr>\n",
              "      <th>2</th>\n",
              "      <td>Polyclinic</td>\n",
              "      <td>153851906</td>\n",
              "      <td>700</td>\n",
              "      <td>501649.0</td>\n",
              "      <td>4187207.0</td>\n",
              "      <td>0.0</td>\n",
              "      <td>2.197884e+05</td>\n",
              "    </tr>\n",
              "    <tr>\n",
              "      <th>3</th>\n",
              "      <td>Private Clinic</td>\n",
              "      <td>63075021</td>\n",
              "      <td>220</td>\n",
              "      <td>54000.0</td>\n",
              "      <td>3642558.0</td>\n",
              "      <td>256615.0</td>\n",
              "      <td>2.867046e+05</td>\n",
              "    </tr>\n",
              "  </tbody>\n",
              "</table>\n",
              "</div>\n",
              "      <button class=\"colab-df-convert\" onclick=\"convertToInteractive('df-d02bcf3e-88d0-44ef-a6d1-bd87c2829866')\"\n",
              "              title=\"Convert this dataframe to an interactive table.\"\n",
              "              style=\"display:none;\">\n",
              "        \n",
              "  <svg xmlns=\"http://www.w3.org/2000/svg\" height=\"24px\"viewBox=\"0 0 24 24\"\n",
              "       width=\"24px\">\n",
              "    <path d=\"M0 0h24v24H0V0z\" fill=\"none\"/>\n",
              "    <path d=\"M18.56 5.44l.94 2.06.94-2.06 2.06-.94-2.06-.94-.94-2.06-.94 2.06-2.06.94zm-11 1L8.5 8.5l.94-2.06 2.06-.94-2.06-.94L8.5 2.5l-.94 2.06-2.06.94zm10 10l.94 2.06.94-2.06 2.06-.94-2.06-.94-.94-2.06-.94 2.06-2.06.94z\"/><path d=\"M17.41 7.96l-1.37-1.37c-.4-.4-.92-.59-1.43-.59-.52 0-1.04.2-1.43.59L10.3 9.45l-7.72 7.72c-.78.78-.78 2.05 0 2.83L4 21.41c.39.39.9.59 1.41.59.51 0 1.02-.2 1.41-.59l7.78-7.78 2.81-2.81c.8-.78.8-2.07 0-2.86zM5.41 20L4 18.59l7.72-7.72 1.47 1.35L5.41 20z\"/>\n",
              "  </svg>\n",
              "      </button>\n",
              "      \n",
              "  <style>\n",
              "    .colab-df-container {\n",
              "      display:flex;\n",
              "      flex-wrap:wrap;\n",
              "      gap: 12px;\n",
              "    }\n",
              "\n",
              "    .colab-df-convert {\n",
              "      background-color: #E8F0FE;\n",
              "      border: none;\n",
              "      border-radius: 50%;\n",
              "      cursor: pointer;\n",
              "      display: none;\n",
              "      fill: #1967D2;\n",
              "      height: 32px;\n",
              "      padding: 0 0 0 0;\n",
              "      width: 32px;\n",
              "    }\n",
              "\n",
              "    .colab-df-convert:hover {\n",
              "      background-color: #E2EBFA;\n",
              "      box-shadow: 0px 1px 2px rgba(60, 64, 67, 0.3), 0px 1px 3px 1px rgba(60, 64, 67, 0.15);\n",
              "      fill: #174EA6;\n",
              "    }\n",
              "\n",
              "    [theme=dark] .colab-df-convert {\n",
              "      background-color: #3B4455;\n",
              "      fill: #D2E3FC;\n",
              "    }\n",
              "\n",
              "    [theme=dark] .colab-df-convert:hover {\n",
              "      background-color: #434B5C;\n",
              "      box-shadow: 0px 1px 3px 1px rgba(0, 0, 0, 0.15);\n",
              "      filter: drop-shadow(0px 1px 2px rgba(0, 0, 0, 0.3));\n",
              "      fill: #FFFFFF;\n",
              "    }\n",
              "  </style>\n",
              "\n",
              "      <script>\n",
              "        const buttonEl =\n",
              "          document.querySelector('#df-d02bcf3e-88d0-44ef-a6d1-bd87c2829866 button.colab-df-convert');\n",
              "        buttonEl.style.display =\n",
              "          google.colab.kernel.accessAllowed ? 'block' : 'none';\n",
              "\n",
              "        async function convertToInteractive(key) {\n",
              "          const element = document.querySelector('#df-d02bcf3e-88d0-44ef-a6d1-bd87c2829866');\n",
              "          const dataTable =\n",
              "            await google.colab.kernel.invokeFunction('convertToInteractive',\n",
              "                                                     [key], {});\n",
              "          if (!dataTable) return;\n",
              "\n",
              "          const docLinkHtml = 'Like what you see? Visit the ' +\n",
              "            '<a target=\"_blank\" href=https://colab.research.google.com/notebooks/data_table.ipynb>data table notebook</a>'\n",
              "            + ' to learn more about interactive tables.';\n",
              "          element.innerHTML = '';\n",
              "          dataTable['output_type'] = 'display_data';\n",
              "          await google.colab.output.renderOutput(dataTable, element);\n",
              "          const docLink = document.createElement('div');\n",
              "          docLink.innerHTML = docLinkHtml;\n",
              "          element.appendChild(docLink);\n",
              "        }\n",
              "      </script>\n",
              "    </div>\n",
              "  </div>\n",
              "  "
            ]
          },
          "metadata": {},
          "execution_count": 25
        }
      ]
    },
    {
      "cell_type": "code",
      "source": [
        "data_sales_difference = data_avg_4[['accType']] #Creating new variable to find the change in sales\n",
        "data_sales_difference[['Total sales difference']] = data_avg_5[['sales']] - data_avg_4[['sales']]  # New variable with total sales differnce \n",
        "data_sales_difference[['Average Sales per Competition difference']] = data_avg_5[['Average sales per Competition']] - data_avg_4[['Average sales per Competition']] # New variable with Average Sales per competition differnce\n",
        "data_sales_difference"
      ],
      "metadata": {
        "colab": {
          "base_uri": "https://localhost:8080/",
          "height": 279
        },
        "id": "1bwSTqGZSnuo",
        "outputId": "8671d65d-69c9-4417-a9cf-f08fc4655af3"
      },
      "execution_count": 26,
      "outputs": [
        {
          "output_type": "stream",
          "name": "stderr",
          "text": [
            "/usr/local/lib/python3.7/dist-packages/pandas/core/frame.py:3641: SettingWithCopyWarning: \n",
            "A value is trying to be set on a copy of a slice from a DataFrame.\n",
            "Try using .loc[row_indexer,col_indexer] = value instead\n",
            "\n",
            "See the caveats in the documentation: https://pandas.pydata.org/pandas-docs/stable/user_guide/indexing.html#returning-a-view-versus-a-copy\n",
            "  self[k1] = value[k2]\n"
          ]
        },
        {
          "output_type": "execute_result",
          "data": {
            "text/plain": [
              "          accType  Total sales difference  \\\n",
              "0        Hospital             -3059777905   \n",
              "1        Pharmacy             -1971946840   \n",
              "2      Polyclinic               -36225520   \n",
              "3  Private Clinic              -205846190   \n",
              "\n",
              "   Average Sales per Competition difference  \n",
              "0                              5.723557e+05  \n",
              "1                              1.651052e+06  \n",
              "2                              1.519036e+05  \n",
              "3                             -1.888764e+04  "
            ],
            "text/html": [
              "\n",
              "  <div id=\"df-58455e93-ad92-4744-8f43-13b94fe654aa\">\n",
              "    <div class=\"colab-df-container\">\n",
              "      <div>\n",
              "<style scoped>\n",
              "    .dataframe tbody tr th:only-of-type {\n",
              "        vertical-align: middle;\n",
              "    }\n",
              "\n",
              "    .dataframe tbody tr th {\n",
              "        vertical-align: top;\n",
              "    }\n",
              "\n",
              "    .dataframe thead th {\n",
              "        text-align: right;\n",
              "    }\n",
              "</style>\n",
              "<table border=\"1\" class=\"dataframe\">\n",
              "  <thead>\n",
              "    <tr style=\"text-align: right;\">\n",
              "      <th></th>\n",
              "      <th>accType</th>\n",
              "      <th>Total sales difference</th>\n",
              "      <th>Average Sales per Competition difference</th>\n",
              "    </tr>\n",
              "  </thead>\n",
              "  <tbody>\n",
              "    <tr>\n",
              "      <th>0</th>\n",
              "      <td>Hospital</td>\n",
              "      <td>-3059777905</td>\n",
              "      <td>5.723557e+05</td>\n",
              "    </tr>\n",
              "    <tr>\n",
              "      <th>1</th>\n",
              "      <td>Pharmacy</td>\n",
              "      <td>-1971946840</td>\n",
              "      <td>1.651052e+06</td>\n",
              "    </tr>\n",
              "    <tr>\n",
              "      <th>2</th>\n",
              "      <td>Polyclinic</td>\n",
              "      <td>-36225520</td>\n",
              "      <td>1.519036e+05</td>\n",
              "    </tr>\n",
              "    <tr>\n",
              "      <th>3</th>\n",
              "      <td>Private Clinic</td>\n",
              "      <td>-205846190</td>\n",
              "      <td>-1.888764e+04</td>\n",
              "    </tr>\n",
              "  </tbody>\n",
              "</table>\n",
              "</div>\n",
              "      <button class=\"colab-df-convert\" onclick=\"convertToInteractive('df-58455e93-ad92-4744-8f43-13b94fe654aa')\"\n",
              "              title=\"Convert this dataframe to an interactive table.\"\n",
              "              style=\"display:none;\">\n",
              "        \n",
              "  <svg xmlns=\"http://www.w3.org/2000/svg\" height=\"24px\"viewBox=\"0 0 24 24\"\n",
              "       width=\"24px\">\n",
              "    <path d=\"M0 0h24v24H0V0z\" fill=\"none\"/>\n",
              "    <path d=\"M18.56 5.44l.94 2.06.94-2.06 2.06-.94-2.06-.94-.94-2.06-.94 2.06-2.06.94zm-11 1L8.5 8.5l.94-2.06 2.06-.94-2.06-.94L8.5 2.5l-.94 2.06-2.06.94zm10 10l.94 2.06.94-2.06 2.06-.94-2.06-.94-.94-2.06-.94 2.06-2.06.94z\"/><path d=\"M17.41 7.96l-1.37-1.37c-.4-.4-.92-.59-1.43-.59-.52 0-1.04.2-1.43.59L10.3 9.45l-7.72 7.72c-.78.78-.78 2.05 0 2.83L4 21.41c.39.39.9.59 1.41.59.51 0 1.02-.2 1.41-.59l7.78-7.78 2.81-2.81c.8-.78.8-2.07 0-2.86zM5.41 20L4 18.59l7.72-7.72 1.47 1.35L5.41 20z\"/>\n",
              "  </svg>\n",
              "      </button>\n",
              "      \n",
              "  <style>\n",
              "    .colab-df-container {\n",
              "      display:flex;\n",
              "      flex-wrap:wrap;\n",
              "      gap: 12px;\n",
              "    }\n",
              "\n",
              "    .colab-df-convert {\n",
              "      background-color: #E8F0FE;\n",
              "      border: none;\n",
              "      border-radius: 50%;\n",
              "      cursor: pointer;\n",
              "      display: none;\n",
              "      fill: #1967D2;\n",
              "      height: 32px;\n",
              "      padding: 0 0 0 0;\n",
              "      width: 32px;\n",
              "    }\n",
              "\n",
              "    .colab-df-convert:hover {\n",
              "      background-color: #E2EBFA;\n",
              "      box-shadow: 0px 1px 2px rgba(60, 64, 67, 0.3), 0px 1px 3px 1px rgba(60, 64, 67, 0.15);\n",
              "      fill: #174EA6;\n",
              "    }\n",
              "\n",
              "    [theme=dark] .colab-df-convert {\n",
              "      background-color: #3B4455;\n",
              "      fill: #D2E3FC;\n",
              "    }\n",
              "\n",
              "    [theme=dark] .colab-df-convert:hover {\n",
              "      background-color: #434B5C;\n",
              "      box-shadow: 0px 1px 3px 1px rgba(0, 0, 0, 0.15);\n",
              "      filter: drop-shadow(0px 1px 2px rgba(0, 0, 0, 0.3));\n",
              "      fill: #FFFFFF;\n",
              "    }\n",
              "  </style>\n",
              "\n",
              "      <script>\n",
              "        const buttonEl =\n",
              "          document.querySelector('#df-58455e93-ad92-4744-8f43-13b94fe654aa button.colab-df-convert');\n",
              "        buttonEl.style.display =\n",
              "          google.colab.kernel.accessAllowed ? 'block' : 'none';\n",
              "\n",
              "        async function convertToInteractive(key) {\n",
              "          const element = document.querySelector('#df-58455e93-ad92-4744-8f43-13b94fe654aa');\n",
              "          const dataTable =\n",
              "            await google.colab.kernel.invokeFunction('convertToInteractive',\n",
              "                                                     [key], {});\n",
              "          if (!dataTable) return;\n",
              "\n",
              "          const docLinkHtml = 'Like what you see? Visit the ' +\n",
              "            '<a target=\"_blank\" href=https://colab.research.google.com/notebooks/data_table.ipynb>data table notebook</a>'\n",
              "            + ' to learn more about interactive tables.';\n",
              "          element.innerHTML = '';\n",
              "          dataTable['output_type'] = 'display_data';\n",
              "          await google.colab.output.renderOutput(dataTable, element);\n",
              "          const docLink = document.createElement('div');\n",
              "          docLink.innerHTML = docLinkHtml;\n",
              "          element.appendChild(docLink);\n",
              "        }\n",
              "      </script>\n",
              "    </div>\n",
              "  </div>\n",
              "  "
            ]
          },
          "metadata": {},
          "execution_count": 26
        }
      ]
    },
    {
      "cell_type": "markdown",
      "source": [
        "Average Sales increment can only be seen in Hospital, Pharmacy, Polyclinic and for the Private Clinic there is a huge dip Average sales with the value approx **188887.64 SGD**  post the new competitor brand since 2015 mid "
      ],
      "metadata": {
        "id": "TgULKF3ynygi"
      }
    },
    {
      "cell_type": "code",
      "source": [
        "# Visualizing the result with Subplots for comparision in Average sales with new competitor\n",
        "# empty canvas of 1 by 2 subplots\n",
        "fig, axes = plt.subplots(nrows=1,ncols=2,figsize = (12,8))\n",
        "\n",
        "axes[0].bar(data_avg_4['accType'],data_avg_4['Average sales per Competition'])\n",
        "axes[0].set_title('Average Sales Per Four Competitors')\n",
        "\n",
        "axes[1].bar(data_avg_5['accType'],data_avg_5['Average sales per Competition'])\n",
        "axes[1].set_title('Average Sales Per Five Competitors after mid 2015')\n",
        "\n",
        "plt.tight_layout()\n",
        "plt.show()"
      ],
      "metadata": {
        "colab": {
          "base_uri": "https://localhost:8080/",
          "height": 585
        },
        "id": "boXa-Hks0ibW",
        "outputId": "0771e026-a91c-48ef-c7b9-f23c6076f3c4"
      },
      "execution_count": 27,
      "outputs": [
        {
          "output_type": "display_data",
          "data": {
            "text/plain": [
              "<Figure size 864x576 with 2 Axes>"
            ],
            "image/png": "[encoded data removed]"
          },
          "metadata": {
            "needs_background": "light"
          }
        }
      ]
    },
    {
      "cell_type": "markdown",
      "source": [
        "### **Optional Challenge**: The business suspects that different accounts may respond differently to different marketing strategies. Further Analysis with different marketing strategies"
      ],
      "metadata": {
        "id": "lUu3RSMfjQp_"
      }
    },
    {
      "cell_type": "code",
      "source": [
        "# Visualizing the marketing expendiure on different Account type based on three strategies for three competitors\n",
        "# empty canvas of 3 by 1 subplots\n",
        "fig, axes = plt.subplots(nrows=3,ncols=1,figsize = (10,8))\n",
        "\n",
        "axes[0].bar(data_avg_4['accType'],data_avg_4['strategy1'])\n",
        "axes[0].set_title('Account Type Behaviour with Strategy1 for 4 competitors')\n",
        "\n",
        "axes[1].bar(data_avg_4['accType'],data_avg_4['strategy2'])\n",
        "axes[1].set_title('Account Type Behaviour with Strategy2 for 4 competitors')\n",
        "\n",
        "axes[2].bar(data_avg_4['accType'],data_avg_4['strategy3'])\n",
        "axes[2].set_title('Account Type Behaviour with Strategy3 for 4 competitors')\n",
        "\n",
        "\n",
        "plt.tight_layout()\n",
        "plt.show()"
      ],
      "metadata": {
        "colab": {
          "base_uri": "https://localhost:8080/",
          "height": 585
        },
        "id": "SlI-RxD5-di0",
        "outputId": "c7ea40d8-fdeb-47f7-8a3a-d1a90ad8a5e5"
      },
      "execution_count": 28,
      "outputs": [
        {
          "output_type": "display_data",
          "data": {
            "text/plain": [
              "<Figure size 720x576 with 3 Axes>"
            ],
            "image/png": "[encoded data removed]"
          },
          "metadata": {
            "needs_background": "light"
          }
        }
      ]
    },
    {
      "cell_type": "markdown",
      "source": [
        "For the above bar plot based on 4 competitors\n",
        "1.   Hospital has the maximum spent on expediture based on startegy 2\n",
        "2.   Pharmacy has the maximum spent on expediture based on startegy 2\n",
        "1.   Polyclinic has the maximum spent on expediture based on startegy 2 and least for strategy 3\n",
        "2.   Private Clinic has the maximum spent on expediture based on startegy 2\n",
        "\n",
        "\n"
      ],
      "metadata": {
        "id": "q1b_m3W7lVmW"
      }
    },
    {
      "cell_type": "code",
      "source": [
        "# Visualizing the marketing expendiure on different Account type based on three strategies for five competitors.\n",
        "# empty canvas of 3 by 1 subplots\n",
        "fig, axes = plt.subplots(nrows=3,ncols=1,figsize = (10,8))\n",
        "\n",
        "axes[0].bar(data_avg_5['accType'],data_avg_5['strategy1'])\n",
        "axes[0].set_title('Account Type Behaviour with Strategy1 for 5 competitors')\n",
        "\n",
        "axes[1].bar(data_avg_5['accType'],data_avg_5['strategy2'])\n",
        "axes[1].set_title('Account Type Behaviour with Strategy2 for 5 competitors')\n",
        "\n",
        "axes[2].bar(data_avg_4['accType'],data_avg_4['strategy3'])\n",
        "axes[2].set_title('Account Type Behaviour with Strategy3 for 5 competitors')\n",
        "\n",
        "plt.tight_layout()\n",
        "plt.show()"
      ],
      "metadata": {
        "colab": {
          "base_uri": "https://localhost:8080/",
          "height": 585
        },
        "id": "nHUmluF0Cmu6",
        "outputId": "bcb4419e-dce0-49e7-f287-befbaae9f017"
      },
      "execution_count": 29,
      "outputs": [
        {
          "output_type": "display_data",
          "data": {
            "text/plain": [
              "<Figure size 720x576 with 3 Axes>"
            ],
            "image/png": "[encoded data removed]"
          },
          "metadata": {
            "needs_background": "light"
          }
        }
      ]
    },
    {
      "cell_type": "markdown",
      "source": [
        "For the above bar plot based on 5 competitors w.e.f. mid 2015.\n",
        "1.   Hospital has the maximum spent on expediture based on startegy 2\n",
        "2.   Pharmacy has the maximum spent on expediture based on startegy 2\n",
        "1.   Polyclinic has the maximum spent on expediture based on startegy 2 and least for strategy 3\n",
        "2.   Private Clinic has the maximum spent on expediture based on startegy 2\n",
        "\n",
        "\n"
      ],
      "metadata": {
        "id": "ZmiA0X8kmhq8"
      }
    },
    {
      "cell_type": "markdown",
      "source": [
        "Hence, we can conclude no change in expediture spending after introducing new competitor since mid 2015"
      ],
      "metadata": {
        "id": "feKGp470m005"
      }
    },
    {
      "cell_type": "markdown",
      "source": [
        "X=X=X=X=X=X=X=X=X=X=X=X=X=X=X=X=X=X=X=X=X=X=X=X=X THE END X=X=X=X=X=X=X=X=X=X=X=X=X=X=X=X=X=X=X=X=X=X=X=X=X"
      ],
      "metadata": {
        "id": "PN4wGksInN1G"
      }
    }
  ]
}