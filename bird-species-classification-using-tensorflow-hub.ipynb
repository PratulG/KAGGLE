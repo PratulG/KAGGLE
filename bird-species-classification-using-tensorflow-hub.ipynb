{
 "cells": [
  {
   "cell_type": "markdown",
   "id": "a6ae6863",
   "metadata": {
    "papermill": {
     "duration": 0.007017,
     "end_time": "2023-06-26T08:34:01.981458",
     "exception": false,
     "start_time": "2023-06-26T08:34:01.974441",
     "status": "completed"
    },
    "tags": []
   },
   "source": [
    "# Bird Species Classification using TensorFlow Hub Model\n",
    "\n",
    "This code performs bird species classification in audio recordings using a TensorFlow Hub model for bird vocalization classification. It uses the BirdCLEF 2023 dataset and employs various functions to load audio files, load the model and labels, frame audio data, resample waveforms, and make predictions.\n",
    "\n",
    "## Functionality\n",
    "\n",
    "- **Load Audio Files**: The `load_audio_files()` function loads and plays audio files from the specified directory.\n",
    "- **Load Model**: The `load_model()` function loads the TensorFlow Hub model and its corresponding labels.\n",
    "- **Class Names from CSV**: The `class_names_from_csv()` function retrieves the list of class names corresponding to the score vector.\n",
    "- **Load Train Metadata**: The `load_train_metadata()` function loads the training metadata, specifically the unique primary labels.\n",
    "- **Frame Audio**: The `frame_audio()` function frames audio data into fixed-size windows for inference.\n",
    "- **Ensure Sample Rate**: The `ensure_sample_rate()` function ensures that the waveform has the desired sample rate.\n",
    "- **Predict for Sample**: The `predict_for_sample()` function predicts the class probabilities for each window of the audio sample.\n",
    "- **Main Function**: The `main()` function orchestrates the entire process, including loading audio files, making predictions, and generating the submission file.\n",
    "\n",
    "## TensorFlow Hub Model - Bird Vocalization Classifier\n",
    "\n",
    "The code utilizes a pre-trained TensorFlow Hub model for bird vocalization classification. The model path and label CSV file are specified to load the model and labels.\n",
    "\n",
    "Important Parameters:\n",
    "- `model_path`: The path to the TensorFlow Hub model for bird vocalization classification.\n",
    "- `labels_path`: The path to the label CSV file corresponding to the model.\n",
    "\n",
    "       +-------------------------+\n",
    "       | TensorFlow Hub Model   |\n",
    "       | (Bird Vocalization     |\n",
    "       | Classification Model)  |\n",
    "       +----------^--------------+\n",
    "                  |\n",
    "                  |\n",
    "       +----------v--------------+\n",
    "       |    Label CSV File       |\n",
    "       +-------------------------+\n"
   ]
  },
  {
   "cell_type": "markdown",
   "id": "c5af3f36",
   "metadata": {
    "papermill": {
     "duration": 0.006271,
     "end_time": "2023-06-26T08:34:01.994263",
     "exception": false,
     "start_time": "2023-06-26T08:34:01.987992",
     "status": "completed"
    },
    "tags": []
   },
   "source": [
    "# Import libraries\n"
   ]
  },
  {
   "cell_type": "code",
   "execution_count": 1,
   "id": "8dad72f0",
   "metadata": {
    "execution": {
     "iopub.execute_input": "2023-06-26T08:34:02.010763Z",
     "iopub.status.busy": "2023-06-26T08:34:02.009769Z",
     "iopub.status.idle": "2023-06-26T08:34:13.614085Z",
     "shell.execute_reply": "2023-06-26T08:34:13.612742Z"
    },
    "papermill": {
     "duration": 11.616286,
     "end_time": "2023-06-26T08:34:13.617256",
     "exception": false,
     "start_time": "2023-06-26T08:34:02.000970",
     "status": "completed"
    },
    "tags": []
   },
   "outputs": [
    {
     "name": "stderr",
     "output_type": "stream",
     "text": [
      "/opt/conda/lib/python3.10/site-packages/tensorflow_io/python/ops/__init__.py:98: UserWarning: unable to load libtensorflow_io_plugins.so: unable to open file: libtensorflow_io_plugins.so, from paths: ['/opt/conda/lib/python3.10/site-packages/tensorflow_io/python/ops/libtensorflow_io_plugins.so']\n",
      "caused by: ['/opt/conda/lib/python3.10/site-packages/tensorflow_io/python/ops/libtensorflow_io_plugins.so: undefined symbol: _ZN3tsl6StatusC1EN10tensorflow5error4CodeESt17basic_string_viewIcSt11char_traitsIcEENS_14SourceLocationE']\n",
      "  warnings.warn(f\"unable to load libtensorflow_io_plugins.so: {e}\")\n",
      "/opt/conda/lib/python3.10/site-packages/tensorflow_io/python/ops/__init__.py:104: UserWarning: file system plugins are not loaded: unable to open file: libtensorflow_io.so, from paths: ['/opt/conda/lib/python3.10/site-packages/tensorflow_io/python/ops/libtensorflow_io.so']\n",
      "caused by: ['/opt/conda/lib/python3.10/site-packages/tensorflow_io/python/ops/libtensorflow_io.so: undefined symbol: _ZTVN10tensorflow13GcsFileSystemE']\n",
      "  warnings.warn(f\"file system plugins are not loaded: {e}\")\n"
     ]
    }
   ],
   "source": [
    "import numpy as np\n",
    "import pandas as pd\n",
    "import librosa\n",
    "import glob\n",
    "import csv\n",
    "import tensorflow as tf\n",
    "import tensorflow_hub as hub\n",
    "from scipy.signal import resample\n",
    "from IPython.display import Audio"
   ]
  },
  {
   "cell_type": "markdown",
   "id": "4d36855f",
   "metadata": {
    "papermill": {
     "duration": 0.00616,
     "end_time": "2023-06-26T08:34:13.629957",
     "exception": false,
     "start_time": "2023-06-26T08:34:13.623797",
     "status": "completed"
    },
    "tags": []
   },
   "source": [
    "# Function to load and play audio files\n"
   ]
  },
  {
   "cell_type": "code",
   "execution_count": 2,
   "id": "854c16a8",
   "metadata": {
    "execution": {
     "iopub.execute_input": "2023-06-26T08:34:13.645865Z",
     "iopub.status.busy": "2023-06-26T08:34:13.644648Z",
     "iopub.status.idle": "2023-06-26T08:34:13.651748Z",
     "shell.execute_reply": "2023-06-26T08:34:13.650659Z"
    },
    "papermill": {
     "duration": 0.01814,
     "end_time": "2023-06-26T08:34:13.654542",
     "exception": false,
     "start_time": "2023-06-26T08:34:13.636402",
     "status": "completed"
    },
    "tags": []
   },
   "outputs": [],
   "source": [
    "def load_audio_files():\n",
    "    # Loading and playing audio files\n",
    "    path = \"/kaggle/input/birdclef-2023/train_audio/\"\n",
    "    bird_species = [\"abethr1/XC128013.ogg\", \"abhori1/XC127317.ogg\", \"edcsun3/XC470591.ogg\"]\n",
    "    \n",
    "    for bird in bird_species:\n",
    "        audio, sr = librosa.load(path + bird)\n",
    "        print(Audio(data=audio, rate=sr))"
   ]
  },
  {
   "cell_type": "markdown",
   "id": "7ca209e5",
   "metadata": {
    "papermill": {
     "duration": 0.008363,
     "end_time": "2023-06-26T08:34:13.669559",
     "exception": false,
     "start_time": "2023-06-26T08:34:13.661196",
     "status": "completed"
    },
    "tags": []
   },
   "source": [
    "# Function to load the model and labels\n"
   ]
  },
  {
   "cell_type": "code",
   "execution_count": 3,
   "id": "f914d592",
   "metadata": {
    "execution": {
     "iopub.execute_input": "2023-06-26T08:34:13.684674Z",
     "iopub.status.busy": "2023-06-26T08:34:13.683709Z",
     "iopub.status.idle": "2023-06-26T08:34:13.690036Z",
     "shell.execute_reply": "2023-06-26T08:34:13.688833Z"
    },
    "papermill": {
     "duration": 0.016572,
     "end_time": "2023-06-26T08:34:13.692460",
     "exception": false,
     "start_time": "2023-06-26T08:34:13.675888",
     "status": "completed"
    },
    "tags": []
   },
   "outputs": [],
   "source": [
    "def load_model():\n",
    "    # Load the model and labels\n",
    "    model_path = '/kaggle/input/bird-vocalization-classifier/tensorflow2/bird-vocalization-classifier/2'\n",
    "    model = hub.load(model_path)\n",
    "    labels_path = hub.resolve(model_path) + \"/assets/label.csv\"\n",
    "    \n",
    "    return model, labels_path"
   ]
  },
  {
   "cell_type": "markdown",
   "id": "3778d2db",
   "metadata": {
    "papermill": {
     "duration": 0.00633,
     "end_time": "2023-06-26T08:34:13.705191",
     "exception": false,
     "start_time": "2023-06-26T08:34:13.698861",
     "status": "completed"
    },
    "tags": []
   },
   "source": [
    "# Function to retrieve class names from a CSV file\n"
   ]
  },
  {
   "cell_type": "code",
   "execution_count": 4,
   "id": "e3dad833",
   "metadata": {
    "execution": {
     "iopub.execute_input": "2023-06-26T08:34:13.720635Z",
     "iopub.status.busy": "2023-06-26T08:34:13.720157Z",
     "iopub.status.idle": "2023-06-26T08:34:13.727611Z",
     "shell.execute_reply": "2023-06-26T08:34:13.726247Z"
    },
    "papermill": {
     "duration": 0.018711,
     "end_time": "2023-06-26T08:34:13.730245",
     "exception": false,
     "start_time": "2023-06-26T08:34:13.711534",
     "status": "completed"
    },
    "tags": []
   },
   "outputs": [],
   "source": [
    "def class_names_from_csv(class_map_csv_text):\n",
    "    # Returns list of class names corresponding to score vector\n",
    "    with open(class_map_csv_text) as csv_file:\n",
    "        csv_reader = csv.reader(csv_file, delimiter=',')\n",
    "        class_names = [mid for mid, desc in csv_reader][1:]\n",
    "    return class_names"
   ]
  },
  {
   "cell_type": "markdown",
   "id": "fa645a1b",
   "metadata": {
    "papermill": {
     "duration": 0.006888,
     "end_time": "2023-06-26T08:34:13.743659",
     "exception": false,
     "start_time": "2023-06-26T08:34:13.736771",
     "status": "completed"
    },
    "tags": []
   },
   "source": [
    "# Function to load the competition classes from the train metadata\n"
   ]
  },
  {
   "cell_type": "code",
   "execution_count": 5,
   "id": "b05a5794",
   "metadata": {
    "execution": {
     "iopub.execute_input": "2023-06-26T08:34:13.759572Z",
     "iopub.status.busy": "2023-06-26T08:34:13.759115Z",
     "iopub.status.idle": "2023-06-26T08:34:13.765384Z",
     "shell.execute_reply": "2023-06-26T08:34:13.764062Z"
    },
    "papermill": {
     "duration": 0.01771,
     "end_time": "2023-06-26T08:34:13.767917",
     "exception": false,
     "start_time": "2023-06-26T08:34:13.750207",
     "status": "completed"
    },
    "tags": []
   },
   "outputs": [],
   "source": [
    "def load_train_metadata():\n",
    "    # Load train metadata\n",
    "    train_metadata = pd.read_csv(\"/kaggle/input/birdclef-2023/train_metadata.csv\")\n",
    "    competition_classes = sorted(train_metadata.primary_label.unique())\n",
    "    return competition_classes"
   ]
  },
  {
   "cell_type": "markdown",
   "id": "6bbaff24",
   "metadata": {
    "papermill": {
     "duration": 0.006221,
     "end_time": "2023-06-26T08:34:13.780556",
     "exception": false,
     "start_time": "2023-06-26T08:34:13.774335",
     "status": "completed"
    },
    "tags": []
   },
   "source": [
    "# Function to frame audio into fixed-size windows\n"
   ]
  },
  {
   "cell_type": "code",
   "execution_count": 6,
   "id": "bd4f787c",
   "metadata": {
    "execution": {
     "iopub.execute_input": "2023-06-26T08:34:13.795909Z",
     "iopub.status.busy": "2023-06-26T08:34:13.795149Z",
     "iopub.status.idle": "2023-06-26T08:34:13.801927Z",
     "shell.execute_reply": "2023-06-26T08:34:13.801034Z"
    },
    "papermill": {
     "duration": 0.017294,
     "end_time": "2023-06-26T08:34:13.804320",
     "exception": false,
     "start_time": "2023-06-26T08:34:13.787026",
     "status": "completed"
    },
    "tags": []
   },
   "outputs": [],
   "source": [
    "def frame_audio(audio_array: np.ndarray, window_size_s: float = 5.0, hop_size_s: float = 5.0, sample_rate=32000) -> np.ndarray:\n",
    "    # Framing audio for inference\n",
    "    if window_size_s is None or window_size_s < 0:\n",
    "        return audio_array[np.newaxis, :]\n",
    "    frame_length = int(window_size_s * sample_rate)\n",
    "    hop_length = int(hop_size_s * sample_rate)\n",
    "    framed_audio = tf.signal.frame(audio_array, frame_length, hop_length, pad_end=True)\n",
    "    return framed_audio"
   ]
  },
  {
   "cell_type": "markdown",
   "id": "381f0a9d",
   "metadata": {
    "papermill": {
     "duration": 0.006108,
     "end_time": "2023-06-26T08:34:13.816802",
     "exception": false,
     "start_time": "2023-06-26T08:34:13.810694",
     "status": "completed"
    },
    "tags": []
   },
   "source": [
    "# Function to ensure the desired sample rate for audio\n"
   ]
  },
  {
   "cell_type": "code",
   "execution_count": 7,
   "id": "b8f06a11",
   "metadata": {
    "execution": {
     "iopub.execute_input": "2023-06-26T08:34:13.831900Z",
     "iopub.status.busy": "2023-06-26T08:34:13.831194Z",
     "iopub.status.idle": "2023-06-26T08:34:13.837528Z",
     "shell.execute_reply": "2023-06-26T08:34:13.836621Z"
    },
    "papermill": {
     "duration": 0.017541,
     "end_time": "2023-06-26T08:34:13.840681",
     "exception": false,
     "start_time": "2023-06-26T08:34:13.823140",
     "status": "completed"
    },
    "tags": []
   },
   "outputs": [],
   "source": [
    "def ensure_sample_rate(waveform, original_sample_rate, desired_sample_rate=32000):\n",
    "    if original_sample_rate != desired_sample_rate:\n",
    "        num_samples = len(waveform)\n",
    "        original_duration = num_samples / original_sample_rate\n",
    "        time_old = np.linspace(0, original_duration, num_samples)\n",
    "        time_new = np.linspace(0, original_duration, int(num_samples * desired_sample_rate / original_sample_rate))\n",
    "        waveform = resample(waveform, int(num_samples * desired_sample_rate / original_sample_rate))\n",
    "        sample_rate = desired_sample_rate\n",
    "    return sample_rate, waveform"
   ]
  },
  {
   "cell_type": "markdown",
   "id": "74735188",
   "metadata": {
    "papermill": {
     "duration": 0.005965,
     "end_time": "2023-06-26T08:34:13.853143",
     "exception": false,
     "start_time": "2023-06-26T08:34:13.847178",
     "status": "completed"
    },
    "tags": []
   },
   "source": [
    "# Function to predict class probabilities for a sample\n"
   ]
  },
  {
   "cell_type": "code",
   "execution_count": 8,
   "id": "92358959",
   "metadata": {
    "execution": {
     "iopub.execute_input": "2023-06-26T08:34:13.868365Z",
     "iopub.status.busy": "2023-06-26T08:34:13.867620Z",
     "iopub.status.idle": "2023-06-26T08:34:13.879677Z",
     "shell.execute_reply": "2023-06-26T08:34:13.878212Z"
    },
    "papermill": {
     "duration": 0.023515,
     "end_time": "2023-06-26T08:34:13.883041",
     "exception": false,
     "start_time": "2023-06-26T08:34:13.859526",
     "status": "completed"
    },
    "tags": []
   },
   "outputs": [],
   "source": [
    "def predict_for_sample(filename, sample_submission, frame_limit_secs=None):\n",
    "    # Get the file ID from the filename\n",
    "    file_id = filename.split(\".ogg\")[0].split(\"/\")[-1]\n",
    "\n",
    "    # Load the audio data and ensure the correct sample rate\n",
    "    audio, sample_rate = librosa.load(filename)\n",
    "    sample_rate, wav_data = ensure_sample_rate(audio, sample_rate)\n",
    "\n",
    "    # Frame the audio data into fixed-size windows\n",
    "    fixed_tm = frame_audio(wav_data)\n",
    "\n",
    "    # Load the model and labels\n",
    "    model, labels_path = load_model()\n",
    "    classes = class_names_from_csv(labels_path)\n",
    "    competition_classes = load_train_metadata()\n",
    "    competition_class_map = [classes.index(c) if c in classes else 0 for c in competition_classes]\n",
    "\n",
    "    # Predict the class probabilities for each window\n",
    "    frame = 5\n",
    "    all_logits, all_embeddings = model.infer_tf(fixed_tm[:1])\n",
    "    for window in fixed_tm[1:]:\n",
    "        if frame_limit_secs and frame > frame_limit_secs:\n",
    "            continue\n",
    "\n",
    "        # Infer the logits and embeddings for the current window\n",
    "        logits, embeddings = model.infer_tf(window[np.newaxis, :])\n",
    "\n",
    "        # Append the logits to the array of all logits\n",
    "        all_logits = np.concatenate([all_logits, logits], axis=0)\n",
    "\n",
    "        # Increment the frame counter\n",
    "        frame += 5\n",
    "\n",
    "    # Convert the logits to probabilities and update the sample submission\n",
    "    frame = 5\n",
    "    for frame_logits in all_logits:\n",
    "        probabilities = tf.nn.softmax(frame_logits).numpy()\n",
    "\n",
    "        # set the appropriate row in the sample submission\n",
    "        sample_submission.loc[sample_submission.row_id == file_id + \"_\" + str(frame), competition_classes] = probabilities[competition_class_map]\n",
    "\n",
    "        # Increment the frame counter\n",
    "        frame += 5"
   ]
  },
  {
   "cell_type": "markdown",
   "id": "a241346b",
   "metadata": {
    "papermill": {
     "duration": 0.005985,
     "end_time": "2023-06-26T08:34:13.895662",
     "exception": false,
     "start_time": "2023-06-26T08:34:13.889677",
     "status": "completed"
    },
    "tags": []
   },
   "source": [
    "# Main function\n"
   ]
  },
  {
   "cell_type": "code",
   "execution_count": 9,
   "id": "fbf9ea01",
   "metadata": {
    "execution": {
     "iopub.execute_input": "2023-06-26T08:34:13.910935Z",
     "iopub.status.busy": "2023-06-26T08:34:13.910168Z",
     "iopub.status.idle": "2023-06-26T08:34:13.917750Z",
     "shell.execute_reply": "2023-06-26T08:34:13.916774Z"
    },
    "papermill": {
     "duration": 0.018294,
     "end_time": "2023-06-26T08:34:13.920276",
     "exception": false,
     "start_time": "2023-06-26T08:34:13.901982",
     "status": "completed"
    },
    "tags": []
   },
   "outputs": [],
   "source": [
    "def main():\n",
    "    # Load the audio files\n",
    "    load_audio_files()\n",
    "\n",
    "    # Load the test samples\n",
    "    test_samples = glob.glob(\"/kaggle/input/birdclef-2023/test_soundscapes/*.ogg\")\n",
    "\n",
    "    # Load the sample submission file\n",
    "    sample_sub = pd.read_csv(\"/kaggle/input/birdclef-2023/sample_submission.csv\")\n",
    "\n",
    "    # Load competition classes\n",
    "    competition_classes = load_train_metadata()\n",
    "\n",
    "    # Set the desired frame limit in seconds\n",
    "    frame_limit_secs = 15 if sample_sub.shape[0] == 3 else None\n",
    "\n",
    "    # Iterate over test samples and make predictions\n",
    "    for sample_filename in test_samples:\n",
    "        predict_for_sample(sample_filename, sample_sub, frame_limit_secs=frame_limit_secs)\n",
    "\n",
    "    # Save the submission file\n",
    "    sample_sub.to_csv(\"submission.csv\", index=False)\n"
   ]
  }
 ],
 "metadata": {
  "kernelspec": {
   "display_name": "Python 3",
   "language": "python",
   "name": "python3"
  },
  "language_info": {
   "codemirror_mode": {
    "name": "ipython",
    "version": 3
   },
   "file_extension": ".py",
   "mimetype": "text/x-python",
   "name": "python",
   "nbconvert_exporter": "python",
   "pygments_lexer": "ipython3",
   "version": "3.10.10"
  },
  "papermill": {
   "default_parameters": {},
   "duration": 28.921954,
   "end_time": "2023-06-26T08:34:17.346058",
   "environment_variables": {},
   "exception": null,
   "input_path": "__notebook__.ipynb",
   "output_path": "__notebook__.ipynb",
   "parameters": {},
   "start_time": "2023-06-26T08:33:48.424104",
   "version": "2.4.0"
  }
 },
 "nbformat": 4,
 "nbformat_minor": 5
}
