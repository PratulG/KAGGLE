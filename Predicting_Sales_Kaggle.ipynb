{
  "nbformat": 4,
  "nbformat_minor": 0,
  "metadata": {
    "colab": {
      "name": "Predicting_Sales_Kaggle.ipynb",
      "provenance": []
    },
    "kernelspec": {
      "name": "python3",
      "display_name": "Python 3"
    },
    "language_info": {
      "name": "python"
    }
  },
  "cells": [
    {
      "cell_type": "markdown",
      "source": [
        "**Data Description**\n",
        "\n",
        "You are provided with daily historical sales data. The task is to forecast the total amount of products sold in every shop for the test set. Note that the list of shops and products slightly changes every month. Creating a robust model that can handle such situations is part of the challenge.\n",
        "\n",
        "**File descriptions**\n",
        "\n",
        "sales_train.csv - the training set. Daily historical data from January 2013 to October 2015.\n",
        "\n",
        "test.csv - the test set. You need to forecast the sales for these shops and products for November 2015.\n",
        "\n",
        "sample_submission.csv - a sample submission file in the correct format.\n",
        "\n",
        "items.csv - supplemental information about the items/products.\n",
        "\n",
        "item_categories.csv  - supplemental information about the items categories.\n",
        "\n",
        "shops.csv- supplemental information about the shops.\n",
        "\n",
        "Data fields\n",
        "\n",
        "ID - an Id that represents a (Shop, Item) tuple within the test set\n",
        "\n",
        "shop_id - unique identifier of a shop\n",
        "\n",
        "item_id - unique identifier of a product\n",
        "\n",
        "item_category_id - unique identifier of item category\n",
        "\n",
        "item_cnt_day - number of products sold. You are predicting a monthly amount of this measure\n",
        "\n",
        "item_price - current price of an item\n",
        "\n",
        "date - date in format dd/mm/yyyy\n",
        "\n",
        "date_block_num - a consecutive month number, used for convenience. January 2013 is 0, February 2013 is 1,..., October 2015 is 33\n",
        "\n",
        "item_name - name of item\n",
        "\n",
        "shop_name - name of shop\n",
        "\n",
        "item_category_name - name of item category\n",
        "\n",
        "This dataset is permitted to be used for any purpose, including commercial use."
      ],
      "metadata": {
        "id": "PyG3JfRsFj-q"
      }
    },
    {
      "cell_type": "code",
      "execution_count": 16,
      "metadata": {
        "id": "tAEAxtdnFQ99"
      },
      "outputs": [],
      "source": [
        "import pandas as pd\n",
        "import numpy as np\n",
        "import warnings\n",
        "warnings.filterwarnings(\"ignore\", category=DeprecationWarning)\n",
        "import matplotlib.pyplot as plt\n",
        "import seaborn as sns"
      ]
    },
    {
      "cell_type": "code",
      "source": [
        "category = pd.read_csv('item_categories.csv')\n",
        "item = pd.read_csv('items.csv')\n",
        "sales = pd.read_csv('sales_train.csv')\n",
        "sample = pd.read_csv('sample_submission.csv')\n",
        "shop = pd.read_csv('shops.csv')\n",
        "test = pd.read_csv('test.csv')\n",
        "sales_train = pd.read_csv('sales_train.csv',index_col='date',parse_dates=True)"
      ],
      "metadata": {
        "id": "LP2YXRKwGLSw"
      },
      "execution_count": 2,
      "outputs": []
    },
    {
      "cell_type": "code",
      "source": [
        "sales_train"
      ],
      "metadata": {
        "colab": {
          "base_uri": "https://localhost:8080/",
          "height": 455
        },
        "id": "xuvz_2ctJCYx",
        "outputId": "1f64420b-e6d1-4c4a-a98d-5ae04a973f2c"
      },
      "execution_count": 3,
      "outputs": [
        {
          "output_type": "execute_result",
          "data": {
            "text/plain": [
              "            date_block_num  shop_id  item_id  item_price  item_cnt_day\n",
              "date                                                                  \n",
              "2013-02-01             0.0     59.0  22154.0      999.00           1.0\n",
              "2013-03-01             0.0     25.0   2552.0      899.00           1.0\n",
              "2013-05-01             0.0     25.0   2552.0      899.00          -1.0\n",
              "2013-06-01             0.0     25.0   2554.0     1709.05           1.0\n",
              "2013-01-15             0.0     25.0   2555.0     1099.00           1.0\n",
              "...                    ...      ...      ...         ...           ...\n",
              "2013-01-27             0.0     51.0  13991.0      161.00           1.0\n",
              "2013-08-01             0.0     51.0  14016.0      161.00           1.0\n",
              "2013-01-24             0.0     51.0  14014.0      161.00           1.0\n",
              "2013-01-13             0.0     51.0  14011.0       65.00           1.0\n",
              "2020-07-01             NaN      NaN      NaN         NaN           NaN\n",
              "\n",
              "[100083 rows x 5 columns]"
            ],
            "text/html": [
              "\n",
              "  <div id=\"df-f0e73c33-7153-420f-90a7-9e09c19e7c80\">\n",
              "    <div class=\"colab-df-container\">\n",
              "      <div>\n",
              "<style scoped>\n",
              "    .dataframe tbody tr th:only-of-type {\n",
              "        vertical-align: middle;\n",
              "    }\n",
              "\n",
              "    .dataframe tbody tr th {\n",
              "        vertical-align: top;\n",
              "    }\n",
              "\n",
              "    .dataframe thead th {\n",
              "        text-align: right;\n",
              "    }\n",
              "</style>\n",
              "<table border=\"1\" class=\"dataframe\">\n",
              "  <thead>\n",
              "    <tr style=\"text-align: right;\">\n",
              "      <th></th>\n",
              "      <th>date_block_num</th>\n",
              "      <th>shop_id</th>\n",
              "      <th>item_id</th>\n",
              "      <th>item_price</th>\n",
              "      <th>item_cnt_day</th>\n",
              "    </tr>\n",
              "    <tr>\n",
              "      <th>date</th>\n",
              "      <th></th>\n",
              "      <th></th>\n",
              "      <th></th>\n",
              "      <th></th>\n",
              "      <th></th>\n",
              "    </tr>\n",
              "  </thead>\n",
              "  <tbody>\n",
              "    <tr>\n",
              "      <th>2013-02-01</th>\n",
              "      <td>0.0</td>\n",
              "      <td>59.0</td>\n",
              "      <td>22154.0</td>\n",
              "      <td>999.00</td>\n",
              "      <td>1.0</td>\n",
              "    </tr>\n",
              "    <tr>\n",
              "      <th>2013-03-01</th>\n",
              "      <td>0.0</td>\n",
              "      <td>25.0</td>\n",
              "      <td>2552.0</td>\n",
              "      <td>899.00</td>\n",
              "      <td>1.0</td>\n",
              "    </tr>\n",
              "    <tr>\n",
              "      <th>2013-05-01</th>\n",
              "      <td>0.0</td>\n",
              "      <td>25.0</td>\n",
              "      <td>2552.0</td>\n",
              "      <td>899.00</td>\n",
              "      <td>-1.0</td>\n",
              "    </tr>\n",
              "    <tr>\n",
              "      <th>2013-06-01</th>\n",
              "      <td>0.0</td>\n",
              "      <td>25.0</td>\n",
              "      <td>2554.0</td>\n",
              "      <td>1709.05</td>\n",
              "      <td>1.0</td>\n",
              "    </tr>\n",
              "    <tr>\n",
              "      <th>2013-01-15</th>\n",
              "      <td>0.0</td>\n",
              "      <td>25.0</td>\n",
              "      <td>2555.0</td>\n",
              "      <td>1099.00</td>\n",
              "      <td>1.0</td>\n",
              "    </tr>\n",
              "    <tr>\n",
              "      <th>...</th>\n",
              "      <td>...</td>\n",
              "      <td>...</td>\n",
              "      <td>...</td>\n",
              "      <td>...</td>\n",
              "      <td>...</td>\n",
              "    </tr>\n",
              "    <tr>\n",
              "      <th>2013-01-27</th>\n",
              "      <td>0.0</td>\n",
              "      <td>51.0</td>\n",
              "      <td>13991.0</td>\n",
              "      <td>161.00</td>\n",
              "      <td>1.0</td>\n",
              "    </tr>\n",
              "    <tr>\n",
              "      <th>2013-08-01</th>\n",
              "      <td>0.0</td>\n",
              "      <td>51.0</td>\n",
              "      <td>14016.0</td>\n",
              "      <td>161.00</td>\n",
              "      <td>1.0</td>\n",
              "    </tr>\n",
              "    <tr>\n",
              "      <th>2013-01-24</th>\n",
              "      <td>0.0</td>\n",
              "      <td>51.0</td>\n",
              "      <td>14014.0</td>\n",
              "      <td>161.00</td>\n",
              "      <td>1.0</td>\n",
              "    </tr>\n",
              "    <tr>\n",
              "      <th>2013-01-13</th>\n",
              "      <td>0.0</td>\n",
              "      <td>51.0</td>\n",
              "      <td>14011.0</td>\n",
              "      <td>65.00</td>\n",
              "      <td>1.0</td>\n",
              "    </tr>\n",
              "    <tr>\n",
              "      <th>2020-07-01</th>\n",
              "      <td>NaN</td>\n",
              "      <td>NaN</td>\n",
              "      <td>NaN</td>\n",
              "      <td>NaN</td>\n",
              "      <td>NaN</td>\n",
              "    </tr>\n",
              "  </tbody>\n",
              "</table>\n",
              "<p>100083 rows × 5 columns</p>\n",
              "</div>\n",
              "      <button class=\"colab-df-convert\" onclick=\"convertToInteractive('df-f0e73c33-7153-420f-90a7-9e09c19e7c80')\"\n",
              "              title=\"Convert this dataframe to an interactive table.\"\n",
              "              style=\"display:none;\">\n",
              "        \n",
              "  <svg xmlns=\"http://www.w3.org/2000/svg\" height=\"24px\"viewBox=\"0 0 24 24\"\n",
              "       width=\"24px\">\n",
              "    <path d=\"M0 0h24v24H0V0z\" fill=\"none\"/>\n",
              "    <path d=\"M18.56 5.44l.94 2.06.94-2.06 2.06-.94-2.06-.94-.94-2.06-.94 2.06-2.06.94zm-11 1L8.5 8.5l.94-2.06 2.06-.94-2.06-.94L8.5 2.5l-.94 2.06-2.06.94zm10 10l.94 2.06.94-2.06 2.06-.94-2.06-.94-.94-2.06-.94 2.06-2.06.94z\"/><path d=\"M17.41 7.96l-1.37-1.37c-.4-.4-.92-.59-1.43-.59-.52 0-1.04.2-1.43.59L10.3 9.45l-7.72 7.72c-.78.78-.78 2.05 0 2.83L4 21.41c.39.39.9.59 1.41.59.51 0 1.02-.2 1.41-.59l7.78-7.78 2.81-2.81c.8-.78.8-2.07 0-2.86zM5.41 20L4 18.59l7.72-7.72 1.47 1.35L5.41 20z\"/>\n",
              "  </svg>\n",
              "      </button>\n",
              "      \n",
              "  <style>\n",
              "    .colab-df-container {\n",
              "      display:flex;\n",
              "      flex-wrap:wrap;\n",
              "      gap: 12px;\n",
              "    }\n",
              "\n",
              "    .colab-df-convert {\n",
              "      background-color: #E8F0FE;\n",
              "      border: none;\n",
              "      border-radius: 50%;\n",
              "      cursor: pointer;\n",
              "      display: none;\n",
              "      fill: #1967D2;\n",
              "      height: 32px;\n",
              "      padding: 0 0 0 0;\n",
              "      width: 32px;\n",
              "    }\n",
              "\n",
              "    .colab-df-convert:hover {\n",
              "      background-color: #E2EBFA;\n",
              "      box-shadow: 0px 1px 2px rgba(60, 64, 67, 0.3), 0px 1px 3px 1px rgba(60, 64, 67, 0.15);\n",
              "      fill: #174EA6;\n",
              "    }\n",
              "\n",
              "    [theme=dark] .colab-df-convert {\n",
              "      background-color: #3B4455;\n",
              "      fill: #D2E3FC;\n",
              "    }\n",
              "\n",
              "    [theme=dark] .colab-df-convert:hover {\n",
              "      background-color: #434B5C;\n",
              "      box-shadow: 0px 1px 3px 1px rgba(0, 0, 0, 0.15);\n",
              "      filter: drop-shadow(0px 1px 2px rgba(0, 0, 0, 0.3));\n",
              "      fill: #FFFFFF;\n",
              "    }\n",
              "  </style>\n",
              "\n",
              "      <script>\n",
              "        const buttonEl =\n",
              "          document.querySelector('#df-f0e73c33-7153-420f-90a7-9e09c19e7c80 button.colab-df-convert');\n",
              "        buttonEl.style.display =\n",
              "          google.colab.kernel.accessAllowed ? 'block' : 'none';\n",
              "\n",
              "        async function convertToInteractive(key) {\n",
              "          const element = document.querySelector('#df-f0e73c33-7153-420f-90a7-9e09c19e7c80');\n",
              "          const dataTable =\n",
              "            await google.colab.kernel.invokeFunction('convertToInteractive',\n",
              "                                                     [key], {});\n",
              "          if (!dataTable) return;\n",
              "\n",
              "          const docLinkHtml = 'Like what you see? Visit the ' +\n",
              "            '<a target=\"_blank\" href=https://colab.research.google.com/notebooks/data_table.ipynb>data table notebook</a>'\n",
              "            + ' to learn more about interactive tables.';\n",
              "          element.innerHTML = '';\n",
              "          dataTable['output_type'] = 'display_data';\n",
              "          await google.colab.output.renderOutput(dataTable, element);\n",
              "          const docLink = document.createElement('div');\n",
              "          docLink.innerHTML = docLinkHtml;\n",
              "          element.appendChild(docLink);\n",
              "        }\n",
              "      </script>\n",
              "    </div>\n",
              "  </div>\n",
              "  "
            ]
          },
          "metadata": {},
          "execution_count": 3
        }
      ]
    },
    {
      "cell_type": "code",
      "source": [
        "print(\"shape info of sales_train: {}\".format(sales_train.shape))\n",
        "print(\"shape info of test: {}\".format(test.shape))\n",
        "print(\"shape info of sample submission {}\".format(sample.shape))\n",
        "print(\"shape info of items {}\".format(item.shape))\n",
        "print(\"shape info of items category {}\".format(category.shape))\n",
        "print(\"shape info of shops {}\".format(shop.shape))"
      ],
      "metadata": {
        "colab": {
          "base_uri": "https://localhost:8080/"
        },
        "id": "ylzIIDs0JpBa",
        "outputId": "095dd26a-3a0f-48b6-ca37-6b04073cf6a0"
      },
      "execution_count": 4,
      "outputs": [
        {
          "output_type": "stream",
          "name": "stdout",
          "text": [
            "shape info of sales_train: (100083, 5)\n",
            "shape info of test: (214200, 3)\n",
            "shape info of sample submission (214200, 2)\n",
            "shape info of items (22170, 3)\n",
            "shape info of items category (84, 2)\n",
            "shape info of shops (60, 2)\n"
          ]
        }
      ]
    },
    {
      "cell_type": "code",
      "source": [
        "print(sales_train.head())\n",
        "print('\\n')\n",
        "print(test.head())\n",
        "print('\\n')\n",
        "print(item.head())\n",
        "print('\\n')\n",
        "print(category.head())\n",
        "print('\\n')\n",
        "print(shop.head())\n",
        "print('\\n')"
      ],
      "metadata": {
        "colab": {
          "base_uri": "https://localhost:8080/"
        },
        "id": "7Va6qzgKKDiG",
        "outputId": "b81b9a60-7667-4c26-ea22-100e3a323519"
      },
      "execution_count": 5,
      "outputs": [
        {
          "output_type": "stream",
          "name": "stdout",
          "text": [
            "            date_block_num  shop_id  item_id  item_price  item_cnt_day\n",
            "date                                                                  \n",
            "2013-02-01             0.0     59.0  22154.0      999.00           1.0\n",
            "2013-03-01             0.0     25.0   2552.0      899.00           1.0\n",
            "2013-05-01             0.0     25.0   2552.0      899.00          -1.0\n",
            "2013-06-01             0.0     25.0   2554.0     1709.05           1.0\n",
            "2013-01-15             0.0     25.0   2555.0     1099.00           1.0\n",
            "\n",
            "\n",
            "   ID  shop_id  item_id\n",
            "0   0        5     5037\n",
            "1   1        5     5320\n",
            "2   2        5     5233\n",
            "3   3        5     5232\n",
            "4   4        5     5268\n",
            "\n",
            "\n",
            "                                           item_name  item_id  \\\n",
            "0          ! ВО ВЛАСТИ НАВАЖДЕНИЯ (ПЛАСТ.)         D        0   \n",
            "1  !ABBYY FineReader 12 Professional Edition Full...        1   \n",
            "2      ***В ЛУЧАХ СЛАВЫ   (UNV)                    D        2   \n",
            "3    ***ГОЛУБАЯ ВОЛНА  (Univ)                      D        3   \n",
            "4        ***КОРОБКА (СТЕКЛО)                       D        4   \n",
            "\n",
            "   item_category_id  \n",
            "0                40  \n",
            "1                76  \n",
            "2                40  \n",
            "3                40  \n",
            "4                40  \n",
            "\n",
            "\n",
            "        item_category_name  item_category_id\n",
            "0  PC - Гарнитуры/Наушники                 0\n",
            "1         Аксессуары - PS2                 1\n",
            "2         Аксессуары - PS3                 2\n",
            "3         Аксессуары - PS4                 3\n",
            "4         Аксессуары - PSP                 4\n",
            "\n",
            "\n",
            "                        shop_name  shop_id\n",
            "0   !Якутск Орджоникидзе, 56 фран        0\n",
            "1   !Якутск ТЦ \"Центральный\" фран        1\n",
            "2                Адыгея ТЦ \"Мега\"        2\n",
            "3  Балашиха ТРК \"Октябрь-Киномир\"        3\n",
            "4        Волжский ТЦ \"Волга Молл\"        4\n",
            "\n",
            "\n"
          ]
        }
      ]
    },
    {
      "cell_type": "code",
      "source": [
        "print(sales_train.isna().sum())\n",
        "print('\\n')\n",
        "print(test.isna().sum())\n",
        "print('\\n')\n",
        "print(item.isna().sum())\n",
        "print('\\n')\n",
        "print(category.isna().sum())\n",
        "print('\\n')\n",
        "print(shop.isna().sum())\n",
        "print('\\n')"
      ],
      "metadata": {
        "colab": {
          "base_uri": "https://localhost:8080/"
        },
        "id": "mg95PI0iKPcY",
        "outputId": "645b3384-1fce-42ab-ac1f-7efdcbda2a89"
      },
      "execution_count": 6,
      "outputs": [
        {
          "output_type": "stream",
          "name": "stdout",
          "text": [
            "date_block_num    1\n",
            "shop_id           1\n",
            "item_id           1\n",
            "item_price        1\n",
            "item_cnt_day      1\n",
            "dtype: int64\n",
            "\n",
            "\n",
            "ID         0\n",
            "shop_id    0\n",
            "item_id    0\n",
            "dtype: int64\n",
            "\n",
            "\n",
            "item_name           0\n",
            "item_id             0\n",
            "item_category_id    0\n",
            "dtype: int64\n",
            "\n",
            "\n",
            "item_category_name    0\n",
            "item_category_id      0\n",
            "dtype: int64\n",
            "\n",
            "\n",
            "shop_name    0\n",
            "shop_id      0\n",
            "dtype: int64\n",
            "\n",
            "\n"
          ]
        }
      ]
    },
    {
      "cell_type": "code",
      "source": [
        "items_merged=pd.merge(item,category,on='item_category_id')\n",
        "items_merged"
      ],
      "metadata": {
        "colab": {
          "base_uri": "https://localhost:8080/",
          "height": 423
        },
        "id": "5IKwgUnbKyDR",
        "outputId": "5e6907f1-7915-432e-ec20-aade2ffa2b45"
      },
      "execution_count": 7,
      "outputs": [
        {
          "output_type": "execute_result",
          "data": {
            "text/plain": [
              "                                               item_name  item_id  \\\n",
              "0              ! ВО ВЛАСТИ НАВАЖДЕНИЯ (ПЛАСТ.)         D        0   \n",
              "1          ***В ЛУЧАХ СЛАВЫ   (UNV)                    D        2   \n",
              "2        ***ГОЛУБАЯ ВОЛНА  (Univ)                      D        3   \n",
              "3            ***КОРОБКА (СТЕКЛО)                       D        4   \n",
              "4      ***НОВЫЕ АМЕРИКАНСКИЕ ГРАФФИТИ  (UNI)         ...        5   \n",
              "...                                                  ...      ...   \n",
              "22165  Элемент питания GP 15AU (LR6) - Блистер 2 шт U...    22095   \n",
              "22166       Элемент питания GP 24A (LR03) - Блистер 2 шт    22096   \n",
              "22167  Элемент питания GP 24AU (LR03) - Блистер 2 шт ...    22097   \n",
              "22168                   Элемент питания КОСМОС LR03 2*BL    22098   \n",
              "22169  Элемент питания СТАРТ ZT 15A (LR6) - Блистер 2 шт    22099   \n",
              "\n",
              "       item_category_id item_category_name  \n",
              "0                    40         Кино - DVD  \n",
              "1                    40         Кино - DVD  \n",
              "2                    40         Кино - DVD  \n",
              "3                    40         Кино - DVD  \n",
              "4                    40         Кино - DVD  \n",
              "...                 ...                ...  \n",
              "22165                83   Элементы питания  \n",
              "22166                83   Элементы питания  \n",
              "22167                83   Элементы питания  \n",
              "22168                83   Элементы питания  \n",
              "22169                83   Элементы питания  \n",
              "\n",
              "[22170 rows x 4 columns]"
            ],
            "text/html": [
              "\n",
              "  <div id=\"df-496ab3fd-963b-44a7-ba13-bafa84f325f2\">\n",
              "    <div class=\"colab-df-container\">\n",
              "      <div>\n",
              "<style scoped>\n",
              "    .dataframe tbody tr th:only-of-type {\n",
              "        vertical-align: middle;\n",
              "    }\n",
              "\n",
              "    .dataframe tbody tr th {\n",
              "        vertical-align: top;\n",
              "    }\n",
              "\n",
              "    .dataframe thead th {\n",
              "        text-align: right;\n",
              "    }\n",
              "</style>\n",
              "<table border=\"1\" class=\"dataframe\">\n",
              "  <thead>\n",
              "    <tr style=\"text-align: right;\">\n",
              "      <th></th>\n",
              "      <th>item_name</th>\n",
              "      <th>item_id</th>\n",
              "      <th>item_category_id</th>\n",
              "      <th>item_category_name</th>\n",
              "    </tr>\n",
              "  </thead>\n",
              "  <tbody>\n",
              "    <tr>\n",
              "      <th>0</th>\n",
              "      <td>! ВО ВЛАСТИ НАВАЖДЕНИЯ (ПЛАСТ.)         D</td>\n",
              "      <td>0</td>\n",
              "      <td>40</td>\n",
              "      <td>Кино - DVD</td>\n",
              "    </tr>\n",
              "    <tr>\n",
              "      <th>1</th>\n",
              "      <td>***В ЛУЧАХ СЛАВЫ   (UNV)                    D</td>\n",
              "      <td>2</td>\n",
              "      <td>40</td>\n",
              "      <td>Кино - DVD</td>\n",
              "    </tr>\n",
              "    <tr>\n",
              "      <th>2</th>\n",
              "      <td>***ГОЛУБАЯ ВОЛНА  (Univ)                      D</td>\n",
              "      <td>3</td>\n",
              "      <td>40</td>\n",
              "      <td>Кино - DVD</td>\n",
              "    </tr>\n",
              "    <tr>\n",
              "      <th>3</th>\n",
              "      <td>***КОРОБКА (СТЕКЛО)                       D</td>\n",
              "      <td>4</td>\n",
              "      <td>40</td>\n",
              "      <td>Кино - DVD</td>\n",
              "    </tr>\n",
              "    <tr>\n",
              "      <th>4</th>\n",
              "      <td>***НОВЫЕ АМЕРИКАНСКИЕ ГРАФФИТИ  (UNI)         ...</td>\n",
              "      <td>5</td>\n",
              "      <td>40</td>\n",
              "      <td>Кино - DVD</td>\n",
              "    </tr>\n",
              "    <tr>\n",
              "      <th>...</th>\n",
              "      <td>...</td>\n",
              "      <td>...</td>\n",
              "      <td>...</td>\n",
              "      <td>...</td>\n",
              "    </tr>\n",
              "    <tr>\n",
              "      <th>22165</th>\n",
              "      <td>Элемент питания GP 15AU (LR6) - Блистер 2 шт U...</td>\n",
              "      <td>22095</td>\n",
              "      <td>83</td>\n",
              "      <td>Элементы питания</td>\n",
              "    </tr>\n",
              "    <tr>\n",
              "      <th>22166</th>\n",
              "      <td>Элемент питания GP 24A (LR03) - Блистер 2 шт</td>\n",
              "      <td>22096</td>\n",
              "      <td>83</td>\n",
              "      <td>Элементы питания</td>\n",
              "    </tr>\n",
              "    <tr>\n",
              "      <th>22167</th>\n",
              "      <td>Элемент питания GP 24AU (LR03) - Блистер 2 шт ...</td>\n",
              "      <td>22097</td>\n",
              "      <td>83</td>\n",
              "      <td>Элементы питания</td>\n",
              "    </tr>\n",
              "    <tr>\n",
              "      <th>22168</th>\n",
              "      <td>Элемент питания КОСМОС LR03 2*BL</td>\n",
              "      <td>22098</td>\n",
              "      <td>83</td>\n",
              "      <td>Элементы питания</td>\n",
              "    </tr>\n",
              "    <tr>\n",
              "      <th>22169</th>\n",
              "      <td>Элемент питания СТАРТ ZT 15A (LR6) - Блистер 2 шт</td>\n",
              "      <td>22099</td>\n",
              "      <td>83</td>\n",
              "      <td>Элементы питания</td>\n",
              "    </tr>\n",
              "  </tbody>\n",
              "</table>\n",
              "<p>22170 rows × 4 columns</p>\n",
              "</div>\n",
              "      <button class=\"colab-df-convert\" onclick=\"convertToInteractive('df-496ab3fd-963b-44a7-ba13-bafa84f325f2')\"\n",
              "              title=\"Convert this dataframe to an interactive table.\"\n",
              "              style=\"display:none;\">\n",
              "        \n",
              "  <svg xmlns=\"http://www.w3.org/2000/svg\" height=\"24px\"viewBox=\"0 0 24 24\"\n",
              "       width=\"24px\">\n",
              "    <path d=\"M0 0h24v24H0V0z\" fill=\"none\"/>\n",
              "    <path d=\"M18.56 5.44l.94 2.06.94-2.06 2.06-.94-2.06-.94-.94-2.06-.94 2.06-2.06.94zm-11 1L8.5 8.5l.94-2.06 2.06-.94-2.06-.94L8.5 2.5l-.94 2.06-2.06.94zm10 10l.94 2.06.94-2.06 2.06-.94-2.06-.94-.94-2.06-.94 2.06-2.06.94z\"/><path d=\"M17.41 7.96l-1.37-1.37c-.4-.4-.92-.59-1.43-.59-.52 0-1.04.2-1.43.59L10.3 9.45l-7.72 7.72c-.78.78-.78 2.05 0 2.83L4 21.41c.39.39.9.59 1.41.59.51 0 1.02-.2 1.41-.59l7.78-7.78 2.81-2.81c.8-.78.8-2.07 0-2.86zM5.41 20L4 18.59l7.72-7.72 1.47 1.35L5.41 20z\"/>\n",
              "  </svg>\n",
              "      </button>\n",
              "      \n",
              "  <style>\n",
              "    .colab-df-container {\n",
              "      display:flex;\n",
              "      flex-wrap:wrap;\n",
              "      gap: 12px;\n",
              "    }\n",
              "\n",
              "    .colab-df-convert {\n",
              "      background-color: #E8F0FE;\n",
              "      border: none;\n",
              "      border-radius: 50%;\n",
              "      cursor: pointer;\n",
              "      display: none;\n",
              "      fill: #1967D2;\n",
              "      height: 32px;\n",
              "      padding: 0 0 0 0;\n",
              "      width: 32px;\n",
              "    }\n",
              "\n",
              "    .colab-df-convert:hover {\n",
              "      background-color: #E2EBFA;\n",
              "      box-shadow: 0px 1px 2px rgba(60, 64, 67, 0.3), 0px 1px 3px 1px rgba(60, 64, 67, 0.15);\n",
              "      fill: #174EA6;\n",
              "    }\n",
              "\n",
              "    [theme=dark] .colab-df-convert {\n",
              "      background-color: #3B4455;\n",
              "      fill: #D2E3FC;\n",
              "    }\n",
              "\n",
              "    [theme=dark] .colab-df-convert:hover {\n",
              "      background-color: #434B5C;\n",
              "      box-shadow: 0px 1px 3px 1px rgba(0, 0, 0, 0.15);\n",
              "      filter: drop-shadow(0px 1px 2px rgba(0, 0, 0, 0.3));\n",
              "      fill: #FFFFFF;\n",
              "    }\n",
              "  </style>\n",
              "\n",
              "      <script>\n",
              "        const buttonEl =\n",
              "          document.querySelector('#df-496ab3fd-963b-44a7-ba13-bafa84f325f2 button.colab-df-convert');\n",
              "        buttonEl.style.display =\n",
              "          google.colab.kernel.accessAllowed ? 'block' : 'none';\n",
              "\n",
              "        async function convertToInteractive(key) {\n",
              "          const element = document.querySelector('#df-496ab3fd-963b-44a7-ba13-bafa84f325f2');\n",
              "          const dataTable =\n",
              "            await google.colab.kernel.invokeFunction('convertToInteractive',\n",
              "                                                     [key], {});\n",
              "          if (!dataTable) return;\n",
              "\n",
              "          const docLinkHtml = 'Like what you see? Visit the ' +\n",
              "            '<a target=\"_blank\" href=https://colab.research.google.com/notebooks/data_table.ipynb>data table notebook</a>'\n",
              "            + ' to learn more about interactive tables.';\n",
              "          element.innerHTML = '';\n",
              "          dataTable['output_type'] = 'display_data';\n",
              "          await google.colab.output.renderOutput(dataTable, element);\n",
              "          const docLink = document.createElement('div');\n",
              "          docLink.innerHTML = docLinkHtml;\n",
              "          element.appendChild(docLink);\n",
              "        }\n",
              "      </script>\n",
              "    </div>\n",
              "  </div>\n",
              "  "
            ]
          },
          "metadata": {},
          "execution_count": 7
        }
      ]
    },
    {
      "cell_type": "code",
      "source": [
        "sales_train_merged=pd.merge(sales_train,shop,on='shop_id')\n",
        "sales_train_merged=pd.merge(sales_train_merged,items_merged,on='item_id')\n",
        "sales_train_merged"
      ],
      "metadata": {
        "colab": {
          "base_uri": "https://localhost:8080/",
          "height": 641
        },
        "id": "_xFASCCkMprw",
        "outputId": "1772ee88-5cc7-47a4-b2c8-852616533ad0"
      },
      "execution_count": 8,
      "outputs": [
        {
          "output_type": "execute_result",
          "data": {
            "text/plain": [
              "        date_block_num  shop_id  item_id  item_price  item_cnt_day  \\\n",
              "0                  0.0     59.0  22154.0       999.0           1.0   \n",
              "1                  0.0     25.0  22154.0       999.0           1.0   \n",
              "2                  0.0     25.0  22154.0       999.0           1.0   \n",
              "3                  0.0     25.0  22154.0       999.0           1.0   \n",
              "4                  0.0     25.0  22154.0       999.0           1.0   \n",
              "...                ...      ...      ...         ...           ...   \n",
              "100077             0.0     52.0  20282.0        58.0           1.0   \n",
              "100078             0.0     51.0  19676.0       321.0           1.0   \n",
              "100079             0.0     51.0  20318.0        93.0           1.0   \n",
              "100080             0.0     51.0   1667.0       190.0           1.0   \n",
              "100081             0.0     51.0     84.0        69.0           1.0   \n",
              "\n",
              "                        shop_name                  item_name  \\\n",
              "0          Ярославль ТЦ \"Альтаир\"          ЯВЛЕНИЕ 2012 (BD)   \n",
              "1             Москва ТРК \"Атриум\"          ЯВЛЕНИЕ 2012 (BD)   \n",
              "2             Москва ТРК \"Атриум\"          ЯВЛЕНИЕ 2012 (BD)   \n",
              "3             Москва ТРК \"Атриум\"          ЯВЛЕНИЕ 2012 (BD)   \n",
              "4             Москва ТРК \"Атриум\"          ЯВЛЕНИЕ 2012 (BD)   \n",
              "...                           ...                        ...   \n",
              "100077       Уфа ТК \"Центральный\"                      ФИРМА   \n",
              "100078  Тюмень ТЦ \"Зеленый Берег\"      ТИТАНИК (Кармен) (BD)   \n",
              "100079  Тюмень ТЦ \"Зеленый Берег\"            ФРЕНКИ И ДЖОННИ   \n",
              "100080  Тюмень ТЦ \"Зеленый Берег\"  BENSON GEORGE  Guitar Man   \n",
              "100081  Тюмень ТЦ \"Зеленый Берег\"                  127 ЧАСОВ   \n",
              "\n",
              "        item_category_id                   item_category_name  \n",
              "0                     37                       Кино - Blu-Ray  \n",
              "1                     37                       Кино - Blu-Ray  \n",
              "2                     37                       Кино - Blu-Ray  \n",
              "3                     37                       Кино - Blu-Ray  \n",
              "4                     37                       Кино - Blu-Ray  \n",
              "...                  ...                                  ...  \n",
              "100077                40                           Кино - DVD  \n",
              "100078                37                       Кино - Blu-Ray  \n",
              "100079                40                           Кино - DVD  \n",
              "100080                55  Музыка - CD локального производства  \n",
              "100081                40                           Кино - DVD  \n",
              "\n",
              "[100082 rows x 9 columns]"
            ],
            "text/html": [
              "\n",
              "  <div id=\"df-a89586e3-eded-4f07-bea7-37a94a1df61c\">\n",
              "    <div class=\"colab-df-container\">\n",
              "      <div>\n",
              "<style scoped>\n",
              "    .dataframe tbody tr th:only-of-type {\n",
              "        vertical-align: middle;\n",
              "    }\n",
              "\n",
              "    .dataframe tbody tr th {\n",
              "        vertical-align: top;\n",
              "    }\n",
              "\n",
              "    .dataframe thead th {\n",
              "        text-align: right;\n",
              "    }\n",
              "</style>\n",
              "<table border=\"1\" class=\"dataframe\">\n",
              "  <thead>\n",
              "    <tr style=\"text-align: right;\">\n",
              "      <th></th>\n",
              "      <th>date_block_num</th>\n",
              "      <th>shop_id</th>\n",
              "      <th>item_id</th>\n",
              "      <th>item_price</th>\n",
              "      <th>item_cnt_day</th>\n",
              "      <th>shop_name</th>\n",
              "      <th>item_name</th>\n",
              "      <th>item_category_id</th>\n",
              "      <th>item_category_name</th>\n",
              "    </tr>\n",
              "  </thead>\n",
              "  <tbody>\n",
              "    <tr>\n",
              "      <th>0</th>\n",
              "      <td>0.0</td>\n",
              "      <td>59.0</td>\n",
              "      <td>22154.0</td>\n",
              "      <td>999.0</td>\n",
              "      <td>1.0</td>\n",
              "      <td>Ярославль ТЦ \"Альтаир\"</td>\n",
              "      <td>ЯВЛЕНИЕ 2012 (BD)</td>\n",
              "      <td>37</td>\n",
              "      <td>Кино - Blu-Ray</td>\n",
              "    </tr>\n",
              "    <tr>\n",
              "      <th>1</th>\n",
              "      <td>0.0</td>\n",
              "      <td>25.0</td>\n",
              "      <td>22154.0</td>\n",
              "      <td>999.0</td>\n",
              "      <td>1.0</td>\n",
              "      <td>Москва ТРК \"Атриум\"</td>\n",
              "      <td>ЯВЛЕНИЕ 2012 (BD)</td>\n",
              "      <td>37</td>\n",
              "      <td>Кино - Blu-Ray</td>\n",
              "    </tr>\n",
              "    <tr>\n",
              "      <th>2</th>\n",
              "      <td>0.0</td>\n",
              "      <td>25.0</td>\n",
              "      <td>22154.0</td>\n",
              "      <td>999.0</td>\n",
              "      <td>1.0</td>\n",
              "      <td>Москва ТРК \"Атриум\"</td>\n",
              "      <td>ЯВЛЕНИЕ 2012 (BD)</td>\n",
              "      <td>37</td>\n",
              "      <td>Кино - Blu-Ray</td>\n",
              "    </tr>\n",
              "    <tr>\n",
              "      <th>3</th>\n",
              "      <td>0.0</td>\n",
              "      <td>25.0</td>\n",
              "      <td>22154.0</td>\n",
              "      <td>999.0</td>\n",
              "      <td>1.0</td>\n",
              "      <td>Москва ТРК \"Атриум\"</td>\n",
              "      <td>ЯВЛЕНИЕ 2012 (BD)</td>\n",
              "      <td>37</td>\n",
              "      <td>Кино - Blu-Ray</td>\n",
              "    </tr>\n",
              "    <tr>\n",
              "      <th>4</th>\n",
              "      <td>0.0</td>\n",
              "      <td>25.0</td>\n",
              "      <td>22154.0</td>\n",
              "      <td>999.0</td>\n",
              "      <td>1.0</td>\n",
              "      <td>Москва ТРК \"Атриум\"</td>\n",
              "      <td>ЯВЛЕНИЕ 2012 (BD)</td>\n",
              "      <td>37</td>\n",
              "      <td>Кино - Blu-Ray</td>\n",
              "    </tr>\n",
              "    <tr>\n",
              "      <th>...</th>\n",
              "      <td>...</td>\n",
              "      <td>...</td>\n",
              "      <td>...</td>\n",
              "      <td>...</td>\n",
              "      <td>...</td>\n",
              "      <td>...</td>\n",
              "      <td>...</td>\n",
              "      <td>...</td>\n",
              "      <td>...</td>\n",
              "    </tr>\n",
              "    <tr>\n",
              "      <th>100077</th>\n",
              "      <td>0.0</td>\n",
              "      <td>52.0</td>\n",
              "      <td>20282.0</td>\n",
              "      <td>58.0</td>\n",
              "      <td>1.0</td>\n",
              "      <td>Уфа ТК \"Центральный\"</td>\n",
              "      <td>ФИРМА</td>\n",
              "      <td>40</td>\n",
              "      <td>Кино - DVD</td>\n",
              "    </tr>\n",
              "    <tr>\n",
              "      <th>100078</th>\n",
              "      <td>0.0</td>\n",
              "      <td>51.0</td>\n",
              "      <td>19676.0</td>\n",
              "      <td>321.0</td>\n",
              "      <td>1.0</td>\n",
              "      <td>Тюмень ТЦ \"Зеленый Берег\"</td>\n",
              "      <td>ТИТАНИК (Кармен) (BD)</td>\n",
              "      <td>37</td>\n",
              "      <td>Кино - Blu-Ray</td>\n",
              "    </tr>\n",
              "    <tr>\n",
              "      <th>100079</th>\n",
              "      <td>0.0</td>\n",
              "      <td>51.0</td>\n",
              "      <td>20318.0</td>\n",
              "      <td>93.0</td>\n",
              "      <td>1.0</td>\n",
              "      <td>Тюмень ТЦ \"Зеленый Берег\"</td>\n",
              "      <td>ФРЕНКИ И ДЖОННИ</td>\n",
              "      <td>40</td>\n",
              "      <td>Кино - DVD</td>\n",
              "    </tr>\n",
              "    <tr>\n",
              "      <th>100080</th>\n",
              "      <td>0.0</td>\n",
              "      <td>51.0</td>\n",
              "      <td>1667.0</td>\n",
              "      <td>190.0</td>\n",
              "      <td>1.0</td>\n",
              "      <td>Тюмень ТЦ \"Зеленый Берег\"</td>\n",
              "      <td>BENSON GEORGE  Guitar Man</td>\n",
              "      <td>55</td>\n",
              "      <td>Музыка - CD локального производства</td>\n",
              "    </tr>\n",
              "    <tr>\n",
              "      <th>100081</th>\n",
              "      <td>0.0</td>\n",
              "      <td>51.0</td>\n",
              "      <td>84.0</td>\n",
              "      <td>69.0</td>\n",
              "      <td>1.0</td>\n",
              "      <td>Тюмень ТЦ \"Зеленый Берег\"</td>\n",
              "      <td>127 ЧАСОВ</td>\n",
              "      <td>40</td>\n",
              "      <td>Кино - DVD</td>\n",
              "    </tr>\n",
              "  </tbody>\n",
              "</table>\n",
              "<p>100082 rows × 9 columns</p>\n",
              "</div>\n",
              "      <button class=\"colab-df-convert\" onclick=\"convertToInteractive('df-a89586e3-eded-4f07-bea7-37a94a1df61c')\"\n",
              "              title=\"Convert this dataframe to an interactive table.\"\n",
              "              style=\"display:none;\">\n",
              "        \n",
              "  <svg xmlns=\"http://www.w3.org/2000/svg\" height=\"24px\"viewBox=\"0 0 24 24\"\n",
              "       width=\"24px\">\n",
              "    <path d=\"M0 0h24v24H0V0z\" fill=\"none\"/>\n",
              "    <path d=\"M18.56 5.44l.94 2.06.94-2.06 2.06-.94-2.06-.94-.94-2.06-.94 2.06-2.06.94zm-11 1L8.5 8.5l.94-2.06 2.06-.94-2.06-.94L8.5 2.5l-.94 2.06-2.06.94zm10 10l.94 2.06.94-2.06 2.06-.94-2.06-.94-.94-2.06-.94 2.06-2.06.94z\"/><path d=\"M17.41 7.96l-1.37-1.37c-.4-.4-.92-.59-1.43-.59-.52 0-1.04.2-1.43.59L10.3 9.45l-7.72 7.72c-.78.78-.78 2.05 0 2.83L4 21.41c.39.39.9.59 1.41.59.51 0 1.02-.2 1.41-.59l7.78-7.78 2.81-2.81c.8-.78.8-2.07 0-2.86zM5.41 20L4 18.59l7.72-7.72 1.47 1.35L5.41 20z\"/>\n",
              "  </svg>\n",
              "      </button>\n",
              "      \n",
              "  <style>\n",
              "    .colab-df-container {\n",
              "      display:flex;\n",
              "      flex-wrap:wrap;\n",
              "      gap: 12px;\n",
              "    }\n",
              "\n",
              "    .colab-df-convert {\n",
              "      background-color: #E8F0FE;\n",
              "      border: none;\n",
              "      border-radius: 50%;\n",
              "      cursor: pointer;\n",
              "      display: none;\n",
              "      fill: #1967D2;\n",
              "      height: 32px;\n",
              "      padding: 0 0 0 0;\n",
              "      width: 32px;\n",
              "    }\n",
              "\n",
              "    .colab-df-convert:hover {\n",
              "      background-color: #E2EBFA;\n",
              "      box-shadow: 0px 1px 2px rgba(60, 64, 67, 0.3), 0px 1px 3px 1px rgba(60, 64, 67, 0.15);\n",
              "      fill: #174EA6;\n",
              "    }\n",
              "\n",
              "    [theme=dark] .colab-df-convert {\n",
              "      background-color: #3B4455;\n",
              "      fill: #D2E3FC;\n",
              "    }\n",
              "\n",
              "    [theme=dark] .colab-df-convert:hover {\n",
              "      background-color: #434B5C;\n",
              "      box-shadow: 0px 1px 3px 1px rgba(0, 0, 0, 0.15);\n",
              "      filter: drop-shadow(0px 1px 2px rgba(0, 0, 0, 0.3));\n",
              "      fill: #FFFFFF;\n",
              "    }\n",
              "  </style>\n",
              "\n",
              "      <script>\n",
              "        const buttonEl =\n",
              "          document.querySelector('#df-a89586e3-eded-4f07-bea7-37a94a1df61c button.colab-df-convert');\n",
              "        buttonEl.style.display =\n",
              "          google.colab.kernel.accessAllowed ? 'block' : 'none';\n",
              "\n",
              "        async function convertToInteractive(key) {\n",
              "          const element = document.querySelector('#df-a89586e3-eded-4f07-bea7-37a94a1df61c');\n",
              "          const dataTable =\n",
              "            await google.colab.kernel.invokeFunction('convertToInteractive',\n",
              "                                                     [key], {});\n",
              "          if (!dataTable) return;\n",
              "\n",
              "          const docLinkHtml = 'Like what you see? Visit the ' +\n",
              "            '<a target=\"_blank\" href=https://colab.research.google.com/notebooks/data_table.ipynb>data table notebook</a>'\n",
              "            + ' to learn more about interactive tables.';\n",
              "          element.innerHTML = '';\n",
              "          dataTable['output_type'] = 'display_data';\n",
              "          await google.colab.output.renderOutput(dataTable, element);\n",
              "          const docLink = document.createElement('div');\n",
              "          docLink.innerHTML = docLinkHtml;\n",
              "          element.appendChild(docLink);\n",
              "        }\n",
              "      </script>\n",
              "    </div>\n",
              "  </div>\n",
              "  "
            ]
          },
          "metadata": {},
          "execution_count": 8
        }
      ]
    },
    {
      "cell_type": "code",
      "source": [
        "print(sales_train_merged.isna().sum())\n",
        "print('\\n')\n",
        "print(items_merged.isna().sum())"
      ],
      "metadata": {
        "colab": {
          "base_uri": "https://localhost:8080/"
        },
        "id": "4AmA5HRQMYTX",
        "outputId": "22e4e4a4-6a8a-47c7-dfe8-f8d8454d3ad0"
      },
      "execution_count": 9,
      "outputs": [
        {
          "output_type": "stream",
          "name": "stdout",
          "text": [
            "date_block_num        0\n",
            "shop_id               0\n",
            "item_id               0\n",
            "item_price            0\n",
            "item_cnt_day          0\n",
            "shop_name             0\n",
            "item_name             0\n",
            "item_category_id      0\n",
            "item_category_name    0\n",
            "dtype: int64\n",
            "\n",
            "\n",
            "item_name             0\n",
            "item_id               0\n",
            "item_category_id      0\n",
            "item_category_name    0\n",
            "dtype: int64\n"
          ]
        }
      ]
    },
    {
      "cell_type": "code",
      "source": [
        "sales_train.dtypes"
      ],
      "metadata": {
        "colab": {
          "base_uri": "https://localhost:8080/"
        },
        "id": "tIMnxsEpNRYU",
        "outputId": "b97d980a-1925-4afd-8169-308056d8bc84"
      },
      "execution_count": 10,
      "outputs": [
        {
          "output_type": "execute_result",
          "data": {
            "text/plain": [
              "date_block_num    float64\n",
              "shop_id           float64\n",
              "item_id           float64\n",
              "item_price        float64\n",
              "item_cnt_day      float64\n",
              "dtype: object"
            ]
          },
          "metadata": {},
          "execution_count": 10
        }
      ]
    },
    {
      "cell_type": "code",
      "source": [
        "sales_train[['item_price','item_cnt_day']].describe()"
      ],
      "metadata": {
        "colab": {
          "base_uri": "https://localhost:8080/",
          "height": 300
        },
        "id": "9vFPyjhVjcHz",
        "outputId": "dfc398fe-c978-45c5-f373-df8cb6a634a1"
      },
      "execution_count": 11,
      "outputs": [
        {
          "output_type": "execute_result",
          "data": {
            "text/plain": [
              "          item_price   item_cnt_day\n",
              "count  100082.000000  100082.000000\n",
              "mean      705.736641       1.141764\n",
              "std      1233.001920       0.693669\n",
              "min         9.000000      -6.000000\n",
              "25%       199.000000       1.000000\n",
              "50%       398.000000       1.000000\n",
              "75%       699.000000       1.000000\n",
              "max     32990.000000      64.000000"
            ],
            "text/html": [
              "\n",
              "  <div id=\"df-0418bf37-c70f-4bf7-a96d-218aa2b4d5c8\">\n",
              "    <div class=\"colab-df-container\">\n",
              "      <div>\n",
              "<style scoped>\n",
              "    .dataframe tbody tr th:only-of-type {\n",
              "        vertical-align: middle;\n",
              "    }\n",
              "\n",
              "    .dataframe tbody tr th {\n",
              "        vertical-align: top;\n",
              "    }\n",
              "\n",
              "    .dataframe thead th {\n",
              "        text-align: right;\n",
              "    }\n",
              "</style>\n",
              "<table border=\"1\" class=\"dataframe\">\n",
              "  <thead>\n",
              "    <tr style=\"text-align: right;\">\n",
              "      <th></th>\n",
              "      <th>item_price</th>\n",
              "      <th>item_cnt_day</th>\n",
              "    </tr>\n",
              "  </thead>\n",
              "  <tbody>\n",
              "    <tr>\n",
              "      <th>count</th>\n",
              "      <td>100082.000000</td>\n",
              "      <td>100082.000000</td>\n",
              "    </tr>\n",
              "    <tr>\n",
              "      <th>mean</th>\n",
              "      <td>705.736641</td>\n",
              "      <td>1.141764</td>\n",
              "    </tr>\n",
              "    <tr>\n",
              "      <th>std</th>\n",
              "      <td>1233.001920</td>\n",
              "      <td>0.693669</td>\n",
              "    </tr>\n",
              "    <tr>\n",
              "      <th>min</th>\n",
              "      <td>9.000000</td>\n",
              "      <td>-6.000000</td>\n",
              "    </tr>\n",
              "    <tr>\n",
              "      <th>25%</th>\n",
              "      <td>199.000000</td>\n",
              "      <td>1.000000</td>\n",
              "    </tr>\n",
              "    <tr>\n",
              "      <th>50%</th>\n",
              "      <td>398.000000</td>\n",
              "      <td>1.000000</td>\n",
              "    </tr>\n",
              "    <tr>\n",
              "      <th>75%</th>\n",
              "      <td>699.000000</td>\n",
              "      <td>1.000000</td>\n",
              "    </tr>\n",
              "    <tr>\n",
              "      <th>max</th>\n",
              "      <td>32990.000000</td>\n",
              "      <td>64.000000</td>\n",
              "    </tr>\n",
              "  </tbody>\n",
              "</table>\n",
              "</div>\n",
              "      <button class=\"colab-df-convert\" onclick=\"convertToInteractive('df-0418bf37-c70f-4bf7-a96d-218aa2b4d5c8')\"\n",
              "              title=\"Convert this dataframe to an interactive table.\"\n",
              "              style=\"display:none;\">\n",
              "        \n",
              "  <svg xmlns=\"http://www.w3.org/2000/svg\" height=\"24px\"viewBox=\"0 0 24 24\"\n",
              "       width=\"24px\">\n",
              "    <path d=\"M0 0h24v24H0V0z\" fill=\"none\"/>\n",
              "    <path d=\"M18.56 5.44l.94 2.06.94-2.06 2.06-.94-2.06-.94-.94-2.06-.94 2.06-2.06.94zm-11 1L8.5 8.5l.94-2.06 2.06-.94-2.06-.94L8.5 2.5l-.94 2.06-2.06.94zm10 10l.94 2.06.94-2.06 2.06-.94-2.06-.94-.94-2.06-.94 2.06-2.06.94z\"/><path d=\"M17.41 7.96l-1.37-1.37c-.4-.4-.92-.59-1.43-.59-.52 0-1.04.2-1.43.59L10.3 9.45l-7.72 7.72c-.78.78-.78 2.05 0 2.83L4 21.41c.39.39.9.59 1.41.59.51 0 1.02-.2 1.41-.59l7.78-7.78 2.81-2.81c.8-.78.8-2.07 0-2.86zM5.41 20L4 18.59l7.72-7.72 1.47 1.35L5.41 20z\"/>\n",
              "  </svg>\n",
              "      </button>\n",
              "      \n",
              "  <style>\n",
              "    .colab-df-container {\n",
              "      display:flex;\n",
              "      flex-wrap:wrap;\n",
              "      gap: 12px;\n",
              "    }\n",
              "\n",
              "    .colab-df-convert {\n",
              "      background-color: #E8F0FE;\n",
              "      border: none;\n",
              "      border-radius: 50%;\n",
              "      cursor: pointer;\n",
              "      display: none;\n",
              "      fill: #1967D2;\n",
              "      height: 32px;\n",
              "      padding: 0 0 0 0;\n",
              "      width: 32px;\n",
              "    }\n",
              "\n",
              "    .colab-df-convert:hover {\n",
              "      background-color: #E2EBFA;\n",
              "      box-shadow: 0px 1px 2px rgba(60, 64, 67, 0.3), 0px 1px 3px 1px rgba(60, 64, 67, 0.15);\n",
              "      fill: #174EA6;\n",
              "    }\n",
              "\n",
              "    [theme=dark] .colab-df-convert {\n",
              "      background-color: #3B4455;\n",
              "      fill: #D2E3FC;\n",
              "    }\n",
              "\n",
              "    [theme=dark] .colab-df-convert:hover {\n",
              "      background-color: #434B5C;\n",
              "      box-shadow: 0px 1px 3px 1px rgba(0, 0, 0, 0.15);\n",
              "      filter: drop-shadow(0px 1px 2px rgba(0, 0, 0, 0.3));\n",
              "      fill: #FFFFFF;\n",
              "    }\n",
              "  </style>\n",
              "\n",
              "      <script>\n",
              "        const buttonEl =\n",
              "          document.querySelector('#df-0418bf37-c70f-4bf7-a96d-218aa2b4d5c8 button.colab-df-convert');\n",
              "        buttonEl.style.display =\n",
              "          google.colab.kernel.accessAllowed ? 'block' : 'none';\n",
              "\n",
              "        async function convertToInteractive(key) {\n",
              "          const element = document.querySelector('#df-0418bf37-c70f-4bf7-a96d-218aa2b4d5c8');\n",
              "          const dataTable =\n",
              "            await google.colab.kernel.invokeFunction('convertToInteractive',\n",
              "                                                     [key], {});\n",
              "          if (!dataTable) return;\n",
              "\n",
              "          const docLinkHtml = 'Like what you see? Visit the ' +\n",
              "            '<a target=\"_blank\" href=https://colab.research.google.com/notebooks/data_table.ipynb>data table notebook</a>'\n",
              "            + ' to learn more about interactive tables.';\n",
              "          element.innerHTML = '';\n",
              "          dataTable['output_type'] = 'display_data';\n",
              "          await google.colab.output.renderOutput(dataTable, element);\n",
              "          const docLink = document.createElement('div');\n",
              "          docLink.innerHTML = docLinkHtml;\n",
              "          element.appendChild(docLink);\n",
              "        }\n",
              "      </script>\n",
              "    </div>\n",
              "  </div>\n",
              "  "
            ]
          },
          "metadata": {},
          "execution_count": 11
        }
      ]
    },
    {
      "cell_type": "markdown",
      "source": [
        "#### Data visualization"
      ],
      "metadata": {
        "id": "oA_jAf9YkN9P"
      }
    },
    {
      "cell_type": "code",
      "source": [
        "figure2=plt.figure(2,figsize=(15,10))\n",
        "plt.subplot(3,1,1)\n",
        "plt.title(\"item price\",size=15)\n",
        "sns.boxplot(data=sales_train,x=\"item_price\")\n",
        "plt.subplot(3,1,2)\n",
        "plt.title(\"item count day\",size=15)\n",
        "sns.boxplot(data=sales_train,x=\"item_cnt_day\")\n",
        "figure2.tight_layout(pad=3.0)\n",
        "plt.show()"
      ],
      "metadata": {
        "id": "lLkZgMGJj6b7",
        "colab": {
          "base_uri": "https://localhost:8080/",
          "height": 482
        },
        "outputId": "649a2521-bdf3-44b0-fa6a-ae3ea1879acd"
      },
      "execution_count": 17,
      "outputs": [
        {
          "output_type": "display_data",
          "data": {
            "text/plain": [
              "<Figure size 1080x720 with 2 Axes>"
            ],
            "image/png": "[encoded data removed]"
          },
          "metadata": {
            "needs_background": "light"
          }
        }
      ]
    },
    {
      "cell_type": "code",
      "source": [
        "print(\"item price median {:.2f} item price mean : {:.2f}\".format(sales_train['item_price'].median(),sales_train['item_price'].mean()))\n",
        "print(\"item count day median: {:.2f} item count day mean {:.2f} \".format(sales_train['item_cnt_day'].median(),sales_train['item_cnt_day'].mean()))"
      ],
      "metadata": {
        "id": "LDfzSpfkpcyx",
        "colab": {
          "base_uri": "https://localhost:8080/"
        },
        "outputId": "5b874a8b-3f0e-4b89-a308-84dbc72d2296"
      },
      "execution_count": 18,
      "outputs": [
        {
          "output_type": "stream",
          "name": "stdout",
          "text": [
            "item price median 398.00 item price mean : 705.74\n",
            "item count day median: 1.00 item count day mean 1.14 \n"
          ]
        }
      ]
    },
    {
      "cell_type": "code",
      "source": [
        "print(len(sales_train_merged['item_category_name'].unique()))"
      ],
      "metadata": {
        "id": "Lk_7wCPVcXL7",
        "colab": {
          "base_uri": "https://localhost:8080/"
        },
        "outputId": "57bce2fe-f0da-490c-a05d-fca068f55a83"
      },
      "execution_count": 19,
      "outputs": [
        {
          "output_type": "stream",
          "name": "stdout",
          "text": [
            "55\n"
          ]
        }
      ]
    },
    {
      "cell_type": "code",
      "source": [
        "top10s=plt.figure(figsize=(10,7))\n",
        "plt.title('top shops')\n",
        "plt.ylabel('Sales')\n",
        "sales_train_merged.groupby('shop_name')['item_cnt_day'].sum().sort_values(ascending=False)[0:10].plot(kind='bar',color='Red',ls='dashed',edgecolor='Black')\n",
        "plt.show()"
      ],
      "metadata": {
        "colab": {
          "base_uri": "https://localhost:8080/",
          "height": 625
        },
        "id": "v6cKTtj303y-",
        "outputId": "19e5a7b4-d3db-431e-9061-299251a7c84b"
      },
      "execution_count": 20,
      "outputs": [
        {
          "output_type": "display_data",
          "data": {
            "text/plain": [
              "<Figure size 720x504 with 1 Axes>"
            ],
            "image/png": "[encoded data removed]"
          },
          "metadata": {
            "needs_background": "light"
          }
        }
      ]
    },
    {
      "cell_type": "code",
      "source": [
        "plt.figure(figsize=(15,7))\n",
        "\n",
        "sales_train['item_cnt_day'].resample('M').agg(['sum']).plot(color='blue',ls='-')\n",
        "plt.title('total item sold per month')\n",
        "plt.xlabel('month',size=10)\n",
        "plt.ylabel('item  count',size=10)\n",
        "plt.show()"
      ],
      "metadata": {
        "colab": {
          "base_uri": "https://localhost:8080/",
          "height": 313
        },
        "id": "2zOjCUu411h6",
        "outputId": "2a7103f5-1e34-429f-a926-bde72a66f5f8"
      },
      "execution_count": 21,
      "outputs": [
        {
          "output_type": "display_data",
          "data": {
            "text/plain": [
              "<Figure size 1080x504 with 0 Axes>"
            ]
          },
          "metadata": {}
        },
        {
          "output_type": "display_data",
          "data": {
            "text/plain": [
              "<Figure size 432x288 with 1 Axes>"
            ],
            "image/png": "[encoded data removed]"
          },
          "metadata": {
            "needs_background": "light"
          }
        }
      ]
    },
    {
      "cell_type": "code",
      "source": [
        "sales_train['item_cnt_day']"
      ],
      "metadata": {
        "colab": {
          "base_uri": "https://localhost:8080/"
        },
        "id": "tom2CZQF3FGj",
        "outputId": "d216138c-4914-4f64-acc6-0978cc367be1"
      },
      "execution_count": 22,
      "outputs": [
        {
          "output_type": "execute_result",
          "data": {
            "text/plain": [
              "date\n",
              "2013-02-01    1.0\n",
              "2013-03-01    1.0\n",
              "2013-05-01   -1.0\n",
              "2013-06-01    1.0\n",
              "2013-01-15    1.0\n",
              "             ... \n",
              "2013-01-27    1.0\n",
              "2013-08-01    1.0\n",
              "2013-01-24    1.0\n",
              "2013-01-13    1.0\n",
              "2020-07-01    NaN\n",
              "Name: item_cnt_day, Length: 100083, dtype: float64"
            ]
          },
          "metadata": {},
          "execution_count": 22
        }
      ]
    },
    {
      "cell_type": "code",
      "source": [
        "plt.figure(figsize=(15,7))\n",
        "sales_train['item_cnt_day'].resample('M').agg(['sum','min','max','std']).plot(subplots=True,figsize=(15,15))\n",
        "plt.xlabel('month',size=10)\n",
        "plt.ylabel('item  count',size=10)\n",
        "plt.show()"
      ],
      "metadata": {
        "colab": {
          "base_uri": "https://localhost:8080/",
          "height": 895
        },
        "id": "_u6c-C0i3LEy",
        "outputId": "50b509bd-a554-419b-a83f-7fb37a4c1461"
      },
      "execution_count": 23,
      "outputs": [
        {
          "output_type": "display_data",
          "data": {
            "text/plain": [
              "<Figure size 1080x504 with 0 Axes>"
            ]
          },
          "metadata": {}
        },
        {
          "output_type": "display_data",
          "data": {
            "text/plain": [
              "<Figure size 1080x1080 with 4 Axes>"
            ],
            "image/png": "[encoded data removed]"
          },
          "metadata": {
            "needs_background": "light"
          }
        }
      ]
    },
    {
      "cell_type": "code",
      "source": [
        "import statsmodels.api as sm\n",
        "\n",
        "decomposition=sm.tsa.seasonal_decompose(sales_train['item_cnt_day'].resample('M').agg(['sum']),model='additive')\n",
        "\n",
        "figure=plt.figure(figsize=(20,7))\n",
        "decomposition.plot()\n",
        "plt.show()"
      ],
      "metadata": {
        "colab": {
          "base_uri": "https://localhost:8080/",
          "height": 369
        },
        "id": "WzoUsECn3d43",
        "outputId": "584c39a2-a480-4c0d-f090-60c6f9cfe786"
      },
      "execution_count": 24,
      "outputs": [
        {
          "output_type": "stream",
          "name": "stderr",
          "text": [
            "/usr/local/lib/python3.7/dist-packages/statsmodels/tools/_testing.py:19: FutureWarning: pandas.util.testing is deprecated. Use the functions in the public API at pandas.testing instead.\n",
            "  import pandas.util.testing as tm\n"
          ]
        },
        {
          "output_type": "display_data",
          "data": {
            "text/plain": [
              "<Figure size 1440x504 with 0 Axes>"
            ]
          },
          "metadata": {}
        },
        {
          "output_type": "display_data",
          "data": {
            "text/plain": [
              "<Figure size 432x288 with 4 Axes>"
            ],
            "image/png": "[encoded data removed]"
          },
          "metadata": {
            "needs_background": "light"
          }
        }
      ]
    },
    {
      "cell_type": "code",
      "source": [
        "figtrend=plt.figure(figsize=(15,7))\n",
        "plt.title(\"item counts trend\")\n",
        "plt.plot(sales_train['item_cnt_day'].resample('M').sum(),c='blue')\n",
        "plt.plot(decomposition.trend.index, decomposition.trend, c='red')\n",
        "plt.legend([\"sum of item counts\",\"trend of item count\"])\n",
        "plt.xlabel('time')\n",
        "plt.ylabel('count')\n",
        "plt.show()"
      ],
      "metadata": {
        "colab": {
          "base_uri": "https://localhost:8080/",
          "height": 458
        },
        "id": "qE7DcThi31Mn",
        "outputId": "f6666ec4-ecbe-4b13-b668-2a9826e6cab2"
      },
      "execution_count": 25,
      "outputs": [
        {
          "output_type": "display_data",
          "data": {
            "text/plain": [
              "<Figure size 1080x504 with 1 Axes>"
            ],
            "image/png": "[encoded data removed]"
          },
          "metadata": {
            "needs_background": "light"
          }
        }
      ]
    },
    {
      "cell_type": "code",
      "source": [
        "figseason=plt.figure(figsize=(15,7))\n",
        "plt.title(\"item counts seasonality\")\n",
        "plt.plot(sales_train['item_cnt_day'].resample('M').sum(),c='blue')\n",
        "plt.plot(decomposition.seasonal.index, decomposition.seasonal, c='red')\n",
        "plt.legend([\"sum of item counts\",\"seasonal component of item count\"])\n",
        "plt.xlabel('time')\n",
        "plt.ylabel('count')\n",
        "plt.show()"
      ],
      "metadata": {
        "colab": {
          "base_uri": "https://localhost:8080/",
          "height": 458
        },
        "id": "nabiAGIA7svy",
        "outputId": "06d99acb-6fed-4f9d-e9be-520e775e1edf"
      },
      "execution_count": 26,
      "outputs": [
        {
          "output_type": "display_data",
          "data": {
            "text/plain": [
              "<Figure size 1080x504 with 1 Axes>"
            ],
            "image/png": "[encoded data removed]"
          },
          "metadata": {
            "needs_background": "light"
          }
        }
      ]
    },
    {
      "cell_type": "markdown",
      "source": [
        "#### Holt Winter Algorithm"
      ],
      "metadata": {
        "id": "u0-Ja_RM9z-k"
      }
    },
    {
      "cell_type": "code",
      "source": [
        "from statsmodels.tsa.holtwinters import Holt\n",
        "from statsmodels.tsa.holtwinters import ExponentialSmoothing"
      ],
      "metadata": {
        "id": "AoNCXtlL9uSd"
      },
      "execution_count": 27,
      "outputs": []
    },
    {
      "cell_type": "code",
      "source": [
        "X=sales_train['item_cnt_day'].resample('M').sum()\n",
        "train=X['2013':'2015']\n",
        "test=X['2015':]\n",
        "\n",
        "model = ExponentialSmoothing(train, trend='add',seasonal='add').fit()\n",
        "pred = model.predict(start=test.index[0], end=test.index[-1])\n",
        "\n",
        "predfig=plt.figure(figsize=(15,7))\n",
        "plt.plot(train.index, train, label='Train')\n",
        "plt.plot(test.index, test, label='Test')\n",
        "plt.plot(pred.index, pred, label='Holt-Winters')\n",
        "plt.legend(loc='best')\n",
        "plt.show()"
      ],
      "metadata": {
        "colab": {
          "base_uri": "https://localhost:8080/",
          "height": 428
        },
        "id": "Oe-CAFy794eI",
        "outputId": "ae82b671-62b9-44eb-fc3f-da108036d5b5"
      },
      "execution_count": 29,
      "outputs": [
        {
          "output_type": "display_data",
          "data": {
            "text/plain": [
              "<Figure size 1080x504 with 1 Axes>"
            ],
            "image/png": "[encoded data removed]"
          },
          "metadata": {
            "needs_background": "light"
          }
        }
      ]
    }
  ]
}