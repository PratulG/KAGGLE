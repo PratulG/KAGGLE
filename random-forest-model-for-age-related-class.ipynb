{
 "cells": [
  {
   "cell_type": "markdown",
   "id": "ad4c1024",
   "metadata": {
    "papermill": {
     "duration": 0.004776,
     "end_time": "2023-06-24T19:15:36.837150",
     "exception": false,
     "start_time": "2023-06-24T19:15:36.832374",
     "status": "completed"
    },
    "tags": []
   },
   "source": [
    "## Random Forest Model for Age-Related Conditions Classification\n",
    "\n",
    "This code demonstrates how to train a Random Forest model for age-related conditions classification using the `TensorFlow Decision Forests` library. It includes the following steps:\n",
    "\n",
    "1. **Load and preprocess the training dataset**: The code reads the training dataset from a CSV file, handles missing values by filling them with the mean values, and separates the features and target columns.\n",
    "\n",
    "2. **Perform K-fold validation and Out-of-Fold (OOF) prediction**: The code splits the training data into K folds using stratified K-fold cross-validation. It trains a Random Forest model on each fold and makes predictions on the out-of-fold data. The OOF predictions are stored for later evaluation.\n",
    "\n",
    "3. **Evaluate OOF accuracy**: The code compares the OOF predictions with the true target values to calculate the OOF accuracy.\n",
    "\n",
    "4. **Load and preprocess the test dataset**: The code reads the test dataset from a CSV file, handles missing values by filling them with the mean values, and ensures the test dataset has the same column semantics as the training dataset.\n",
    "\n",
    "5. **Convert the test dataset to a TensorFlow dataset**: The code converts the preprocessed test dataset to a TensorFlow dataset.\n",
    "\n",
    "6. **Make predictions on the test dataset**: The code uses the trained Random Forest model to make predictions on the test dataset.\n",
    "\n",
    "7. **Create a submission DataFrame**: The code creates a DataFrame with the predicted labels, including the 'Id', 'class_0', and 'class_1' columns, where 'class_0' represents the probability of the sample belonging to class 0, and 'class_1' represents the probability of the sample belonging to class 1.\n",
    "\n",
    "8. **Save the submission file**: The code saves the submission DataFrame as a CSV file named 'submission.csv', without including the index column.\n",
    "\n",
    "**Note**: Ensure that the necessary libraries, such as `pandas`, `numpy`, `tensorflow_decision_forests`, `sklearn`, and `imblearn`, are installed before running the code."
   ]
  },
  {
   "cell_type": "code",
   "execution_count": 1,
   "id": "776fd0f6",
   "metadata": {
    "_cell_guid": "b1076dfc-b9ad-4769-8c92-a6c4dae69d19",
    "_uuid": "8f2839f25d086af736a60e9eeb907d3b93b6e0e5",
    "execution": {
     "iopub.execute_input": "2023-06-24T19:15:36.847687Z",
     "iopub.status.busy": "2023-06-24T19:15:36.847190Z",
     "iopub.status.idle": "2023-06-24T19:15:36.864869Z",
     "shell.execute_reply": "2023-06-24T19:15:36.863728Z"
    },
    "papermill": {
     "duration": 0.025675,
     "end_time": "2023-06-24T19:15:36.867153",
     "exception": false,
     "start_time": "2023-06-24T19:15:36.841478",
     "status": "completed"
    },
    "tags": []
   },
   "outputs": [
    {
     "name": "stdout",
     "output_type": "stream",
     "text": [
      "/kaggle/input/icr-identify-age-related-conditions/sample_submission.csv\n",
      "/kaggle/input/icr-identify-age-related-conditions/greeks.csv\n",
      "/kaggle/input/icr-identify-age-related-conditions/train.csv\n",
      "/kaggle/input/icr-identify-age-related-conditions/test.csv\n"
     ]
    }
   ],
   "source": [
    "# This Python 3 environment comes with many helpful analytics libraries installed\n",
    "# It is defined by the kaggle/python Docker image: https://github.com/kaggle/docker-python\n",
    "# For example, here's several helpful packages to load\n",
    "\n",
    "import numpy as np # linear algebra\n",
    "import pandas as pd # data processing, CSV file I/O (e.g. pd.read_csv)\n",
    "\n",
    "# Input data files are available in the read-only \"../input/\" directory\n",
    "# For example, running this (by clicking run or pressing Shift+Enter) will list all files under the input directory\n",
    "\n",
    "import os\n",
    "for dirname, _, filenames in os.walk('/kaggle/input'):\n",
    "    for filename in filenames:\n",
    "        print(os.path.join(dirname, filename))\n",
    "\n",
    "# You can write up to 20GB to the current directory (/kaggle/working/) that gets preserved as output when you create a version using \"Save & Run All\" \n",
    "# You can also write temporary files to /kaggle/temp/, but they won't be saved outside of the current session"
   ]
  },
  {
   "cell_type": "code",
   "execution_count": 2,
   "id": "30a0999f",
   "metadata": {
    "execution": {
     "iopub.execute_input": "2023-06-24T19:15:36.877919Z",
     "iopub.status.busy": "2023-06-24T19:15:36.877000Z",
     "iopub.status.idle": "2023-06-24T19:15:47.307499Z",
     "shell.execute_reply": "2023-06-24T19:15:47.306482Z"
    },
    "papermill": {
     "duration": 10.438657,
     "end_time": "2023-06-24T19:15:47.310159",
     "exception": false,
     "start_time": "2023-06-24T19:15:36.871502",
     "status": "completed"
    },
    "tags": []
   },
   "outputs": [
    {
     "name": "stderr",
     "output_type": "stream",
     "text": [
      "/opt/conda/lib/python3.10/site-packages/tensorflow_io/python/ops/__init__.py:98: UserWarning: unable to load libtensorflow_io_plugins.so: unable to open file: libtensorflow_io_plugins.so, from paths: ['/opt/conda/lib/python3.10/site-packages/tensorflow_io/python/ops/libtensorflow_io_plugins.so']\n",
      "caused by: ['/opt/conda/lib/python3.10/site-packages/tensorflow_io/python/ops/libtensorflow_io_plugins.so: undefined symbol: _ZN3tsl6StatusC1EN10tensorflow5error4CodeESt17basic_string_viewIcSt11char_traitsIcEENS_14SourceLocationE']\n",
      "  warnings.warn(f\"unable to load libtensorflow_io_plugins.so: {e}\")\n",
      "/opt/conda/lib/python3.10/site-packages/tensorflow_io/python/ops/__init__.py:104: UserWarning: file system plugins are not loaded: unable to open file: libtensorflow_io.so, from paths: ['/opt/conda/lib/python3.10/site-packages/tensorflow_io/python/ops/libtensorflow_io.so']\n",
      "caused by: ['/opt/conda/lib/python3.10/site-packages/tensorflow_io/python/ops/libtensorflow_io.so: undefined symbol: _ZTVN10tensorflow13GcsFileSystemE']\n",
      "  warnings.warn(f\"file system plugins are not loaded: {e}\")\n"
     ]
    }
   ],
   "source": [
    "import pandas as pd\n",
    "import numpy as np\n",
    "import tensorflow_decision_forests as tfdf\n",
    "from sklearn.model_selection import StratifiedKFold\n",
    "from sklearn.metrics import accuracy_score\n",
    "from imblearn.over_sampling import SMOTENC"
   ]
  },
  {
   "cell_type": "code",
   "execution_count": 3,
   "id": "cefb19c3",
   "metadata": {
    "execution": {
     "iopub.execute_input": "2023-06-24T19:15:47.321681Z",
     "iopub.status.busy": "2023-06-24T19:15:47.320947Z",
     "iopub.status.idle": "2023-06-24T19:15:47.351740Z",
     "shell.execute_reply": "2023-06-24T19:15:47.350705Z"
    },
    "papermill": {
     "duration": 0.039735,
     "end_time": "2023-06-24T19:15:47.354610",
     "exception": false,
     "start_time": "2023-06-24T19:15:47.314875",
     "status": "completed"
    },
    "tags": []
   },
   "outputs": [],
   "source": [
    "# Load the training dataset\n",
    "dataset_df = pd.read_csv('/kaggle/input/icr-identify-age-related-conditions/train.csv')"
   ]
  },
  {
   "cell_type": "code",
   "execution_count": 4,
   "id": "89cfafda",
   "metadata": {
    "execution": {
     "iopub.execute_input": "2023-06-24T19:15:47.365334Z",
     "iopub.status.busy": "2023-06-24T19:15:47.364975Z",
     "iopub.status.idle": "2023-06-24T19:15:47.401607Z",
     "shell.execute_reply": "2023-06-24T19:15:47.400290Z"
    },
    "papermill": {
     "duration": 0.045968,
     "end_time": "2023-06-24T19:15:47.405177",
     "exception": false,
     "start_time": "2023-06-24T19:15:47.359209",
     "status": "completed"
    },
    "tags": []
   },
   "outputs": [
    {
     "name": "stderr",
     "output_type": "stream",
     "text": [
      "/tmp/ipykernel_23/1832281448.py:2: FutureWarning: The default value of numeric_only in DataFrame.mean is deprecated. In a future version, it will default to False. In addition, specifying 'numeric_only=None' is deprecated. Select only valid columns or specify the value of numeric_only to silence this warning.\n",
      "  dataset_df.fillna(dataset_df.mean(), inplace=True)\n"
     ]
    }
   ],
   "source": [
    "# Handle missing values in the training dataset\n",
    "dataset_df.fillna(dataset_df.mean(), inplace=True)"
   ]
  },
  {
   "cell_type": "code",
   "execution_count": 5,
   "id": "28b1c17a",
   "metadata": {
    "execution": {
     "iopub.execute_input": "2023-06-24T19:15:47.416918Z",
     "iopub.status.busy": "2023-06-24T19:15:47.416308Z",
     "iopub.status.idle": "2023-06-24T19:15:47.424380Z",
     "shell.execute_reply": "2023-06-24T19:15:47.423341Z"
    },
    "papermill": {
     "duration": 0.016646,
     "end_time": "2023-06-24T19:15:47.426788",
     "exception": false,
     "start_time": "2023-06-24T19:15:47.410142",
     "status": "completed"
    },
    "tags": []
   },
   "outputs": [],
   "source": [
    "# Define features and target\n",
    "features = dataset_df.drop(columns=['Id', 'Class'])\n",
    "target = dataset_df['Class']"
   ]
  },
  {
   "cell_type": "code",
   "execution_count": 6,
   "id": "0709c764",
   "metadata": {
    "execution": {
     "iopub.execute_input": "2023-06-24T19:15:47.439069Z",
     "iopub.status.busy": "2023-06-24T19:15:47.437238Z",
     "iopub.status.idle": "2023-06-24T19:16:20.995225Z",
     "shell.execute_reply": "2023-06-24T19:16:20.994417Z"
    },
    "papermill": {
     "duration": 33.566187,
     "end_time": "2023-06-24T19:16:20.997850",
     "exception": false,
     "start_time": "2023-06-24T19:15:47.431663",
     "status": "completed"
    },
    "tags": []
   },
   "outputs": [
    {
     "name": "stdout",
     "output_type": "stream",
     "text": [
      "Warning: Some of the feature names have been changed automatically to be compatible with SavedModels because fix_feature_names=True.\n",
      "Warning: Some of the feature names have been changed automatically to be compatible with SavedModels because fix_feature_names=True.\n",
      "Resolve hyper-parameter template \"benchmark_rank1\" to \"benchmark_rank1@v1\" -> {'winner_take_all': True, 'categorical_algorithm': 'RANDOM', 'split_axis': 'SPARSE_OBLIQUE', 'sparse_oblique_normalization': 'MIN_MAX', 'sparse_oblique_num_projections_exponent': 1.0}.\n",
      "Use /tmp/tmp9qgme_f_ as temporary training directory\n",
      "Reading training dataset...\n",
      "Training dataset read in 0:00:07.429049. Found 493 examples.\n",
      "Training model...\n",
      "Model trained in 0:00:02.525329\n",
      "Compiling model...\n"
     ]
    },
    {
     "name": "stderr",
     "output_type": "stream",
     "text": [
      "[INFO 23-06-24 19:16:00.7699 UTC kernel.cc:1242] Loading model from path /tmp/tmp9qgme_f_/model/ with prefix 4b3550adeea94d23\n",
      "[INFO 23-06-24 19:16:00.8234 UTC decision_forest.cc:660] Model loaded with 300 root(s), 10214 node(s), and 55 input feature(s).\n",
      "[INFO 23-06-24 19:16:00.8235 UTC abstract_model.cc:1311] Engine \"RandomForestGeneric\" built\n",
      "[INFO 23-06-24 19:16:00.8235 UTC kernel.cc:1074] Use fast generic engine\n"
     ]
    },
    {
     "name": "stdout",
     "output_type": "stream",
     "text": [
      "WARNING: AutoGraph could not transform <function simple_ml_inference_op_with_handle at 0x7a319664b490> and will run it as-is.\n",
      "Please report this to the TensorFlow team. When filing the bug, set the verbosity to 10 (on Linux, `export AUTOGRAPH_VERBOSITY=10`) and attach the full output.\n",
      "Cause: could not get source code\n",
      "To silence this warning, decorate the function with @tf.autograph.experimental.do_not_convert\n",
      "Model compiled.\n",
      "1/1 [==============================] - 0s 147ms/step\n",
      "Warning: Some of the feature names have been changed automatically to be compatible with SavedModels because fix_feature_names=True.\n",
      "Warning: Some of the feature names have been changed automatically to be compatible with SavedModels because fix_feature_names=True.\n",
      "Resolve hyper-parameter template \"benchmark_rank1\" to \"benchmark_rank1@v1\" -> {'winner_take_all': True, 'categorical_algorithm': 'RANDOM', 'split_axis': 'SPARSE_OBLIQUE', 'sparse_oblique_normalization': 'MIN_MAX', 'sparse_oblique_num_projections_exponent': 1.0}.\n",
      "Use /tmp/tmps1_r02oc as temporary training directory\n",
      "Reading training dataset...\n",
      "Training dataset read in 0:00:00.792452. Found 493 examples.\n",
      "Training model...\n",
      "Model trained in 0:00:02.444898\n",
      "Compiling model...\n"
     ]
    },
    {
     "name": "stderr",
     "output_type": "stream",
     "text": [
      "[INFO 23-06-24 19:16:07.5690 UTC kernel.cc:1242] Loading model from path /tmp/tmps1_r02oc/model/ with prefix 7046f4d163a94df8\n",
      "[INFO 23-06-24 19:16:07.6207 UTC decision_forest.cc:660] Model loaded with 300 root(s), 10104 node(s), and 55 input feature(s).\n",
      "[INFO 23-06-24 19:16:07.6207 UTC kernel.cc:1074] Use fast generic engine\n"
     ]
    },
    {
     "name": "stdout",
     "output_type": "stream",
     "text": [
      "Model compiled.\n",
      "1/1 [==============================] - 0s 145ms/step\n",
      "Warning: Some of the feature names have been changed automatically to be compatible with SavedModels because fix_feature_names=True.\n",
      "Warning: Some of the feature names have been changed automatically to be compatible with SavedModels because fix_feature_names=True.\n",
      "Resolve hyper-parameter template \"benchmark_rank1\" to \"benchmark_rank1@v1\" -> {'winner_take_all': True, 'categorical_algorithm': 'RANDOM', 'split_axis': 'SPARSE_OBLIQUE', 'sparse_oblique_normalization': 'MIN_MAX', 'sparse_oblique_num_projections_exponent': 1.0}.\n",
      "Use /tmp/tmp7_y3un6v as temporary training directory\n",
      "Reading training dataset...\n",
      "Training dataset read in 0:00:00.808222. Found 494 examples.\n",
      "Training model...\n",
      "Model trained in 0:00:02.500155\n",
      "Compiling model...\n"
     ]
    },
    {
     "name": "stderr",
     "output_type": "stream",
     "text": [
      "[INFO 23-06-24 19:16:11.7791 UTC kernel.cc:1242] Loading model from path /tmp/tmp7_y3un6v/model/ with prefix 86cf214dcfa84729\n",
      "[INFO 23-06-24 19:16:11.8328 UTC decision_forest.cc:660] Model loaded with 300 root(s), 10224 node(s), and 56 input feature(s).\n",
      "[INFO 23-06-24 19:16:11.8329 UTC abstract_model.cc:1311] Engine \"RandomForestGeneric\" built\n",
      "[INFO 23-06-24 19:16:11.8329 UTC kernel.cc:1074] Use fast generic engine\n"
     ]
    },
    {
     "name": "stdout",
     "output_type": "stream",
     "text": [
      "Model compiled.\n",
      "1/1 [==============================] - 0s 145ms/step\n",
      "Warning: Some of the feature names have been changed automatically to be compatible with SavedModels because fix_feature_names=True.\n",
      "Warning: Some of the feature names have been changed automatically to be compatible with SavedModels because fix_feature_names=True.\n",
      "Resolve hyper-parameter template \"benchmark_rank1\" to \"benchmark_rank1@v1\" -> {'winner_take_all': True, 'categorical_algorithm': 'RANDOM', 'split_axis': 'SPARSE_OBLIQUE', 'sparse_oblique_normalization': 'MIN_MAX', 'sparse_oblique_num_projections_exponent': 1.0}.\n",
      "Use /tmp/tmpub3gsl_v as temporary training directory\n",
      "Reading training dataset...\n",
      "Training dataset read in 0:00:00.815610. Found 494 examples.\n",
      "Training model...\n",
      "Model trained in 0:00:02.487889\n",
      "Compiling model...\n"
     ]
    },
    {
     "name": "stderr",
     "output_type": "stream",
     "text": [
      "[INFO 23-06-24 19:16:16.0385 UTC kernel.cc:1242] Loading model from path /tmp/tmpub3gsl_v/model/ with prefix ad4c2af1970d466f\n",
      "[INFO 23-06-24 19:16:16.0860 UTC decision_forest.cc:660] Model loaded with 300 root(s), 9422 node(s), and 56 input feature(s).\n",
      "[INFO 23-06-24 19:16:16.0861 UTC kernel.cc:1074] Use fast generic engine\n"
     ]
    },
    {
     "name": "stdout",
     "output_type": "stream",
     "text": [
      "Model compiled.\n",
      "1/1 [==============================] - 0s 143ms/step\n",
      "Warning: Some of the feature names have been changed automatically to be compatible with SavedModels because fix_feature_names=True.\n",
      "Warning: Some of the feature names have been changed automatically to be compatible with SavedModels because fix_feature_names=True.\n",
      "Resolve hyper-parameter template \"benchmark_rank1\" to \"benchmark_rank1@v1\" -> {'winner_take_all': True, 'categorical_algorithm': 'RANDOM', 'split_axis': 'SPARSE_OBLIQUE', 'sparse_oblique_normalization': 'MIN_MAX', 'sparse_oblique_num_projections_exponent': 1.0}.\n",
      "Use /tmp/tmpdbu2igy4 as temporary training directory\n",
      "Reading training dataset...\n",
      "Training dataset read in 0:00:00.821059. Found 494 examples.\n",
      "Training model...\n",
      "Model trained in 0:00:02.501914\n",
      "Compiling model...\n"
     ]
    },
    {
     "name": "stderr",
     "output_type": "stream",
     "text": [
      "[INFO 23-06-24 19:16:20.2476 UTC kernel.cc:1242] Loading model from path /tmp/tmpdbu2igy4/model/ with prefix 1662017b59784888\n",
      "[INFO 23-06-24 19:16:20.2983 UTC decision_forest.cc:660] Model loaded with 300 root(s), 10284 node(s), and 55 input feature(s).\n",
      "[INFO 23-06-24 19:16:20.2984 UTC kernel.cc:1074] Use fast generic engine\n"
     ]
    },
    {
     "name": "stdout",
     "output_type": "stream",
     "text": [
      "Model compiled.\n",
      "1/1 [==============================] - 0s 148ms/step\n"
     ]
    }
   ],
   "source": [
    "# KFold validation and OOF\n",
    "n_splits = 5\n",
    "kf = StratifiedKFold(n_splits=n_splits, shuffle=True, random_state=42)\n",
    "\n",
    "oof_predictions = np.zeros(dataset_df.shape[0])\n",
    "\n",
    "# Iterate over each fold\n",
    "for fold, (train_index, valid_index) in enumerate(kf.split(features, target)):\n",
    "    X_train, X_valid = features.iloc[train_index], features.iloc[valid_index]\n",
    "    y_train, y_valid = target.iloc[train_index], target.iloc[valid_index]\n",
    "\n",
    "    # Convert to TensorFlow datasets\n",
    "    train_dataset = tfdf.keras.pd_dataframe_to_tf_dataset(X_train.assign(target=y_train), task=tfdf.keras.Task.CLASSIFICATION, label=\"target\")\n",
    "    valid_dataset = tfdf.keras.pd_dataframe_to_tf_dataset(X_valid.assign(target=y_valid), task=tfdf.keras.Task.CLASSIFICATION, label=\"target\")\n",
    "\n",
    "    # Train a new model for each fold\n",
    "    model = tfdf.keras.RandomForestModel(task=tfdf.keras.Task.CLASSIFICATION, hyperparameter_template=\"benchmark_rank1\")\n",
    "    model.fit(x=train_dataset)\n",
    "\n",
    "    # Predict on the out-of-fold data\n",
    "    valid_predictions = model.predict(valid_dataset)\n",
    "    oof_predictions[valid_index] = valid_predictions.reshape(-1)"
   ]
  },
  {
   "cell_type": "code",
   "execution_count": 7,
   "id": "d2bf3fa3",
   "metadata": {
    "execution": {
     "iopub.execute_input": "2023-06-24T19:16:21.019432Z",
     "iopub.status.busy": "2023-06-24T19:16:21.019068Z",
     "iopub.status.idle": "2023-06-24T19:16:21.029008Z",
     "shell.execute_reply": "2023-06-24T19:16:21.027606Z"
    },
    "papermill": {
     "duration": 0.027257,
     "end_time": "2023-06-24T19:16:21.035149",
     "exception": false,
     "start_time": "2023-06-24T19:16:21.007892",
     "status": "completed"
    },
    "tags": []
   },
   "outputs": [
    {
     "name": "stdout",
     "output_type": "stream",
     "text": [
      "OOF Accuracy: 0.9222042139384117\n"
     ]
    }
   ],
   "source": [
    "# Evaluate OOF accuracy\n",
    "oof_predictions_binary = np.where(oof_predictions > 0.5, 1, 0)\n",
    "oof_accuracy = accuracy_score(target, oof_predictions_binary)\n",
    "print(f\"OOF Accuracy: {oof_accuracy}\")"
   ]
  },
  {
   "cell_type": "code",
   "execution_count": 8,
   "id": "7867a44a",
   "metadata": {
    "execution": {
     "iopub.execute_input": "2023-06-24T19:16:21.056169Z",
     "iopub.status.busy": "2023-06-24T19:16:21.055801Z",
     "iopub.status.idle": "2023-06-24T19:16:21.164633Z",
     "shell.execute_reply": "2023-06-24T19:16:21.163612Z"
    },
    "papermill": {
     "duration": 0.122311,
     "end_time": "2023-06-24T19:16:21.167239",
     "exception": false,
     "start_time": "2023-06-24T19:16:21.044928",
     "status": "completed"
    },
    "tags": []
   },
   "outputs": [
    {
     "name": "stdout",
     "output_type": "stream",
     "text": [
      "Warning: Some of the feature names have been changed automatically to be compatible with SavedModels because fix_feature_names=True.\n"
     ]
    },
    {
     "name": "stderr",
     "output_type": "stream",
     "text": [
      "/tmp/ipykernel_23/2676456093.py:5: FutureWarning: The default value of numeric_only in DataFrame.mean is deprecated. In a future version, it will default to False. In addition, specifying 'numeric_only=None' is deprecated. Select only valid columns or specify the value of numeric_only to silence this warning.\n",
      "  test_data.fillna(test_data.mean(), inplace=True)\n"
     ]
    }
   ],
   "source": [
    "# Load the test dataset\n",
    "test_data = pd.read_csv('/kaggle/input/icr-identify-age-related-conditions/test.csv')\n",
    "\n",
    "# Handle missing values in the test dataset\n",
    "test_data.fillna(test_data.mean(), inplace=True)\n",
    "\n",
    "# Ensure test dataset has the same column semantics as the training dataset\n",
    "test_data = test_data.reindex(columns=features.columns, fill_value=0)\n",
    "\n",
    "# Create the 'Id' column in the test dataset\n",
    "test_data['Id'] = range(1, len(test_data) + 1)\n",
    "\n",
    "# Convert the test dataset to a TensorFlow dataset\n",
    "test_dataset = tfdf.keras.pd_dataframe_to_tf_dataset(test_data, task=tfdf.keras.Task.CLASSIFICATION)"
   ]
  },
  {
   "cell_type": "code",
   "execution_count": 9,
   "id": "54445532",
   "metadata": {
    "execution": {
     "iopub.execute_input": "2023-06-24T19:16:21.189045Z",
     "iopub.status.busy": "2023-06-24T19:16:21.188665Z",
     "iopub.status.idle": "2023-06-24T19:16:21.675840Z",
     "shell.execute_reply": "2023-06-24T19:16:21.674849Z"
    },
    "papermill": {
     "duration": 0.501302,
     "end_time": "2023-06-24T19:16:21.678440",
     "exception": false,
     "start_time": "2023-06-24T19:16:21.177138",
     "status": "completed"
    },
    "tags": []
   },
   "outputs": [
    {
     "name": "stdout",
     "output_type": "stream",
     "text": [
      "1/1 [==============================] - 0s 461ms/step\n"
     ]
    }
   ],
   "source": [
    "# Make predictions on the test dataset\n",
    "test_predictions = model.predict(test_dataset)\n",
    "\n",
    "# Reshape the test predictions to match the shape of the 'Id' column\n",
    "test_predictions_reshaped = test_predictions.reshape(-1)"
   ]
  },
  {
   "cell_type": "code",
   "execution_count": 10,
   "id": "714a63ae",
   "metadata": {
    "execution": {
     "iopub.execute_input": "2023-06-24T19:16:21.702091Z",
     "iopub.status.busy": "2023-06-24T19:16:21.700217Z",
     "iopub.status.idle": "2023-06-24T19:16:21.710408Z",
     "shell.execute_reply": "2023-06-24T19:16:21.709386Z"
    },
    "papermill": {
     "duration": 0.024143,
     "end_time": "2023-06-24T19:16:21.712898",
     "exception": false,
     "start_time": "2023-06-24T19:16:21.688755",
     "status": "completed"
    },
    "tags": []
   },
   "outputs": [],
   "source": [
    "# Create a DataFrame with the predicted labels\n",
    "submission_df = pd.DataFrame({'Id': test_data['Id'], 'class_0': 1 - test_predictions_reshaped, 'class_1': test_predictions_reshaped})\n",
    "\n",
    "# Save the submission file as a CSV\n",
    "submission_df.to_csv('submission.csv', index=False)"
   ]
  },
  {
   "cell_type": "code",
   "execution_count": 11,
   "id": "0d92cc27",
   "metadata": {
    "execution": {
     "iopub.execute_input": "2023-06-24T19:16:21.750685Z",
     "iopub.status.busy": "2023-06-24T19:16:21.750182Z",
     "iopub.status.idle": "2023-06-24T19:16:21.778066Z",
     "shell.execute_reply": "2023-06-24T19:16:21.776607Z"
    },
    "papermill": {
     "duration": 0.057548,
     "end_time": "2023-06-24T19:16:21.781571",
     "exception": false,
     "start_time": "2023-06-24T19:16:21.724023",
     "status": "completed"
    },
    "tags": []
   },
   "outputs": [
    {
     "data": {
      "text/html": [
       "<div>\n",
       "<style scoped>\n",
       "    .dataframe tbody tr th:only-of-type {\n",
       "        vertical-align: middle;\n",
       "    }\n",
       "\n",
       "    .dataframe tbody tr th {\n",
       "        vertical-align: top;\n",
       "    }\n",
       "\n",
       "    .dataframe thead th {\n",
       "        text-align: right;\n",
       "    }\n",
       "</style>\n",
       "<table border=\"1\" class=\"dataframe\">\n",
       "  <thead>\n",
       "    <tr style=\"text-align: right;\">\n",
       "      <th></th>\n",
       "      <th>Id</th>\n",
       "      <th>class_0</th>\n",
       "      <th>class_1</th>\n",
       "    </tr>\n",
       "  </thead>\n",
       "  <tbody>\n",
       "    <tr>\n",
       "      <th>0</th>\n",
       "      <td>1</td>\n",
       "      <td>0.626667</td>\n",
       "      <td>0.373333</td>\n",
       "    </tr>\n",
       "    <tr>\n",
       "      <th>1</th>\n",
       "      <td>2</td>\n",
       "      <td>0.626667</td>\n",
       "      <td>0.373333</td>\n",
       "    </tr>\n",
       "    <tr>\n",
       "      <th>2</th>\n",
       "      <td>3</td>\n",
       "      <td>0.626667</td>\n",
       "      <td>0.373333</td>\n",
       "    </tr>\n",
       "    <tr>\n",
       "      <th>3</th>\n",
       "      <td>4</td>\n",
       "      <td>0.626667</td>\n",
       "      <td>0.373333</td>\n",
       "    </tr>\n",
       "    <tr>\n",
       "      <th>4</th>\n",
       "      <td>5</td>\n",
       "      <td>0.626667</td>\n",
       "      <td>0.373333</td>\n",
       "    </tr>\n",
       "  </tbody>\n",
       "</table>\n",
       "</div>"
      ],
      "text/plain": [
       "   Id   class_0   class_1\n",
       "0   1  0.626667  0.373333\n",
       "1   2  0.626667  0.373333\n",
       "2   3  0.626667  0.373333\n",
       "3   4  0.626667  0.373333\n",
       "4   5  0.626667  0.373333"
      ]
     },
     "execution_count": 11,
     "metadata": {},
     "output_type": "execute_result"
    }
   ],
   "source": [
    "submission_df"
   ]
  }
 ],
 "metadata": {
  "kernelspec": {
   "display_name": "Python 3",
   "language": "python",
   "name": "python3"
  },
  "language_info": {
   "codemirror_mode": {
    "name": "ipython",
    "version": 3
   },
   "file_extension": ".py",
   "mimetype": "text/x-python",
   "name": "python",
   "nbconvert_exporter": "python",
   "pygments_lexer": "ipython3",
   "version": "3.10.10"
  },
  "papermill": {
   "default_parameters": {},
   "duration": 59.96812,
   "end_time": "2023-06-24T19:16:25.028506",
   "environment_variables": {},
   "exception": null,
   "input_path": "__notebook__.ipynb",
   "output_path": "__notebook__.ipynb",
   "parameters": {},
   "start_time": "2023-06-24T19:15:25.060386",
   "version": "2.4.0"
  }
 },
 "nbformat": 4,
 "nbformat_minor": 5
}
