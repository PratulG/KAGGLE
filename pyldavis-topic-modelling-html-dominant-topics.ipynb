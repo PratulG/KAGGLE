{
 "cells": [
  {
   "cell_type": "markdown",
   "id": "02cc6306",
   "metadata": {
    "id": "9ehbBVNOPTnN",
    "papermill": {
     "duration": 0.007825,
     "end_time": "2023-06-16T17:46:51.027576",
     "exception": false,
     "start_time": "2023-06-16T17:46:51.019751",
     "status": "completed"
    },
    "tags": []
   },
   "source": [
    "# Importing Dependencies"
   ]
  },
  {
   "cell_type": "code",
   "execution_count": 1,
   "id": "dc1fcbb7",
   "metadata": {
    "execution": {
     "iopub.execute_input": "2023-06-16T17:46:51.044138Z",
     "iopub.status.busy": "2023-06-16T17:46:51.043300Z",
     "iopub.status.idle": "2023-06-16T17:47:03.588250Z",
     "shell.execute_reply": "2023-06-16T17:47:03.587009Z"
    },
    "id": "iwKLIhfKLhzb",
    "outputId": "f963862d-4e29-4edd-c606-170f9463e66a",
    "papermill": {
     "duration": 12.55654,
     "end_time": "2023-06-16T17:47:03.591280",
     "exception": false,
     "start_time": "2023-06-16T17:46:51.034740",
     "status": "completed"
    },
    "tags": []
   },
   "outputs": [
    {
     "name": "stdout",
     "output_type": "stream",
     "text": [
      "Requirement already satisfied: pyLDAvis[gensim] in /opt/conda/lib/python3.10/site-packages (3.2.2)\r\n",
      "\u001b[33mWARNING: pyldavis 3.2.2 does not provide the extra 'gensim'\u001b[0m\u001b[33m\r\n",
      "\u001b[0mRequirement already satisfied: wheel>=0.23.0 in /opt/conda/lib/python3.10/site-packages (from pyLDAvis[gensim]) (0.40.0)\r\n",
      "Requirement already satisfied: numpy>=1.9.2 in /opt/conda/lib/python3.10/site-packages (from pyLDAvis[gensim]) (1.23.5)\r\n",
      "Requirement already satisfied: scipy>=0.18.0 in /opt/conda/lib/python3.10/site-packages (from pyLDAvis[gensim]) (1.10.1)\r\n",
      "Requirement already satisfied: joblib>=0.8.4 in /opt/conda/lib/python3.10/site-packages (from pyLDAvis[gensim]) (1.2.0)\r\n",
      "Requirement already satisfied: jinja2>=2.7.2 in /opt/conda/lib/python3.10/site-packages (from pyLDAvis[gensim]) (3.1.2)\r\n",
      "Requirement already satisfied: numexpr in /opt/conda/lib/python3.10/site-packages (from pyLDAvis[gensim]) (2.8.4)\r\n",
      "Requirement already satisfied: future in /opt/conda/lib/python3.10/site-packages (from pyLDAvis[gensim]) (0.18.3)\r\n",
      "Requirement already satisfied: funcy in /opt/conda/lib/python3.10/site-packages (from pyLDAvis[gensim]) (2.0)\r\n",
      "Requirement already satisfied: pandas>=0.17.0 in /opt/conda/lib/python3.10/site-packages (from pyLDAvis[gensim]) (1.5.3)\r\n",
      "Requirement already satisfied: MarkupSafe>=2.0 in /opt/conda/lib/python3.10/site-packages (from jinja2>=2.7.2->pyLDAvis[gensim]) (2.1.2)\r\n",
      "Requirement already satisfied: python-dateutil>=2.8.1 in /opt/conda/lib/python3.10/site-packages (from pandas>=0.17.0->pyLDAvis[gensim]) (2.8.2)\r\n",
      "Requirement already satisfied: pytz>=2020.1 in /opt/conda/lib/python3.10/site-packages (from pandas>=0.17.0->pyLDAvis[gensim]) (2023.3)\r\n",
      "Requirement already satisfied: six>=1.5 in /opt/conda/lib/python3.10/site-packages (from python-dateutil>=2.8.1->pandas>=0.17.0->pyLDAvis[gensim]) (1.16.0)\r\n",
      "\u001b[33mWARNING: Running pip as the 'root' user can result in broken permissions and conflicting behaviour with the system package manager. It is recommended to use a virtual environment instead: https://pip.pypa.io/warnings/venv\u001b[0m\u001b[33m\r\n",
      "\u001b[0m"
     ]
    }
   ],
   "source": [
    "!pip install pyLDAvis[gensim] --user"
   ]
  },
  {
   "cell_type": "code",
   "execution_count": 2,
   "id": "6525a2cc",
   "metadata": {
    "execution": {
     "iopub.execute_input": "2023-06-16T17:47:03.607618Z",
     "iopub.status.busy": "2023-06-16T17:47:03.607266Z",
     "iopub.status.idle": "2023-06-16T17:47:05.785898Z",
     "shell.execute_reply": "2023-06-16T17:47:05.784799Z"
    },
    "id": "f9okvKw2-Uum",
    "outputId": "a63f7723-9c48-4507-e7c7-12bcd3814b8c",
    "papermill": {
     "duration": 2.190189,
     "end_time": "2023-06-16T17:47:05.788855",
     "exception": false,
     "start_time": "2023-06-16T17:47:03.598666",
     "status": "completed"
    },
    "tags": []
   },
   "outputs": [
    {
     "name": "stderr",
     "output_type": "stream",
     "text": [
      "/opt/conda/lib/python3.10/site-packages/nltk/decorators.py:69: DeprecationWarning: `formatargspec` is deprecated since Python 3.5. Use `signature` and the `Signature` object directly\n",
      "  signature = inspect.formatargspec(regargs, varargs, varkwargs, defaults,\n"
     ]
    }
   ],
   "source": [
    "import pandas as pd\n",
    "import numpy as np\n",
    "from gensim.models.ldamodel import LdaModel\n",
    "import pyLDAvis\n",
    "import pyLDAvis.gensim\n",
    "from IPython.display import display\n",
    "import multiprocessing\n",
    "import matplotlib.pyplot as plt\n",
    "import string\n",
    "from nltk.corpus import stopwords\n",
    "import nltk\n",
    "from nltk.stem import WordNetLemmatizer\n",
    "from gensim import corpora"
   ]
  },
  {
   "cell_type": "code",
   "execution_count": 3,
   "id": "b9ffec5b",
   "metadata": {
    "execution": {
     "iopub.execute_input": "2023-06-16T17:47:05.804166Z",
     "iopub.status.busy": "2023-06-16T17:47:05.803870Z",
     "iopub.status.idle": "2023-06-16T17:47:05.977012Z",
     "shell.execute_reply": "2023-06-16T17:47:05.975706Z"
    },
    "id": "f9okvKw2-Uum",
    "outputId": "a63f7723-9c48-4507-e7c7-12bcd3814b8c",
    "papermill": {
     "duration": 0.183904,
     "end_time": "2023-06-16T17:47:05.979787",
     "exception": false,
     "start_time": "2023-06-16T17:47:05.795883",
     "status": "completed"
    },
    "tags": []
   },
   "outputs": [
    {
     "name": "stdout",
     "output_type": "stream",
     "text": [
      "[nltk_data] Downloading package wordnet to /usr/share/nltk_data...\n",
      "[nltk_data]   Package wordnet is already up-to-date!\n",
      "[nltk_data] Downloading package stopwords to /usr/share/nltk_data...\n",
      "[nltk_data]   Package stopwords is already up-to-date!\n"
     ]
    },
    {
     "data": {
      "text/plain": [
       "True"
      ]
     },
     "execution_count": 3,
     "metadata": {},
     "output_type": "execute_result"
    }
   ],
   "source": [
    "# Download necessary NLTK datasets\n",
    "import nltk\n",
    "nltk.data.path.append('/usr/share/nltk_data')\n",
    "\n",
    "nltk.download('wordnet')\n",
    "nltk.download('stopwords')"
   ]
  },
  {
   "cell_type": "markdown",
   "id": "7ad8db8e",
   "metadata": {
    "id": "KQBci0IcPZxZ",
    "papermill": {
     "duration": 0.009576,
     "end_time": "2023-06-16T17:47:06.003987",
     "exception": false,
     "start_time": "2023-06-16T17:47:05.994411",
     "status": "completed"
    },
    "tags": []
   },
   "source": [
    "# Importing Dataset"
   ]
  },
  {
   "cell_type": "code",
   "execution_count": 4,
   "id": "7952478f",
   "metadata": {
    "execution": {
     "iopub.execute_input": "2023-06-16T17:47:06.032463Z",
     "iopub.status.busy": "2023-06-16T17:47:06.032102Z",
     "iopub.status.idle": "2023-06-16T17:47:06.314576Z",
     "shell.execute_reply": "2023-06-16T17:47:06.313393Z"
    },
    "id": "Lf1s0siY-p1m",
    "outputId": "2d000f05-cc7c-420d-a416-ed0e115d4077",
    "papermill": {
     "duration": 0.302949,
     "end_time": "2023-06-16T17:47:06.317400",
     "exception": false,
     "start_time": "2023-06-16T17:47:06.014451",
     "status": "completed"
    },
    "tags": []
   },
   "outputs": [],
   "source": [
    "df = pd.read_csv('/kaggle/input/amazon-product-reviews-dataset/7817_1.csv')"
   ]
  },
  {
   "cell_type": "code",
   "execution_count": 5,
   "id": "b5152237",
   "metadata": {
    "execution": {
     "iopub.execute_input": "2023-06-16T17:47:06.333551Z",
     "iopub.status.busy": "2023-06-16T17:47:06.333235Z",
     "iopub.status.idle": "2023-06-16T17:47:06.367385Z",
     "shell.execute_reply": "2023-06-16T17:47:06.366290Z"
    },
    "id": "_U6CL9qP-qbj",
    "outputId": "adb2f77b-0ebd-4160-d4de-624409491dc2",
    "papermill": {
     "duration": 0.04548,
     "end_time": "2023-06-16T17:47:06.370483",
     "exception": false,
     "start_time": "2023-06-16T17:47:06.325003",
     "status": "completed"
    },
    "tags": []
   },
   "outputs": [
    {
     "data": {
      "text/html": [
       "<div>\n",
       "<style scoped>\n",
       "    .dataframe tbody tr th:only-of-type {\n",
       "        vertical-align: middle;\n",
       "    }\n",
       "\n",
       "    .dataframe tbody tr th {\n",
       "        vertical-align: top;\n",
       "    }\n",
       "\n",
       "    .dataframe thead th {\n",
       "        text-align: right;\n",
       "    }\n",
       "</style>\n",
       "<table border=\"1\" class=\"dataframe\">\n",
       "  <thead>\n",
       "    <tr style=\"text-align: right;\">\n",
       "      <th></th>\n",
       "      <th>id</th>\n",
       "      <th>asins</th>\n",
       "      <th>brand</th>\n",
       "      <th>categories</th>\n",
       "      <th>colors</th>\n",
       "      <th>dateAdded</th>\n",
       "      <th>dateUpdated</th>\n",
       "      <th>dimension</th>\n",
       "      <th>ean</th>\n",
       "      <th>keys</th>\n",
       "      <th>...</th>\n",
       "      <th>reviews.rating</th>\n",
       "      <th>reviews.sourceURLs</th>\n",
       "      <th>reviews.text</th>\n",
       "      <th>reviews.title</th>\n",
       "      <th>reviews.userCity</th>\n",
       "      <th>reviews.userProvince</th>\n",
       "      <th>reviews.username</th>\n",
       "      <th>sizes</th>\n",
       "      <th>upc</th>\n",
       "      <th>weight</th>\n",
       "    </tr>\n",
       "  </thead>\n",
       "  <tbody>\n",
       "    <tr>\n",
       "      <th>0</th>\n",
       "      <td>AVpe7AsMilAPnD_xQ78G</td>\n",
       "      <td>B00QJDU3KY</td>\n",
       "      <td>Amazon</td>\n",
       "      <td>Amazon Devices,mazon.co.uk</td>\n",
       "      <td>NaN</td>\n",
       "      <td>2016-03-08T20:21:53Z</td>\n",
       "      <td>2017-07-18T23:52:58Z</td>\n",
       "      <td>169 mm x 117 mm x 9.1 mm</td>\n",
       "      <td>NaN</td>\n",
       "      <td>kindlepaperwhite/b00qjdu3ky</td>\n",
       "      <td>...</td>\n",
       "      <td>5.0</td>\n",
       "      <td>https://www.amazon.com/Kindle-Paperwhite-High-...</td>\n",
       "      <td>I initially had trouble deciding between the p...</td>\n",
       "      <td>Paperwhite voyage, no regrets!</td>\n",
       "      <td>NaN</td>\n",
       "      <td>NaN</td>\n",
       "      <td>Cristina M</td>\n",
       "      <td>NaN</td>\n",
       "      <td>NaN</td>\n",
       "      <td>205 grams</td>\n",
       "    </tr>\n",
       "    <tr>\n",
       "      <th>1</th>\n",
       "      <td>AVpe7AsMilAPnD_xQ78G</td>\n",
       "      <td>B00QJDU3KY</td>\n",
       "      <td>Amazon</td>\n",
       "      <td>Amazon Devices,mazon.co.uk</td>\n",
       "      <td>NaN</td>\n",
       "      <td>2016-03-08T20:21:53Z</td>\n",
       "      <td>2017-07-18T23:52:58Z</td>\n",
       "      <td>169 mm x 117 mm x 9.1 mm</td>\n",
       "      <td>NaN</td>\n",
       "      <td>kindlepaperwhite/b00qjdu3ky</td>\n",
       "      <td>...</td>\n",
       "      <td>5.0</td>\n",
       "      <td>https://www.amazon.com/Kindle-Paperwhite-High-...</td>\n",
       "      <td>Allow me to preface this with a little history...</td>\n",
       "      <td>One Simply Could Not Ask For More</td>\n",
       "      <td>NaN</td>\n",
       "      <td>NaN</td>\n",
       "      <td>Ricky</td>\n",
       "      <td>NaN</td>\n",
       "      <td>NaN</td>\n",
       "      <td>205 grams</td>\n",
       "    </tr>\n",
       "    <tr>\n",
       "      <th>2</th>\n",
       "      <td>AVpe7AsMilAPnD_xQ78G</td>\n",
       "      <td>B00QJDU3KY</td>\n",
       "      <td>Amazon</td>\n",
       "      <td>Amazon Devices,mazon.co.uk</td>\n",
       "      <td>NaN</td>\n",
       "      <td>2016-03-08T20:21:53Z</td>\n",
       "      <td>2017-07-18T23:52:58Z</td>\n",
       "      <td>169 mm x 117 mm x 9.1 mm</td>\n",
       "      <td>NaN</td>\n",
       "      <td>kindlepaperwhite/b00qjdu3ky</td>\n",
       "      <td>...</td>\n",
       "      <td>4.0</td>\n",
       "      <td>https://www.amazon.com/Kindle-Paperwhite-High-...</td>\n",
       "      <td>I am enjoying it so far. Great for reading. Ha...</td>\n",
       "      <td>Great for those that just want an e-reader</td>\n",
       "      <td>NaN</td>\n",
       "      <td>NaN</td>\n",
       "      <td>Tedd Gardiner</td>\n",
       "      <td>NaN</td>\n",
       "      <td>NaN</td>\n",
       "      <td>205 grams</td>\n",
       "    </tr>\n",
       "    <tr>\n",
       "      <th>3</th>\n",
       "      <td>AVpe7AsMilAPnD_xQ78G</td>\n",
       "      <td>B00QJDU3KY</td>\n",
       "      <td>Amazon</td>\n",
       "      <td>Amazon Devices,mazon.co.uk</td>\n",
       "      <td>NaN</td>\n",
       "      <td>2016-03-08T20:21:53Z</td>\n",
       "      <td>2017-07-18T23:52:58Z</td>\n",
       "      <td>169 mm x 117 mm x 9.1 mm</td>\n",
       "      <td>NaN</td>\n",
       "      <td>kindlepaperwhite/b00qjdu3ky</td>\n",
       "      <td>...</td>\n",
       "      <td>5.0</td>\n",
       "      <td>https://www.amazon.com/Kindle-Paperwhite-High-...</td>\n",
       "      <td>I bought one of the first Paperwhites and have...</td>\n",
       "      <td>Love / Hate relationship</td>\n",
       "      <td>NaN</td>\n",
       "      <td>NaN</td>\n",
       "      <td>Dougal</td>\n",
       "      <td>NaN</td>\n",
       "      <td>NaN</td>\n",
       "      <td>205 grams</td>\n",
       "    </tr>\n",
       "    <tr>\n",
       "      <th>4</th>\n",
       "      <td>AVpe7AsMilAPnD_xQ78G</td>\n",
       "      <td>B00QJDU3KY</td>\n",
       "      <td>Amazon</td>\n",
       "      <td>Amazon Devices,mazon.co.uk</td>\n",
       "      <td>NaN</td>\n",
       "      <td>2016-03-08T20:21:53Z</td>\n",
       "      <td>2017-07-18T23:52:58Z</td>\n",
       "      <td>169 mm x 117 mm x 9.1 mm</td>\n",
       "      <td>NaN</td>\n",
       "      <td>kindlepaperwhite/b00qjdu3ky</td>\n",
       "      <td>...</td>\n",
       "      <td>5.0</td>\n",
       "      <td>https://www.amazon.com/Kindle-Paperwhite-High-...</td>\n",
       "      <td>I have to say upfront - I don't like coroporat...</td>\n",
       "      <td>I LOVE IT</td>\n",
       "      <td>NaN</td>\n",
       "      <td>NaN</td>\n",
       "      <td>Miljan David Tanic</td>\n",
       "      <td>NaN</td>\n",
       "      <td>NaN</td>\n",
       "      <td>205 grams</td>\n",
       "    </tr>\n",
       "  </tbody>\n",
       "</table>\n",
       "<p>5 rows × 27 columns</p>\n",
       "</div>"
      ],
      "text/plain": [
       "                     id       asins   brand                  categories  \\\n",
       "0  AVpe7AsMilAPnD_xQ78G  B00QJDU3KY  Amazon  Amazon Devices,mazon.co.uk   \n",
       "1  AVpe7AsMilAPnD_xQ78G  B00QJDU3KY  Amazon  Amazon Devices,mazon.co.uk   \n",
       "2  AVpe7AsMilAPnD_xQ78G  B00QJDU3KY  Amazon  Amazon Devices,mazon.co.uk   \n",
       "3  AVpe7AsMilAPnD_xQ78G  B00QJDU3KY  Amazon  Amazon Devices,mazon.co.uk   \n",
       "4  AVpe7AsMilAPnD_xQ78G  B00QJDU3KY  Amazon  Amazon Devices,mazon.co.uk   \n",
       "\n",
       "  colors             dateAdded           dateUpdated  \\\n",
       "0    NaN  2016-03-08T20:21:53Z  2017-07-18T23:52:58Z   \n",
       "1    NaN  2016-03-08T20:21:53Z  2017-07-18T23:52:58Z   \n",
       "2    NaN  2016-03-08T20:21:53Z  2017-07-18T23:52:58Z   \n",
       "3    NaN  2016-03-08T20:21:53Z  2017-07-18T23:52:58Z   \n",
       "4    NaN  2016-03-08T20:21:53Z  2017-07-18T23:52:58Z   \n",
       "\n",
       "                  dimension  ean                         keys  ...  \\\n",
       "0  169 mm x 117 mm x 9.1 mm  NaN  kindlepaperwhite/b00qjdu3ky  ...   \n",
       "1  169 mm x 117 mm x 9.1 mm  NaN  kindlepaperwhite/b00qjdu3ky  ...   \n",
       "2  169 mm x 117 mm x 9.1 mm  NaN  kindlepaperwhite/b00qjdu3ky  ...   \n",
       "3  169 mm x 117 mm x 9.1 mm  NaN  kindlepaperwhite/b00qjdu3ky  ...   \n",
       "4  169 mm x 117 mm x 9.1 mm  NaN  kindlepaperwhite/b00qjdu3ky  ...   \n",
       "\n",
       "  reviews.rating                                 reviews.sourceURLs  \\\n",
       "0            5.0  https://www.amazon.com/Kindle-Paperwhite-High-...   \n",
       "1            5.0  https://www.amazon.com/Kindle-Paperwhite-High-...   \n",
       "2            4.0  https://www.amazon.com/Kindle-Paperwhite-High-...   \n",
       "3            5.0  https://www.amazon.com/Kindle-Paperwhite-High-...   \n",
       "4            5.0  https://www.amazon.com/Kindle-Paperwhite-High-...   \n",
       "\n",
       "                                        reviews.text  \\\n",
       "0  I initially had trouble deciding between the p...   \n",
       "1  Allow me to preface this with a little history...   \n",
       "2  I am enjoying it so far. Great for reading. Ha...   \n",
       "3  I bought one of the first Paperwhites and have...   \n",
       "4  I have to say upfront - I don't like coroporat...   \n",
       "\n",
       "                                reviews.title reviews.userCity  \\\n",
       "0              Paperwhite voyage, no regrets!              NaN   \n",
       "1           One Simply Could Not Ask For More              NaN   \n",
       "2  Great for those that just want an e-reader              NaN   \n",
       "3                    Love / Hate relationship              NaN   \n",
       "4                                   I LOVE IT              NaN   \n",
       "\n",
       "  reviews.userProvince    reviews.username  sizes upc     weight  \n",
       "0                  NaN          Cristina M    NaN NaN  205 grams  \n",
       "1                  NaN               Ricky    NaN NaN  205 grams  \n",
       "2                  NaN       Tedd Gardiner    NaN NaN  205 grams  \n",
       "3                  NaN              Dougal    NaN NaN  205 grams  \n",
       "4                  NaN  Miljan David Tanic    NaN NaN  205 grams  \n",
       "\n",
       "[5 rows x 27 columns]"
      ]
     },
     "execution_count": 5,
     "metadata": {},
     "output_type": "execute_result"
    }
   ],
   "source": [
    "df.head()"
   ]
  },
  {
   "cell_type": "code",
   "execution_count": 6,
   "id": "e7d7cb63",
   "metadata": {
    "execution": {
     "iopub.execute_input": "2023-06-16T17:47:06.387430Z",
     "iopub.status.busy": "2023-06-16T17:47:06.387060Z",
     "iopub.status.idle": "2023-06-16T17:47:06.418647Z",
     "shell.execute_reply": "2023-06-16T17:47:06.417627Z"
    },
    "id": "KJT_YMKI_sj3",
    "outputId": "c433b37f-0bf4-4fbc-f697-6334a09c43a6",
    "papermill": {
     "duration": 0.042536,
     "end_time": "2023-06-16T17:47:06.420973",
     "exception": false,
     "start_time": "2023-06-16T17:47:06.378437",
     "status": "completed"
    },
    "tags": []
   },
   "outputs": [
    {
     "name": "stdout",
     "output_type": "stream",
     "text": [
      "<class 'pandas.core.frame.DataFrame'>\n",
      "RangeIndex: 1597 entries, 0 to 1596\n",
      "Data columns (total 27 columns):\n",
      " #   Column                Non-Null Count  Dtype  \n",
      "---  ------                --------------  -----  \n",
      " 0   id                    1597 non-null   object \n",
      " 1   asins                 1597 non-null   object \n",
      " 2   brand                 1597 non-null   object \n",
      " 3   categories            1597 non-null   object \n",
      " 4   colors                774 non-null    object \n",
      " 5   dateAdded             1597 non-null   object \n",
      " 6   dateUpdated           1597 non-null   object \n",
      " 7   dimension             565 non-null    object \n",
      " 8   ean                   898 non-null    float64\n",
      " 9   keys                  1597 non-null   object \n",
      " 10  manufacturer          965 non-null    object \n",
      " 11  manufacturerNumber    902 non-null    object \n",
      " 12  name                  1597 non-null   object \n",
      " 13  prices                1597 non-null   object \n",
      " 14  reviews.date          1217 non-null   object \n",
      " 15  reviews.doRecommend   539 non-null    object \n",
      " 16  reviews.numHelpful    900 non-null    float64\n",
      " 17  reviews.rating        1177 non-null   float64\n",
      " 18  reviews.sourceURLs    1597 non-null   object \n",
      " 19  reviews.text          1597 non-null   object \n",
      " 20  reviews.title         1580 non-null   object \n",
      " 21  reviews.userCity      0 non-null      float64\n",
      " 22  reviews.userProvince  0 non-null      float64\n",
      " 23  reviews.username      1580 non-null   object \n",
      " 24  sizes                 0 non-null      float64\n",
      " 25  upc                   898 non-null    float64\n",
      " 26  weight                686 non-null    object \n",
      "dtypes: float64(7), object(20)\n",
      "memory usage: 337.0+ KB\n"
     ]
    }
   ],
   "source": [
    "df.info()"
   ]
  },
  {
   "cell_type": "markdown",
   "id": "74f36f8f",
   "metadata": {
    "id": "mBliHywmPeD7",
    "papermill": {
     "duration": 0.007323,
     "end_time": "2023-06-16T17:47:06.435497",
     "exception": false,
     "start_time": "2023-06-16T17:47:06.428174",
     "status": "completed"
    },
    "tags": []
   },
   "source": [
    "# Data Preprocessing"
   ]
  },
  {
   "cell_type": "code",
   "execution_count": 7,
   "id": "326eac93",
   "metadata": {
    "execution": {
     "iopub.execute_input": "2023-06-16T17:47:06.451969Z",
     "iopub.status.busy": "2023-06-16T17:47:06.451009Z",
     "iopub.status.idle": "2023-06-16T17:47:06.466987Z",
     "shell.execute_reply": "2023-06-16T17:47:06.466118Z"
    },
    "id": "TFwlPSqX_wxs",
    "outputId": "feaa9b74-b3b2-4262-9e61-e8328afd7ad5",
    "papermill": {
     "duration": 0.02632,
     "end_time": "2023-06-16T17:47:06.469148",
     "exception": false,
     "start_time": "2023-06-16T17:47:06.442828",
     "status": "completed"
    },
    "tags": []
   },
   "outputs": [],
   "source": [
    "# Drop unnecessary columns and rows with missing values\n",
    "df = df.drop(['id', 'asins', 'brand', 'categories', 'dateAdded', 'dateUpdated', 'keys',\n",
    "              'name', 'prices', 'reviews.date', 'reviews.doRecommend', 'reviews.numHelpful',\n",
    "              'reviews.rating', 'reviews.sourceURLs', 'reviews.username'], axis=1)\n",
    "df = df.dropna(subset=['reviews.text', 'reviews.title'])\n",
    "\n",
    "# Drop duplicate rows\n",
    "df = df.drop_duplicates(subset=['reviews.text', 'reviews.title'])\n",
    "\n",
    "df = df.reset_index(drop=True)"
   ]
  },
  {
   "cell_type": "code",
   "execution_count": 8,
   "id": "f4e91039",
   "metadata": {
    "execution": {
     "iopub.execute_input": "2023-06-16T17:47:06.485153Z",
     "iopub.status.busy": "2023-06-16T17:47:06.484862Z",
     "iopub.status.idle": "2023-06-16T17:47:37.158109Z",
     "shell.execute_reply": "2023-06-16T17:47:37.157046Z"
    },
    "id": "me7GnN8ITbQH",
    "outputId": "23c309c8-2273-4077-8e03-b2bb36c66d33",
    "papermill": {
     "duration": 30.684031,
     "end_time": "2023-06-16T17:47:37.160743",
     "exception": false,
     "start_time": "2023-06-16T17:47:06.476712",
     "status": "completed"
    },
    "tags": []
   },
   "outputs": [
    {
     "name": "stderr",
     "output_type": "stream",
     "text": [
      "/opt/conda/lib/python3.10/site-packages/tensorflow_io/python/ops/__init__.py:98: UserWarning: unable to load libtensorflow_io_plugins.so: unable to open file: libtensorflow_io_plugins.so, from paths: ['/opt/conda/lib/python3.10/site-packages/tensorflow_io/python/ops/libtensorflow_io_plugins.so']\n",
      "caused by: ['/opt/conda/lib/python3.10/site-packages/tensorflow_io/python/ops/libtensorflow_io_plugins.so: undefined symbol: _ZN3tsl6StatusC1EN10tensorflow5error4CodeESt17basic_string_viewIcSt11char_traitsIcEENS_14SourceLocationE']\n",
      "  warnings.warn(f\"unable to load libtensorflow_io_plugins.so: {e}\")\n",
      "/opt/conda/lib/python3.10/site-packages/tensorflow_io/python/ops/__init__.py:104: UserWarning: file system plugins are not loaded: unable to open file: libtensorflow_io.so, from paths: ['/opt/conda/lib/python3.10/site-packages/tensorflow_io/python/ops/libtensorflow_io.so']\n",
      "caused by: ['/opt/conda/lib/python3.10/site-packages/tensorflow_io/python/ops/libtensorflow_io.so: undefined symbol: _ZTVN10tensorflow13GcsFileSystemE']\n",
      "  warnings.warn(f\"file system plugins are not loaded: {e}\")\n"
     ]
    }
   ],
   "source": [
    "import spacy\n",
    "from nltk.corpus import stopwords\n",
    "import string\n",
    "\n",
    "# define stop words and punctuation\n",
    "stop = set(stopwords.words('english'))\n",
    "exclude = set(string.punctuation)\n",
    "\n",
    "nlp = spacy.load('en_core_web_sm', disable=['parser', 'ner'])\n",
    "\n",
    "def clean(doc):\n",
    "    stop_free = \" \".join([i for i in doc.lower().split() if i not in stop])\n",
    "    punc_free = ''.join(ch for ch in stop_free if ch not in exclude)\n",
    "    doc = nlp(punc_free)\n",
    "    normalized = \" \".join(token.lemma_ for token in doc)\n",
    "    return normalized\n",
    "\n",
    "doc_clean = [clean(str(txt) + ' ' + str(title)).split() for txt, title in zip(df['reviews.text'], df['reviews.title'])]"
   ]
  },
  {
   "cell_type": "markdown",
   "id": "23cd0df1",
   "metadata": {
    "id": "2eGd1sLHPiw1",
    "papermill": {
     "duration": 0.008117,
     "end_time": "2023-06-16T17:47:37.177493",
     "exception": false,
     "start_time": "2023-06-16T17:47:37.169376",
     "status": "completed"
    },
    "tags": []
   },
   "source": [
    "# Create the corpus and dictionary\n"
   ]
  },
  {
   "cell_type": "code",
   "execution_count": 9,
   "id": "25188022",
   "metadata": {
    "execution": {
     "iopub.execute_input": "2023-06-16T17:47:37.196767Z",
     "iopub.status.busy": "2023-06-16T17:47:37.195287Z",
     "iopub.status.idle": "2023-06-16T17:47:37.473140Z",
     "shell.execute_reply": "2023-06-16T17:47:37.472044Z"
    },
    "id": "RX3VjGM0Tt-g",
    "outputId": "3021db9c-3b45-4755-df40-3141dbde2ea7",
    "papermill": {
     "duration": 0.290275,
     "end_time": "2023-06-16T17:47:37.475849",
     "exception": false,
     "start_time": "2023-06-16T17:47:37.185574",
     "status": "completed"
    },
    "tags": []
   },
   "outputs": [],
   "source": [
    "# Create the corpus and dictionary\n",
    "dictionary = corpora.Dictionary(doc_clean)\n",
    "doc_term_matrix = [dictionary.doc2bow(doc) for doc in doc_clean]"
   ]
  },
  {
   "cell_type": "markdown",
   "id": "017fcd76",
   "metadata": {
    "id": "3cbbhCHYPkEE",
    "papermill": {
     "duration": 0.007698,
     "end_time": "2023-06-16T17:47:37.491595",
     "exception": false,
     "start_time": "2023-06-16T17:47:37.483897",
     "status": "completed"
    },
    "tags": []
   },
   "source": [
    "# Train the LDA model and print out the topics\n"
   ]
  },
  {
   "cell_type": "code",
   "execution_count": 10,
   "id": "a3bdf3ca",
   "metadata": {
    "execution": {
     "iopub.execute_input": "2023-06-16T17:47:37.508813Z",
     "iopub.status.busy": "2023-06-16T17:47:37.508484Z",
     "iopub.status.idle": "2023-06-16T17:49:25.025107Z",
     "shell.execute_reply": "2023-06-16T17:49:25.024062Z"
    },
    "id": "oNZLHee1Ty05",
    "outputId": "fa478005-64e1-4db4-fd5d-8d11c65ae9f9",
    "papermill": {
     "duration": 107.536767,
     "end_time": "2023-06-16T17:49:25.036350",
     "exception": false,
     "start_time": "2023-06-16T17:47:37.499583",
     "status": "completed"
    },
    "tags": []
   },
   "outputs": [
    {
     "name": "stdout",
     "output_type": "stream",
     "text": [
      "[(0, '0.024*\"fire\" + 0.017*\"amazon\" + 0.016*\"prime\" + 0.011*\"hdx\" + 0.010*\"tv\"'), (1, '0.015*\"headphone\" + 0.015*\"like\" + 0.014*\"I\" + 0.014*\"would\" + 0.012*\"kindle\"'), (2, '0.026*\"I\" + 0.024*\"headphone\" + 0.016*\"review\" + 0.015*\"people\" + 0.015*\"like\"'), (3, '0.045*\"kindle\" + 0.016*\"fire\" + 0.016*\"year\" + 0.014*\"tablet\" + 0.013*\"use\"'), (4, '0.018*\"great\" + 0.014*\"use\" + 0.012*\"amazon\" + 0.010*\"speaker\" + 0.009*\"echo\"')]\n"
     ]
    }
   ],
   "source": [
    "# Train the LDA model and print out the topics\n",
    "ldamodel = LdaModel(doc_term_matrix, num_topics=5, id2word = dictionary, passes=50)\n",
    "\n",
    "print(ldamodel.print_topics(num_topics=5, num_words=5))"
   ]
  },
  {
   "cell_type": "markdown",
   "id": "9e319671",
   "metadata": {
    "id": "BUq-am2ePom6",
    "papermill": {
     "duration": 0.007777,
     "end_time": "2023-06-16T17:49:25.052157",
     "exception": false,
     "start_time": "2023-06-16T17:49:25.044380",
     "status": "completed"
    },
    "tags": []
   },
   "source": [
    "# Display the visualization Topic Modelling"
   ]
  },
  {
   "cell_type": "code",
   "execution_count": 11,
   "id": "bf043220",
   "metadata": {
    "execution": {
     "iopub.execute_input": "2023-06-16T17:49:25.068730Z",
     "iopub.status.busy": "2023-06-16T17:49:25.068396Z",
     "iopub.status.idle": "2023-06-16T17:49:36.896314Z",
     "shell.execute_reply": "2023-06-16T17:49:36.895086Z"
    },
    "papermill": {
     "duration": 11.839463,
     "end_time": "2023-06-16T17:49:36.899273",
     "exception": false,
     "start_time": "2023-06-16T17:49:25.059810",
     "status": "completed"
    },
    "tags": []
   },
   "outputs": [
    {
     "name": "stdout",
     "output_type": "stream",
     "text": [
      "Requirement already satisfied: pyLDAvis in /opt/conda/lib/python3.10/site-packages (3.2.2)\r\n",
      "Requirement already satisfied: wheel>=0.23.0 in /opt/conda/lib/python3.10/site-packages (from pyLDAvis) (0.40.0)\r\n",
      "Requirement already satisfied: numpy>=1.9.2 in /opt/conda/lib/python3.10/site-packages (from pyLDAvis) (1.23.5)\r\n",
      "Requirement already satisfied: scipy>=0.18.0 in /opt/conda/lib/python3.10/site-packages (from pyLDAvis) (1.10.1)\r\n",
      "Requirement already satisfied: joblib>=0.8.4 in /opt/conda/lib/python3.10/site-packages (from pyLDAvis) (1.2.0)\r\n",
      "Requirement already satisfied: jinja2>=2.7.2 in /opt/conda/lib/python3.10/site-packages (from pyLDAvis) (3.1.2)\r\n",
      "Requirement already satisfied: numexpr in /opt/conda/lib/python3.10/site-packages (from pyLDAvis) (2.8.4)\r\n",
      "Requirement already satisfied: future in /opt/conda/lib/python3.10/site-packages (from pyLDAvis) (0.18.3)\r\n",
      "Requirement already satisfied: funcy in /opt/conda/lib/python3.10/site-packages (from pyLDAvis) (2.0)\r\n",
      "Requirement already satisfied: pandas>=0.17.0 in /opt/conda/lib/python3.10/site-packages (from pyLDAvis) (1.5.3)\r\n",
      "Requirement already satisfied: MarkupSafe>=2.0 in /opt/conda/lib/python3.10/site-packages (from jinja2>=2.7.2->pyLDAvis) (2.1.2)\r\n",
      "Requirement already satisfied: python-dateutil>=2.8.1 in /opt/conda/lib/python3.10/site-packages (from pandas>=0.17.0->pyLDAvis) (2.8.2)\r\n",
      "Requirement already satisfied: pytz>=2020.1 in /opt/conda/lib/python3.10/site-packages (from pandas>=0.17.0->pyLDAvis) (2023.3)\r\n",
      "Requirement already satisfied: six>=1.5 in /opt/conda/lib/python3.10/site-packages (from python-dateutil>=2.8.1->pandas>=0.17.0->pyLDAvis) (1.16.0)\r\n",
      "\u001b[33mWARNING: Running pip as the 'root' user can result in broken permissions and conflicting behaviour with the system package manager. It is recommended to use a virtual environment instead: https://pip.pypa.io/warnings/venv\u001b[0m\u001b[33m\r\n",
      "\u001b[0m"
     ]
    }
   ],
   "source": [
    "!pip install pyLDAvis"
   ]
  },
  {
   "cell_type": "code",
   "execution_count": 12,
   "id": "71c3f4c5",
   "metadata": {
    "execution": {
     "iopub.execute_input": "2023-06-16T17:49:36.918529Z",
     "iopub.status.busy": "2023-06-16T17:49:36.918184Z",
     "iopub.status.idle": "2023-06-16T17:49:39.060193Z",
     "shell.execute_reply": "2023-06-16T17:49:39.058567Z"
    },
    "id": "Ki198nNBa7io",
    "outputId": "ec3d1a88-f932-4885-9e3a-ccc02c034b39",
    "papermill": {
     "duration": 2.155555,
     "end_time": "2023-06-16T17:49:39.063500",
     "exception": false,
     "start_time": "2023-06-16T17:49:36.907945",
     "status": "completed"
    },
    "tags": []
   },
   "outputs": [
    {
     "name": "stderr",
     "output_type": "stream",
     "text": [
      "/opt/conda/lib/python3.10/site-packages/pyLDAvis/_prepare.py:248: FutureWarning: In a future version of pandas all arguments of DataFrame.drop except for the argument 'labels' will be keyword-only.\n",
      "  by='saliency', ascending=False).head(R).drop('saliency', 1)\n",
      "/opt/conda/lib/python3.10/site-packages/joblib/parallel.py:775: UserWarning: Loky-backed parallel loops cannot be called in a multiprocessing, setting n_jobs=1\n",
      "  n_jobs = self._backend.configure(n_jobs=self.n_jobs, parallel=self,\n"
     ]
    },
    {
     "data": {
      "text/html": [
       "\n",
       "<link rel=\"stylesheet\" type=\"text/css\" href=\"https://cdn.jsdelivr.net/gh/bmabey/pyLDAvis@3.2.2/pyLDAvis/js/ldavis.v1.0.0.css\">\n",
       "\n",
       "\n",
       "<div id=\"ldavis_el241357305639325445588445420\"></div>\n",
       "<script type=\"text/javascript\">\n",
       "\n",
       "var ldavis_el241357305639325445588445420_data = {\"mdsDat\": {\"x\": [-0.08961388041717698, -0.10669786619995923, 0.25307659120791404, -0.10557463389026321, 0.048809789299485214], \"y\": [-0.07899440597295423, -0.09570954444107692, -0.059997371210296635, 0.08785077539918815, 0.14685054622513963], \"topics\": [1, 2, 3, 4, 5], \"cluster\": [1, 1, 1, 1, 1], \"Freq\": [32.307430310211615, 20.735535414531505, 18.327664230455927, 17.568924749714828, 11.06044529508612]}, \"tinfo\": {\"Term\": [\"kindle\", \"headphone\", \"prime\", \"fire\", \"I\", \"year\", \"ear\", \"speaker\", \"hdx\", \"tv\", \"book\", \"echo\", \"earbud\", \"tap\", \"would\", \"sound\", \"last\", \"bud\", \"like\", \"fall\", \"read\", \"nice\", \"paperwhite\", \"magnet\", \"they\", \"m\", \"alexa\", \"ipad\", \"cover\", \"ve\", \"speaker\", \"echo\", \"tap\", \"alexa\", \"portable\", \"bluetooth\", \"dot\", \"smart\", \"ad\", \"command\", \"fun\", \"connection\", \"gig\", \"cool\", \"song\", \"responsive\", \"team\", \"decent\", \"name\", \"weather\", \"hbo\", \"pass\", \"suggest\", \"microphone\", \"channel\", \"player\", \"operate\", \"vacation\", \"anytime\", \"opt\", \"via\", \"stream\", \"setup\", \"box\", \"music\", \"comment\", \"series\", \"camera\", \"phone\", \"roku\", \"great\", \"room\", \"high\", \"always\", \"easy\", \"home\", \"play\", \"love\", \"voice\", \"feature\", \"want\", \"tv\", \"price\", \"use\", \"amazon\", \"it\", \"3\", \"app\", \"quality\", \"work\", \"get\", \"sound\", \"content\", \"device\", \"good\", \"go\", \"product\", \"well\", \"screen\", \"like\", \"would\", \"fire\", \"drop\", \"samsung\", \"gen\", \"result\", \"lg\", \"limitation\", \"surfing\", \"tough\", \"accidental\", \"chromebook\", \"s4\", \"couch\", \"informed\", \"offline\", \"occur\", \"earn\", \"usefulness\", \"oneamazon\", \"younow\", \"reflect\", \"gen2\", \"smartphonewhich\", \"tabletseven\", \"bw\", \"wayfirst\", \"backthey\", \"bothread\", \"camerasthe\", \"guilty\", \"gen3\", \"blue\", \"single\", \"prime\", \"title\", \"available\", \"remove\", \"smartphone\", \"note\", \"entire\", \"download\", \"background\", \"search\", \"movie\", \"line\", \"fire\", \"video\", \"netflix\", \"hdx\", \"medium\", \"kid\", \"tv\", \"many\", \"amazon\", \"edge\", \"power\", \"game\", \"watch\", \"app\", \"find\", \"device\", \"one\", \"free\", \"content\", \"review\", \"I\", \"come\", \"like\", \"use\", \"tablet\", \"well\", \"helpful\", \"feature\", \"good\", \"kindle\", \"thing\", \"get\", \"earbud\", \"bud\", \"cancel\", \"brain\", \"shove\", \"represent\", \"mainly\", \"secondary\", \"immediate\", \"longevity\", \"feeling\", \"magnet\", \"perform\", \"midrange\", \"compel\", \"ignorance\", \"tug\", \"musician\", \"highs\", \"budsread\", \"validity\", \"1550\", \"higherend\", \"alltoocommon\", \"otherssound\", \"metalfit\", \"hang\", \"wherever\", \"dislodge\", \"comfortableread\", \"flat\", \"fall\", \"hate\", \"ear\", \"suppose\", \"crazy\", \"headphone\", \"design\", \"never\", \"cord\", \"noise\", \"range\", \"they\", \"tangle\", \"ill\", \"write\", \"re\", \"ve\", \"people\", \"m\", \"I\", \"feel\", \"quite\", \"compare\", \"sound\", \"apple\", \"review\", \"awesome\", \"s\", \"like\", \"far\", \"helpful\", \"well\", \"use\", \"year\", \"say\", \"nice\", \"find\", \"really\", \"go\", \"reading\", \"nexus\", \"email\", \"23\", \"hd7\", \"killer\", \"profile\", \"air\", \"relate\", \"22ghz\", \"pdf\", \"asus\", \"enlarge\", \"spreadsheet\", \"bound\", \"document\", \"44\", \"gen10\", \"898\", \"fire6\", \"booksmagazine\", \"sake\", \"before1\", \"seamlessly\", \"ongoing\", \"transformer\", \"mini5\", \"keyboard9\", \"910this\", \"refurbish\", \"12\", \"keyboard\", \"kindle\", \"vs\", \"book\", \"last\", \"comparison\", \"ppi\", \"mini\", \"model\", \"ipad\", \"year\", \"read\", \"resolution\", \"page\", \"hd\", \"7\", \"version\", \"processor\", \"incredible\", \"tablet\", \"1080p\", \"new\", \"hdx\", \"personal\", \"display\", \"screen\", \"fire\", \"experience\", \"device\", \"use\", \"hour\", \"one\", \"review\", \"update\", \"get\", \"good\", \"also\", \"first\", \"well\", \"helpful\", \"much\", \"I\", \"voyage\", \"oasis\", \"ambient\", \"june\", \"preordere\", \"danglingread\", \"skullcandy\", \"outfeel\", \"orderingi\", \"androidsi\", \"timeaudio\", \"volumei\", \"downone\", \"headphoneslook\", \"plastic\", \"snap\", \"fold\", \"odd\", \"recharge\", \"impossible\", \"secondly\", \"pageturne\", \"329\", \"body\", \"exterior\", \"firm\", \"oneread\", \"produce\", \"finding\", \"tableti\", \"micro\", \"together\", \"bass\", \"complete\", \"cover\", \"interesting\", \"charger\", \"finally\", \"paperwhite\", \"chance\", \"everyday\", \"case\", \"section\", \"description\", \"research\", \"earpod\", \"would\", \"turn\", \"headphone\", \"iphone\", \"nice\", \"hand\", \"work\", \"like\", \"around\", \"light\", \"buy\", \"set\", \"think\", \"even\", \"I\", \"say\", \"give\", \"thing\", \"kindle\", \"still\", \"love\", \"button\", \"find\", \"try\", \"helpful\", \"want\", \"well\", \"one\", \"use\", \"it\"], \"Freq\": [1391.0, 804.0, 544.0, 1341.0, 1362.0, 644.0, 326.0, 406.0, 541.0, 602.0, 397.0, 363.0, 227.0, 342.0, 612.0, 765.0, 298.0, 202.0, 1134.0, 225.0, 517.0, 477.0, 215.0, 195.0, 437.0, 613.0, 273.0, 357.0, 185.0, 478.0, 406.1982327690307, 362.717151964017, 341.4445707169085, 272.8103429291365, 119.09735168357572, 118.1237318664091, 110.3852967217922, 74.62610765230914, 77.47160874934241, 71.7069055189361, 74.51940911434276, 72.4674110958982, 54.32619351254591, 52.3788595996366, 45.622261394395885, 41.73504653811757, 39.806861100212316, 46.36979126207175, 35.955387748327425, 35.95480719078001, 35.951643896451145, 34.98968485053602, 34.02246109045161, 33.02540808509979, 49.070480466252356, 33.96570786866905, 31.108784177839638, 30.15511172255856, 32.03611073313781, 29.185317630768495, 58.29673078195408, 159.8655614999738, 77.70306265360885, 252.32295335983105, 301.77131228305643, 86.08444791488179, 65.50883344649057, 140.31056719993825, 139.44899995145303, 209.44458060557983, 770.3421867793204, 88.9402452248286, 109.75801669688605, 127.74706369642143, 279.59224748900806, 112.91881016246887, 196.8329454079611, 302.08785012121626, 158.64632118197775, 275.84849485333547, 327.76681353290166, 324.3901915965294, 237.6766674017657, 600.9258879529127, 524.3941522525321, 240.86439476792432, 181.14733242723452, 241.18795884101698, 234.88590246119003, 314.24960780192185, 320.60420215877474, 326.2704636696668, 233.7451912350349, 310.25981785487295, 284.4865758671116, 247.9744483169041, 228.91487304805665, 294.75982450434896, 236.22606745807929, 285.5412653356429, 240.1635377574364, 229.65463237625173, 52.76161928100601, 103.61409645466937, 36.85996056522709, 34.98056699562903, 33.10638045517266, 32.165013280902805, 31.225556943015214, 31.22502190882818, 31.223611074632604, 30.289591066252566, 30.289228007339933, 30.288212079330027, 30.287957301145727, 30.287492330959374, 30.286202516401342, 29.349023258535954, 29.343163360296998, 28.408875834823444, 28.408869465368834, 28.408869465368834, 28.408869465368834, 28.408869465368834, 28.408869465368834, 28.408869465368834, 28.408869465368834, 28.408869465368834, 28.408869465368834, 28.408866280641533, 28.408866280641533, 28.408863095914228, 117.29354481496209, 50.66895089332839, 444.66197014811087, 74.96721320952518, 164.34182700753203, 81.2261323018265, 108.09423069762634, 75.04711164812244, 67.9017810359053, 203.68695449226385, 79.81534906188861, 204.0083699106706, 186.74214153285894, 104.43964146635533, 667.8664112714104, 228.86224930646685, 95.00295688415962, 297.02068751578383, 42.79952475768721, 91.8062932224446, 277.38457616213697, 142.8510706001648, 469.880322475461, 48.37088033346614, 87.37372606649687, 119.29371916755602, 119.75532628187517, 172.42982416275896, 222.8325159298548, 240.46698795634796, 217.79111808578875, 127.61980653601358, 151.8862438722637, 215.68186045358573, 230.36409026947442, 128.34862501002914, 202.8839063942518, 220.4622890034708, 173.7858046152534, 176.57809708175282, 144.30688588417814, 132.8402879658258, 135.08620861608864, 135.20135561648414, 125.1074006438796, 127.45138541728045, 226.9543210495322, 201.31927436036426, 120.67750231525665, 77.03987842651561, 76.0922905087694, 56.14610417647504, 55.21232619457706, 55.21100318808528, 53.32073655114958, 53.31993711743966, 59.85740198721493, 192.67527914567364, 137.48559606645802, 52.371921333764185, 52.37191570394933, 52.37191570394933, 52.37191570394933, 52.37191570394933, 52.371898814504746, 52.371898814504746, 52.371898814504746, 52.371898814504746, 52.371898814504746, 52.371898814504746, 51.42307796730449, 51.42307796730449, 44.76389931519294, 45.69536062827659, 38.139549512704335, 37.19077088911551, 79.72062736775241, 215.54129013699165, 122.78100381977805, 301.77293913412836, 82.66947372237235, 56.504875387971346, 575.7339172888107, 160.51252968569528, 211.48994024916044, 133.90559679785125, 116.36351030464031, 107.56699214579952, 285.39096606957713, 112.96629986486374, 100.09259096799057, 108.42352343802216, 158.29865003105547, 295.8853463127449, 361.6597118654608, 348.33558400100753, 637.0048588205468, 242.42908322850334, 105.46977351466036, 203.7094910760063, 341.1273492100852, 253.38517584785757, 392.5956796292234, 141.43766979907207, 174.2361942510362, 356.23488982545723, 156.87205494587704, 242.4658796984194, 251.30169396497348, 303.74555870281614, 194.66553129449872, 166.76510340436414, 164.01050255181173, 159.22425915159357, 149.44286118138294, 151.32681116604726, 59.118573007399554, 50.57348023336461, 52.43331847917418, 35.364258502928564, 29.65712415642735, 28.707201985376788, 28.700005421313012, 27.75465699457745, 25.856825639649774, 25.85666643557037, 25.856342630663114, 25.855284867966077, 25.852340941684268, 24.905945545748576, 24.902378295020302, 24.89420222111207, 23.95552957221445, 23.95552957221445, 23.955524175465996, 23.955524175465996, 23.955524175465996, 23.955524175465996, 23.955524175465996, 23.955524175465996, 23.955524175465996, 23.955524175465996, 23.955524175465996, 23.955524175465996, 23.004797888895748, 20.140758325269616, 54.63420424355174, 104.25208762486612, 1044.6641409297924, 68.39796896311714, 304.60847872176726, 234.19269789208695, 44.35510381066713, 31.374477449547122, 67.17147692565605, 229.35870077962886, 251.2991168595073, 373.2073038688556, 308.1435648292563, 38.15334127808614, 111.45449097047096, 273.75211610757293, 191.63616304202802, 156.77376166973372, 43.91940541933383, 34.34435939304563, 319.7628074253006, 35.36530817050292, 226.68480620347935, 213.17745719322198, 54.6839352805579, 120.41823110909793, 208.37055175800435, 373.4299952970729, 79.79011098745703, 225.78510347517008, 308.5223949837527, 77.99379247095429, 195.98609340513133, 224.2757408674781, 94.89747178919283, 125.14925826104843, 115.19209546045522, 95.58730576361225, 88.48570288563637, 102.3542023024539, 97.72693303628532, 89.02657580922084, 99.34784643452717, 50.744787545847274, 36.95435438958726, 27.759819490120115, 25.92469834569524, 25.006279055081407, 24.088704043489322, 24.088697248487136, 23.169221335033203, 23.169214540031017, 23.169214540031017, 23.169214540031017, 23.169214540031017, 23.169214540031017, 23.169214540031017, 35.15619635830979, 13.833512620751103, 12.07573898622226, 11.198599333895203, 11.19792238180231, 11.184756215689484, 10.295987766494438, 10.294422367865579, 9.376926348173921, 9.37646258927465, 9.376270630462864, 9.375118877592145, 9.37434594609336, 9.329554990426388, 8.45743854346616, 8.45743854346616, 22.684345267714974, 13.460355732517195, 56.12017108103495, 28.409343556683993, 134.44303219350334, 29.24800311162537, 35.269513212283364, 40.51179284712857, 138.3420859885012, 33.6057637217683, 28.663823183593966, 142.0025400767004, 33.1018973220876, 29.175520823295322, 29.775553491429285, 71.9039792839074, 205.97639846812064, 84.70712919988817, 223.6102173639605, 62.18989851721277, 150.40294307055836, 62.03438130215607, 168.42596610167232, 222.68549910631918, 93.06901812134954, 89.83204215945628, 130.75876841764045, 88.74045903310578, 108.95393935426749, 91.85727217632196, 211.35848867046698, 115.79697541185203, 87.28522777470698, 106.0419411669756, 179.54529409067726, 80.91411141402038, 106.87523946519134, 74.59636300051145, 110.18992986709874, 76.37041576153008, 102.45540311256794, 96.06467637556929, 105.63514477103907, 92.55290373022656, 97.85123873561444, 76.25557342956552], \"Total\": [1391.0, 804.0, 544.0, 1341.0, 1362.0, 644.0, 326.0, 406.0, 541.0, 602.0, 397.0, 363.0, 227.0, 342.0, 612.0, 765.0, 298.0, 202.0, 1134.0, 225.0, 517.0, 477.0, 215.0, 195.0, 437.0, 613.0, 273.0, 357.0, 185.0, 478.0, 406.976438250522, 363.4740909543813, 342.2047192975583, 273.5657086192961, 119.85094574486178, 118.88305156586834, 111.14890679463483, 75.37979794576043, 78.27659614354292, 72.4780437655104, 75.37548665743267, 73.43896619069206, 55.07858155916008, 53.14140122071318, 46.37656308260457, 42.508452968779956, 40.57142840396749, 47.33396553597437, 36.70923253790244, 36.709093816006046, 36.7086612655609, 35.74293495170823, 34.77590147874056, 33.804190200459686, 50.231140552042405, 34.77311646961714, 31.87268404911148, 30.908805520563245, 32.83972490957933, 29.941759042669187, 59.88628371110774, 167.04181330919627, 81.10238236957252, 270.1854862393374, 327.9752638975232, 90.73351241084775, 68.57145455599303, 153.47339441047453, 155.35420669971086, 243.63748611903688, 996.6815625095757, 98.43054794993859, 130.13698051793003, 158.5049799114988, 414.84799727469294, 139.6650804374632, 284.2097564592546, 498.40602161465256, 217.81218178223793, 465.542771296351, 601.1775804411135, 602.3468441276864, 392.16560108192556, 1531.5073693785669, 1259.1835090968927, 417.4385550651025, 279.0586029652616, 428.0889216079402, 415.33873978862636, 677.1190928086834, 722.6102455888656, 765.8625633383255, 460.5071831426524, 804.9446038844661, 729.8662167576246, 583.9244653378507, 486.07134474039464, 930.6289626245682, 553.8343806264935, 1134.218602794554, 612.2734512777279, 1341.4600201178525, 53.61864576665845, 105.39393006838954, 37.6296231755992, 35.7487382922488, 33.86796198858488, 32.92631632747178, 31.98666785973987, 31.9863225465358, 31.986495324077378, 31.04737543360084, 31.04726183353851, 31.046827733478363, 31.046830137002683, 31.046490933448023, 31.04599958428201, 30.10669130256192, 30.104956154483897, 29.166096641599804, 29.166092337635344, 29.166093687928914, 29.166094158289077, 29.166095427400816, 29.16609554341134, 29.166095941441256, 29.166096353993954, 29.166096535560722, 29.16609655488877, 29.166094272979496, 29.166095024617682, 29.16609635156305, 127.2492675385094, 53.64116808588023, 544.560230140208, 83.56431669294479, 197.08092899024402, 92.47177895683114, 129.0986664855509, 85.87499640888859, 77.23061719641137, 281.96573848103117, 96.26379611928863, 289.76543585668395, 279.43821015701616, 139.40098755521035, 1341.4600201178525, 367.3400417490271, 125.93300885207806, 541.1732120259575, 48.01996893443588, 134.70687275934824, 602.3468441276864, 248.19210504051046, 1259.1835090968927, 59.0656492429696, 135.98854914225046, 218.0482849750399, 230.527750872372, 428.0889216079402, 695.2173305360866, 804.9446038844661, 776.5181436512022, 320.3452671675875, 460.5071831426524, 1001.9775267260621, 1362.1425531361103, 326.57522061472315, 1134.218602794554, 1531.5073693785669, 809.6943081718849, 930.6289626245682, 707.6392710150518, 465.542771296351, 729.8662167576246, 1391.955744003683, 438.6538396643396, 722.6102455888656, 227.71040724035734, 202.09051918115037, 121.4395340219733, 77.79627627483364, 76.84800648461632, 56.91728571419771, 55.97134739487482, 55.97138535646809, 54.076344563136004, 54.07603552330406, 60.71235713850655, 195.4461879302842, 139.46557879679628, 53.127531312543354, 53.12752993175619, 53.12753173523816, 53.127532415768435, 53.127532546827965, 53.12752018838693, 53.127521797134676, 53.127521864433625, 53.12752227320752, 53.12752256788255, 53.12752485893711, 52.17870100465916, 52.17870348994573, 45.53067429917457, 46.48143939716521, 38.89520613419768, 37.946400862672135, 81.55007519130397, 225.6575739981832, 127.13538480214389, 326.5666050286445, 87.28068632769373, 57.86609996923231, 804.1771738797393, 189.73618331807347, 278.86005989967924, 166.00331444623188, 141.53304399515122, 128.97400746685173, 437.0887115637389, 137.75282657818568, 118.67798690471628, 131.92714198941025, 212.39497169867533, 478.3802559000492, 643.5457409046004, 613.5811424703106, 1362.1425531361103, 421.81225329348416, 136.60496510714776, 348.80569009498015, 765.8625633383255, 502.3228201896886, 1001.9775267260621, 210.94726132064346, 319.63512723898117, 1134.218602794554, 283.4873556783534, 707.6392710150518, 930.6289626245682, 1531.5073693785669, 644.4479261113897, 454.20184193769353, 477.8205835926869, 695.2173305360866, 465.36765843485387, 583.9244653378507, 59.884817181686685, 51.33019057292258, 53.23066799993518, 36.119477411276364, 30.414270042866256, 29.46350888423498, 29.461247445065176, 28.512182368384103, 26.612118806470022, 26.612056059975817, 26.61198467476521, 26.611422055533346, 26.61064599447685, 25.66132516548871, 25.65997057137151, 25.656891341151752, 24.71072835224686, 24.710730520710484, 24.710725887087268, 24.710725899919908, 24.710726032182915, 24.710726125207948, 24.710726226284216, 24.710727338679114, 24.710728522981647, 24.71072856481329, 24.710728796262096, 24.710730117317897, 23.760000874426773, 20.904380469144346, 57.05559562836617, 112.94006218899767, 1391.955744003683, 76.07919965756497, 397.264796955875, 298.16313523815774, 48.39885046083349, 33.22792763551566, 77.61707362080952, 318.8445770660869, 357.4212280717575, 644.4479261113897, 517.0232501110977, 43.741672575715555, 166.0327125809386, 523.4118341573767, 346.9997530976543, 297.913584819492, 54.333156027308334, 39.02621650714255, 809.6943081718849, 40.81797136034353, 545.1143651771599, 541.1732120259575, 76.00895944459555, 239.8597343014723, 553.8343806264935, 1341.4600201178525, 138.77792252751496, 804.9446038844661, 1531.5073693785669, 144.5726563713281, 776.5181436512022, 1001.9775267260621, 306.92062036168664, 722.6102455888656, 729.8662167576246, 413.6711376220883, 336.07086544237524, 930.6289626245682, 707.6392710150518, 402.64453184748754, 1362.1425531361103, 51.513304843691664, 37.720986990511435, 28.525744464152517, 26.687899663986396, 25.768854690481547, 24.850155195433803, 24.85015306011419, 23.93067167246947, 23.930665437065976, 23.930665703886632, 23.93066684239217, 23.930667522456368, 23.930668130594388, 23.930668716492743, 36.84151913244314, 14.733759630499053, 12.894907070242281, 11.971020763183628, 11.970328586189842, 11.972709024623441, 11.057652496490995, 11.057183542209419, 10.138364117641503, 10.138195304131314, 10.138104233568821, 10.137510331950507, 10.137438959711949, 10.129815065204008, 9.218872904924709, 9.21887326052402, 24.890688530005868, 14.74284295265964, 64.76764427470805, 32.27315033213375, 185.2423838103428, 35.082642072592584, 43.60177539549588, 51.01488745311047, 215.85749629888588, 42.723146378164046, 37.176806247152214, 258.84875764152804, 45.333770916223884, 38.982280034512286, 40.01692129604257, 124.84554370197174, 612.2734512777279, 186.69550879277256, 804.1771738797393, 118.5924280608599, 477.8205835926869, 123.10635353842426, 677.1190928086834, 1134.218602794554, 263.99004470616836, 255.3034964784484, 494.6745335653402, 255.7512671214903, 372.2446393916589, 277.5833216460377, 1362.1425531361103, 454.20184193769353, 290.9172046748539, 438.6538396643396, 1391.955744003683, 272.3060151173517, 498.40602161465256, 248.1877355449853, 695.2173305360866, 285.5705413354983, 707.6392710150518, 601.1775804411135, 930.6289626245682, 776.5181436512022, 1531.5073693785669, 417.4385550651025], \"Category\": [\"Default\", \"Default\", \"Default\", \"Default\", \"Default\", \"Default\", \"Default\", \"Default\", \"Default\", \"Default\", \"Default\", \"Default\", \"Default\", \"Default\", \"Default\", \"Default\", \"Default\", \"Default\", \"Default\", \"Default\", \"Default\", \"Default\", \"Default\", \"Default\", \"Default\", \"Default\", \"Default\", \"Default\", \"Default\", \"Default\", \"Topic1\", \"Topic1\", \"Topic1\", \"Topic1\", \"Topic1\", \"Topic1\", \"Topic1\", \"Topic1\", \"Topic1\", \"Topic1\", \"Topic1\", \"Topic1\", \"Topic1\", \"Topic1\", \"Topic1\", \"Topic1\", \"Topic1\", \"Topic1\", \"Topic1\", \"Topic1\", \"Topic1\", \"Topic1\", \"Topic1\", \"Topic1\", \"Topic1\", \"Topic1\", \"Topic1\", \"Topic1\", \"Topic1\", \"Topic1\", \"Topic1\", \"Topic1\", \"Topic1\", \"Topic1\", \"Topic1\", \"Topic1\", \"Topic1\", \"Topic1\", \"Topic1\", \"Topic1\", \"Topic1\", \"Topic1\", \"Topic1\", \"Topic1\", \"Topic1\", \"Topic1\", \"Topic1\", \"Topic1\", \"Topic1\", \"Topic1\", \"Topic1\", \"Topic1\", \"Topic1\", \"Topic1\", \"Topic1\", \"Topic1\", \"Topic1\", \"Topic1\", \"Topic1\", \"Topic1\", \"Topic1\", \"Topic1\", \"Topic1\", \"Topic1\", \"Topic1\", \"Topic1\", \"Topic1\", \"Topic1\", \"Topic1\", \"Topic1\", \"Topic1\", \"Topic1\", \"Topic2\", \"Topic2\", \"Topic2\", \"Topic2\", \"Topic2\", \"Topic2\", \"Topic2\", \"Topic2\", \"Topic2\", \"Topic2\", \"Topic2\", \"Topic2\", \"Topic2\", \"Topic2\", \"Topic2\", \"Topic2\", \"Topic2\", \"Topic2\", \"Topic2\", \"Topic2\", \"Topic2\", \"Topic2\", \"Topic2\", \"Topic2\", \"Topic2\", \"Topic2\", \"Topic2\", \"Topic2\", \"Topic2\", \"Topic2\", \"Topic2\", \"Topic2\", \"Topic2\", \"Topic2\", \"Topic2\", \"Topic2\", \"Topic2\", \"Topic2\", \"Topic2\", \"Topic2\", \"Topic2\", \"Topic2\", \"Topic2\", \"Topic2\", \"Topic2\", \"Topic2\", \"Topic2\", \"Topic2\", \"Topic2\", \"Topic2\", \"Topic2\", \"Topic2\", \"Topic2\", \"Topic2\", \"Topic2\", \"Topic2\", \"Topic2\", \"Topic2\", \"Topic2\", \"Topic2\", \"Topic2\", \"Topic2\", \"Topic2\", \"Topic2\", \"Topic2\", \"Topic2\", \"Topic2\", \"Topic2\", \"Topic2\", \"Topic2\", \"Topic2\", \"Topic2\", \"Topic2\", \"Topic2\", \"Topic2\", \"Topic2\", \"Topic3\", \"Topic3\", \"Topic3\", \"Topic3\", \"Topic3\", \"Topic3\", \"Topic3\", \"Topic3\", \"Topic3\", \"Topic3\", \"Topic3\", \"Topic3\", \"Topic3\", \"Topic3\", \"Topic3\", \"Topic3\", \"Topic3\", \"Topic3\", \"Topic3\", \"Topic3\", \"Topic3\", \"Topic3\", \"Topic3\", \"Topic3\", \"Topic3\", \"Topic3\", \"Topic3\", \"Topic3\", \"Topic3\", \"Topic3\", \"Topic3\", \"Topic3\", \"Topic3\", \"Topic3\", \"Topic3\", \"Topic3\", \"Topic3\", \"Topic3\", \"Topic3\", \"Topic3\", \"Topic3\", \"Topic3\", \"Topic3\", \"Topic3\", \"Topic3\", \"Topic3\", \"Topic3\", \"Topic3\", \"Topic3\", \"Topic3\", \"Topic3\", \"Topic3\", \"Topic3\", \"Topic3\", \"Topic3\", \"Topic3\", \"Topic3\", \"Topic3\", \"Topic3\", \"Topic3\", \"Topic3\", \"Topic3\", \"Topic3\", \"Topic3\", \"Topic3\", \"Topic3\", \"Topic3\", \"Topic3\", \"Topic3\", \"Topic3\", \"Topic4\", \"Topic4\", \"Topic4\", \"Topic4\", \"Topic4\", \"Topic4\", \"Topic4\", \"Topic4\", \"Topic4\", \"Topic4\", \"Topic4\", \"Topic4\", \"Topic4\", \"Topic4\", \"Topic4\", \"Topic4\", \"Topic4\", \"Topic4\", \"Topic4\", \"Topic4\", \"Topic4\", \"Topic4\", \"Topic4\", \"Topic4\", \"Topic4\", \"Topic4\", \"Topic4\", \"Topic4\", \"Topic4\", \"Topic4\", \"Topic4\", \"Topic4\", \"Topic4\", \"Topic4\", \"Topic4\", \"Topic4\", \"Topic4\", \"Topic4\", \"Topic4\", \"Topic4\", \"Topic4\", \"Topic4\", \"Topic4\", \"Topic4\", \"Topic4\", \"Topic4\", \"Topic4\", \"Topic4\", \"Topic4\", \"Topic4\", \"Topic4\", \"Topic4\", \"Topic4\", \"Topic4\", \"Topic4\", \"Topic4\", \"Topic4\", \"Topic4\", \"Topic4\", \"Topic4\", \"Topic4\", \"Topic4\", \"Topic4\", \"Topic4\", \"Topic4\", \"Topic4\", \"Topic4\", \"Topic4\", \"Topic4\", \"Topic4\", \"Topic4\", \"Topic4\", \"Topic4\", \"Topic5\", \"Topic5\", \"Topic5\", \"Topic5\", \"Topic5\", \"Topic5\", \"Topic5\", \"Topic5\", \"Topic5\", \"Topic5\", \"Topic5\", \"Topic5\", \"Topic5\", \"Topic5\", \"Topic5\", \"Topic5\", \"Topic5\", \"Topic5\", \"Topic5\", \"Topic5\", \"Topic5\", \"Topic5\", \"Topic5\", \"Topic5\", \"Topic5\", \"Topic5\", \"Topic5\", \"Topic5\", \"Topic5\", \"Topic5\", \"Topic5\", \"Topic5\", \"Topic5\", \"Topic5\", \"Topic5\", \"Topic5\", \"Topic5\", \"Topic5\", \"Topic5\", \"Topic5\", \"Topic5\", \"Topic5\", \"Topic5\", \"Topic5\", \"Topic5\", \"Topic5\", \"Topic5\", \"Topic5\", \"Topic5\", \"Topic5\", \"Topic5\", \"Topic5\", \"Topic5\", \"Topic5\", \"Topic5\", \"Topic5\", \"Topic5\", \"Topic5\", \"Topic5\", \"Topic5\", \"Topic5\", \"Topic5\", \"Topic5\", \"Topic5\", \"Topic5\", \"Topic5\", \"Topic5\", \"Topic5\", \"Topic5\", \"Topic5\", \"Topic5\", \"Topic5\", \"Topic5\", \"Topic5\", \"Topic5\", \"Topic5\"], \"logprob\": [30.0, 29.0, 28.0, 27.0, 26.0, 25.0, 24.0, 23.0, 22.0, 21.0, 20.0, 19.0, 18.0, 17.0, 16.0, 15.0, 14.0, 13.0, 12.0, 11.0, 10.0, 9.0, 8.0, 7.0, 6.0, 5.0, 4.0, 3.0, 2.0, 1.0, -4.6533, -4.7665, -4.827, -5.0514, -5.8802, -5.8884, -5.9562, -6.3477, -6.3102, -6.3876, -6.3491, -6.377, -6.6652, -6.7017, -6.8398, -6.9288, -6.9761, -6.8235, -7.0779, -7.0779, -7.078, -7.1051, -7.1331, -7.1629, -6.7669, -7.1348, -7.2227, -7.2538, -7.1933, -7.2865, -6.5946, -5.5858, -6.3073, -5.1295, -4.9505, -6.2048, -6.478, -5.7163, -5.7225, -5.3157, -4.0133, -6.1722, -5.9619, -5.8101, -5.0268, -5.9335, -5.3778, -4.9494, -5.5935, -5.0403, -4.8679, -4.8782, -5.1893, -4.2617, -4.3979, -5.1759, -5.4609, -5.1746, -5.2011, -4.91, -4.89, -4.8724, -5.2059, -4.9228, -5.0095, -5.1468, -5.2268, -4.974, -5.1954, -5.0058, -5.1788, -5.2236, -6.2509, -5.576, -6.6096, -6.6619, -6.717, -6.7458, -6.7755, -6.7755, -6.7755, -6.8059, -6.8059, -6.806, -6.806, -6.806, -6.806, -6.8375, -6.8377, -6.87, -6.87, -6.87, -6.87, -6.87, -6.87, -6.87, -6.87, -6.87, -6.87, -6.87, -6.87, -6.87, -5.452, -6.2914, -4.1194, -5.8997, -5.1148, -5.8195, -5.5337, -5.8986, -5.9987, -4.9001, -5.837, -4.8986, -4.987, -5.5681, -3.7126, -4.7836, -5.6628, -4.5229, -6.4602, -5.697, -4.5913, -5.2549, -4.0642, -6.3378, -5.7465, -5.4351, -5.4313, -5.0667, -4.8103, -4.7341, -4.8332, -5.3677, -5.1936, -4.8429, -4.7771, -5.362, -4.9041, -4.821, -5.0589, -5.0429, -5.2448, -5.3276, -5.3108, -5.3099, -5.3875, -5.369, -4.6685, -4.7884, -5.3002, -5.749, -5.7613, -6.0653, -6.0821, -6.0821, -6.117, -6.117, -6.0013, -4.8323, -5.1698, -6.1349, -6.1349, -6.1349, -6.1349, -6.1349, -6.1349, -6.1349, -6.1349, -6.1349, -6.1349, -6.1349, -6.1532, -6.1532, -6.2919, -6.2713, -6.452, -6.4772, -5.7147, -4.7201, -5.2829, -4.3836, -5.6784, -6.0589, -3.7376, -5.0149, -4.7391, -5.1961, -5.3366, -5.4152, -4.4394, -5.3662, -5.4872, -5.4072, -5.0288, -4.4033, -4.2026, -4.2401, -3.6365, -4.6026, -5.4349, -4.7766, -4.261, -4.5584, -4.1205, -5.1414, -4.9329, -4.2177, -5.0378, -4.6024, -4.5666, -4.3771, -4.822, -4.9767, -4.9933, -5.023, -5.0864, -5.0738, -5.9715, -6.1276, -6.0915, -6.4853, -6.6613, -6.6938, -6.6941, -6.7276, -6.7984, -6.7984, -6.7984, -6.7985, -6.7986, -6.8359, -6.836, -6.8364, -6.8748, -6.8748, -6.8748, -6.8748, -6.8748, -6.8748, -6.8748, -6.8748, -6.8748, -6.8748, -6.8748, -6.8748, -6.9153, -7.0483, -6.0503, -5.4042, -3.0995, -5.8257, -4.332, -4.5949, -6.2588, -6.605, -5.8437, -4.6157, -4.5244, -4.1289, -4.3204, -6.4094, -5.3374, -4.4388, -4.7954, -4.9962, -6.2686, -6.5146, -4.2834, -6.4853, -4.6274, -4.6889, -6.0494, -5.26, -4.7117, -4.1283, -5.6716, -4.6314, -4.3192, -5.6944, -4.773, -4.6381, -5.4982, -5.2215, -5.3044, -5.491, -5.5682, -5.4226, -5.4688, -5.5621, -5.4524, -5.6614, -5.9786, -6.2646, -6.333, -6.3691, -6.4065, -6.4065, -6.4454, -6.4454, -6.4454, -6.4454, -6.4454, -6.4454, -6.4454, -6.0284, -6.9611, -7.097, -7.1725, -7.1725, -7.1737, -7.2565, -7.2566, -7.35, -7.35, -7.3501, -7.3502, -7.3503, -7.3551, -7.4532, -7.4532, -6.4666, -6.9885, -5.5607, -6.2415, -4.6871, -6.2124, -6.0252, -5.8866, -4.6585, -6.0735, -6.2326, -4.6324, -6.0886, -6.2149, -6.1946, -5.3129, -4.2605, -5.149, -4.1783, -5.458, -4.5749, -5.4606, -4.4617, -4.1825, -5.0549, -5.0903, -4.7149, -5.1025, -4.8973, -5.068, -4.2347, -4.8364, -5.1191, -4.9244, -4.3978, -5.1949, -4.9166, -5.2761, -4.886, -5.2526, -4.9588, -5.0232, -4.9282, -5.0605, -5.0048, -5.2541], \"loglift\": [30.0, 29.0, 28.0, 27.0, 26.0, 25.0, 24.0, 23.0, 22.0, 21.0, 20.0, 19.0, 18.0, 17.0, 16.0, 15.0, 14.0, 13.0, 12.0, 11.0, 10.0, 9.0, 8.0, 7.0, 6.0, 5.0, 4.0, 3.0, 2.0, 1.0, 1.128, 1.1278, 1.1276, 1.1271, 1.1236, 1.1235, 1.123, 1.1198, 1.1195, 1.1192, 1.1185, 1.1166, 1.1161, 1.1154, 1.1135, 1.1115, 1.1108, 1.1093, 1.1091, 1.1091, 1.109, 1.1086, 1.108, 1.1066, 1.1065, 1.1064, 1.1056, 1.1052, 1.1051, 1.1043, 1.103, 1.086, 1.0871, 1.0615, 1.0466, 1.0773, 1.0842, 1.0402, 1.0219, 0.9787, 0.8723, 1.0285, 0.9596, 0.9141, 0.7353, 0.9173, 0.7625, 0.6292, 0.8129, 0.6065, 0.5233, 0.511, 0.6291, 0.1943, 0.2539, 0.58, 0.6978, 0.5561, 0.5599, 0.3622, 0.3172, 0.2766, 0.4518, 0.1765, 0.1877, 0.2734, 0.3769, -0.0198, 0.2778, -0.2494, 0.194, -0.6351, 1.5572, 1.5563, 1.5527, 1.5516, 1.5506, 1.5499, 1.5492, 1.5492, 1.5492, 1.5486, 1.5486, 1.5486, 1.5486, 1.5486, 1.5485, 1.5478, 1.5477, 1.547, 1.547, 1.547, 1.547, 1.547, 1.547, 1.547, 1.547, 1.547, 1.547, 1.547, 1.547, 1.547, 1.4919, 1.5163, 1.3707, 1.4648, 1.3917, 1.4437, 1.3957, 1.4385, 1.4446, 1.2481, 1.3859, 1.2224, 1.1703, 1.2846, 0.8759, 1.1002, 1.2915, 0.9734, 1.4582, 1.1899, 0.7979, 1.0209, 0.5876, 1.3736, 1.1309, 0.9702, 0.9184, 0.664, 0.4355, 0.3651, 0.302, 0.653, 0.4641, 0.0374, -0.2038, 0.6394, -0.1477, -0.365, 0.0345, -0.0888, -0.0167, 0.3193, -0.1136, -0.7584, 0.3188, -0.1618, 1.6934, 1.6929, 1.6905, 1.687, 1.6869, 1.6831, 1.6831, 1.6831, 1.6827, 1.6827, 1.6826, 1.6825, 1.6825, 1.6824, 1.6824, 1.6824, 1.6824, 1.6824, 1.6824, 1.6824, 1.6824, 1.6824, 1.6824, 1.6824, 1.6822, 1.6822, 1.6798, 1.6797, 1.6771, 1.6766, 1.6741, 1.6509, 1.6619, 1.6178, 1.6425, 1.673, 1.3626, 1.5295, 1.4202, 1.4819, 1.5009, 1.5153, 1.2705, 1.4984, 1.5264, 1.5006, 1.4028, 1.2163, 1.1205, 1.1306, 0.9367, 1.1429, 1.4381, 1.1589, 0.888, 1.0124, 0.7598, 1.297, 1.09, 0.5386, 1.105, 0.6257, 0.3876, 0.0789, 0.4996, 0.6948, 0.6275, 0.2228, 0.5608, 0.3464, 1.7262, 1.7242, 1.7239, 1.7179, 1.7138, 1.713, 1.7129, 1.7121, 1.7102, 1.7102, 1.7102, 1.7102, 1.7101, 1.7092, 1.7091, 1.7089, 1.708, 1.708, 1.708, 1.708, 1.708, 1.708, 1.708, 1.708, 1.708, 1.708, 1.708, 1.708, 1.7067, 1.7018, 1.6957, 1.659, 1.452, 1.6326, 1.4735, 1.4975, 1.6518, 1.6816, 1.5945, 1.4096, 1.3868, 1.1928, 1.2215, 1.6024, 1.3405, 1.0909, 1.1453, 1.097, 1.5263, 1.6112, 0.81, 1.5956, 0.8616, 0.8074, 1.4098, 1.05, 0.7615, 0.4603, 1.1856, 0.4678, 0.1368, 1.1219, 0.3623, 0.2422, 0.5652, -0.0143, -0.1072, 0.274, 0.4046, -0.4684, -0.2407, 0.2299, -0.8791, 2.1868, 2.1813, 2.1746, 2.1728, 2.1718, 2.1707, 2.1707, 2.1695, 2.1695, 2.1695, 2.1695, 2.1695, 2.1695, 2.1695, 2.155, 2.1387, 2.1362, 2.1351, 2.1351, 2.1337, 2.1304, 2.1303, 2.1237, 2.1237, 2.1237, 2.1236, 2.1235, 2.1195, 2.1156, 2.1156, 2.109, 2.1108, 2.0585, 2.0743, 1.8813, 2.0199, 1.9897, 1.9713, 1.7569, 1.9618, 1.9417, 1.6014, 1.8873, 1.912, 1.9062, 1.65, 1.1124, 1.4115, 0.9219, 1.5563, 1.0459, 1.5164, 0.8104, 0.5739, 1.1592, 1.1573, 0.8712, 1.1433, 0.9732, 1.0959, 0.3385, 0.8351, 0.9979, 0.7819, 0.1538, 0.9883, 0.662, 0.9997, 0.3598, 0.8829, 0.2693, 0.3679, 0.0259, 0.0748, -0.5488, 0.5017]}, \"token.table\": {\"Topic\": [2, 4, 1, 4, 3, 4, 4, 1, 2, 4, 5, 5, 4, 1, 2, 4, 4, 4, 1, 2, 3, 4, 5, 2, 1, 4, 1, 3, 1, 2, 3, 4, 5, 1, 4, 5, 1, 2, 3, 4, 5, 5, 5, 1, 1, 2, 4, 1, 2, 3, 5, 1, 2, 3, 4, 5, 4, 1, 2, 4, 1, 3, 1, 2, 5, 2, 1, 5, 4, 1, 2, 1, 5, 1, 2, 3, 4, 5, 4, 2, 4, 1, 2, 3, 3, 3, 1, 2, 4, 5, 1, 2, 3, 4, 5, 2, 1, 4, 2, 3, 1, 2, 3, 4, 5, 1, 5, 1, 2, 1, 5, 2, 1, 2, 3, 4, 5, 3, 1, 1, 2, 1, 2, 3, 4, 5, 2, 4, 5, 3, 2, 5, 1, 1, 2, 4, 1, 2, 3, 5, 2, 1, 2, 4, 5, 3, 4, 5, 1, 1, 2, 4, 5, 1, 3, 4, 5, 1, 2, 3, 4, 3, 1, 2, 3, 4, 5, 4, 1, 1, 2, 4, 5, 2, 3, 5, 3, 2, 3, 5, 1, 2, 3, 4, 5, 1, 2, 4, 5, 4, 4, 2, 4, 1, 2, 3, 4, 5, 1, 5, 1, 2, 3, 4, 5, 2, 3, 4, 5, 1, 2, 3, 4, 5, 1, 2, 4, 5, 1, 2, 3, 4, 5, 3, 1, 2, 3, 4, 5, 1, 2, 3, 4, 5, 5, 1, 2, 3, 4, 5, 4, 5, 1, 2, 3, 4, 5, 3, 5, 5, 1, 2, 3, 4, 5, 1, 1, 2, 4, 2, 4, 2, 2, 1, 2, 3, 4, 5, 1, 1, 2, 3, 4, 5, 1, 2, 3, 4, 5, 1, 2, 3, 4, 5, 1, 2, 3, 4, 5, 2, 1, 4, 5, 3, 3, 4, 1, 1, 2, 3, 4, 5, 4, 1, 2, 4, 1, 3, 5, 5, 1, 2, 3, 4, 5, 1, 4, 5, 3, 3, 1, 2, 4, 1, 2, 4, 5, 3, 1, 2, 3, 4, 5, 3, 5, 1, 4, 2, 2, 4, 5, 2, 3, 4, 5, 1, 3, 4, 5, 1, 2, 4, 5, 5, 2, 4, 5, 4, 1, 2, 4, 4, 1, 2, 3, 4, 5, 1, 2, 4, 5, 2, 1, 2, 4, 5, 1, 2, 3, 4, 5, 2, 1, 2, 5, 3, 1, 2, 4, 5, 1, 2, 3, 4, 5, 3, 4, 3, 1, 2, 4, 5, 2, 4, 3, 4, 5, 1, 3, 4, 5, 4, 1, 2, 3, 4, 5, 1, 2, 3, 4, 1, 2, 3, 4, 5, 1, 2, 4, 3, 1, 1, 2, 1, 2, 3, 4, 5, 1, 2, 3, 4, 5, 4, 1, 2, 3, 4, 5, 3, 5, 1, 2, 5, 2, 5, 2, 1, 2, 3, 4, 5, 2, 5, 4, 1, 1, 5, 3, 5, 1, 2, 4, 5, 5, 4, 5, 1, 4, 1, 2, 3, 4, 5, 3, 4, 1, 4, 5, 1, 3, 4, 1, 5, 1, 2, 4, 1, 1, 1, 2, 4, 5, 4, 5, 5, 1, 2, 3, 4, 5, 1, 2, 1, 4, 5, 1, 2, 3, 4, 5, 4, 1, 2, 3, 4, 1, 2, 3, 4, 5, 1, 3, 5, 2, 3, 4, 5, 1, 2, 3, 4, 5, 4, 1, 2, 3, 4, 5, 5, 2, 4, 4, 1, 2, 3, 1, 5, 1, 2, 4, 1, 2, 1, 2, 3, 4, 5, 1, 2, 1, 4, 1, 2, 3, 4, 5, 2, 4, 1, 2, 1, 2, 3, 4, 5, 1, 2, 3, 4, 5, 4, 1, 2, 4, 5, 3, 5, 2, 5, 1, 4, 1, 2, 3, 5, 1, 2, 3, 2, 3, 4, 5, 1, 2, 4, 2, 5, 1, 1, 2, 3, 4, 5, 1, 4, 1, 2, 4, 5, 1, 2, 1, 1, 2, 3, 2, 1, 2, 3, 4, 5, 5, 2, 3, 5, 1, 1, 1, 2, 3, 4, 5, 1, 2, 4, 5, 1, 2, 3, 4, 5, 5, 1, 2, 5, 2, 5, 2, 4, 1, 2, 3, 4, 5, 3, 1, 2, 4, 5, 1, 2, 1, 2, 4, 5, 1, 2, 3, 4, 5, 2, 1, 3, 1, 2, 3, 4, 5, 1, 3, 4, 5, 1, 2, 1, 2, 4, 1, 2, 5, 5, 1, 2, 4, 1, 2, 3, 4, 5, 1, 2, 4, 2, 1, 1, 2, 3, 4, 5, 3, 1, 2, 3, 4, 5, 1, 2, 3, 4, 5, 1, 2, 3, 5, 1, 2, 3, 4, 2], \"Freq\": [0.12249506365369549, 0.8574654455758685, 0.035053529421147006, 0.9639720590815426, 0.9787770589524343, 0.9770007977363184, 0.9690062677671282, 0.6486092816229415, 0.18634078809056884, 0.16125645123222304, 0.003583476694049401, 0.8877171795733135, 0.9712380654218055, 0.2737754109388794, 0.17291078585613434, 0.5533145147396299, 0.9712381623132058, 0.9680134323881793, 0.1350813096444055, 0.16885163705550688, 0.4676456208885125, 0.07267961768910948, 0.1549030235596172, 0.9691590055714917, 0.9836912154278923, 0.9820363674107234, 0.9979320923585369, 0.9787770113151162, 0.23690316071683126, 0.2876681237275808, 0.09669516763952296, 0.2320684023348551, 0.14746013065027253, 0.8075456056426036, 0.10725215074940828, 0.08832530061715976, 0.4161426799306016, 0.3732577472659976, 0.09371151952635685, 0.06750406067576553, 0.04923825602232309, 0.981569474380828, 0.9611099116337796, 0.9744295997639619, 0.5629671496631645, 0.4017856835770303, 0.032703485872548975, 0.2150011818280856, 0.1632416380546576, 0.5036601759491265, 0.11546359764841635, 0.13636877875478018, 0.1818250383397069, 0.1553088869151663, 0.17424899507555244, 0.3522860117831821, 0.9770240743145024, 0.040592461386236005, 0.832145458417838, 0.12177738415870801, 0.3270959744536281, 0.6684135130139356, 0.14543369952553517, 0.8310497115744866, 0.020776242789362166, 0.9600187658249378, 0.12351846496174052, 0.8646292547321837, 0.9712381489813022, 0.07072732263292858, 0.9194551942280715, 0.9925720987622944, 0.8877319611639856, 0.0025172127197343186, 0.015103276318405912, 0.07048195615256092, 0.7677498795189672, 0.14348112502485616, 0.9712381566103208, 0.9600187651887441, 0.9742801508857601, 0.9326925865172927, 0.06291973797934117, 0.9897645965467472, 0.9946038083054611, 0.9787770677232024, 0.4875341633393006, 0.136993070690382, 0.07252574330667282, 0.3021905971111367, 0.2789713046381676, 0.23854068077756363, 0.08692584130029861, 0.13139952754696302, 0.2648205862869562, 0.9600187853807206, 0.9122102273020751, 0.08470523539233556, 0.9600188402991001, 0.9963806348112817, 0.02317955880749956, 0.23565884787624553, 0.1158977940374978, 0.07726519602499853, 0.5485828917774895, 0.2106586420470177, 0.7958215366220668, 0.975490491784337, 0.01990796922008851, 0.18347876726199572, 0.8027196067712313, 0.9662652504769429, 0.1408557572537583, 0.39194645496697955, 0.20515947252177835, 0.11329702213889253, 0.14697992061261733, 0.9750595355249327, 0.9934042954159051, 0.9478306054171686, 0.04408514443800784, 0.1863501710144133, 0.051604662742452914, 0.5848528444144664, 0.12901165685613228, 0.04873773703453886, 0.04132329551129503, 0.9091125012484906, 0.04132329551129503, 0.9787769178577559, 0.09295652792262298, 0.8675942606111477, 0.9804059579630298, 0.5081353962887334, 0.3300708557089208, 0.1628639090669017, 0.9785214316052266, 0.006023976107560779, 0.8072127984131444, 0.18071928322682337, 0.9662822964566666, 0.21593330412414313, 0.016194997809310736, 0.043186660824828624, 0.7233765688158795, 0.9850326880558251, 0.017281275229049563, 0.9657887369818109, 0.9718180059314797, 0.12826340572109524, 0.0513053622884381, 0.07695804343265715, 0.7439277531823524, 0.047434283975831916, 0.8485466355676599, 0.06851618796509056, 0.03162285598388795, 0.3851196697313277, 0.2981571636629634, 0.03478500242734573, 0.28076466244929055, 0.9769841524657562, 0.1417495108089566, 0.1417495108089566, 0.11673489125443483, 0.500292391090435, 0.100058478218087, 0.9743970798169868, 0.9896633549733637, 0.173779978602955, 0.723492155816384, 0.10284937509154479, 0.9611098141716918, 0.9884621150382887, 0.9247730642069489, 0.07349189914227408, 0.9968802161966736, 0.9632410187011236, 0.4165146665077061, 0.5767126151645161, 0.6749460087536522, 0.07713668671470311, 0.086778772554041, 0.08918929401387547, 0.07231564379503416, 0.9986956678173773, 0.812655081510228, 0.01693031419812975, 0.15237282778316777, 0.9768804704848589, 0.9770525678105074, 0.8804798209376438, 0.11653409394762933, 0.3566496697746147, 0.1260882670920355, 0.1224857451751202, 0.057640350670644803, 0.3314320163562076, 0.21518793052893856, 0.7800562481674023, 0.10088059934190378, 0.1224978706294546, 0.20896695577965785, 0.5764605676680217, 0.8877399356577551, 0.02658895907499345, 0.9572025266997642, 0.0044314931791655755, 0.013294479537496726, 0.08465986055205423, 0.19048468624212203, 0.5538165877780215, 0.04232993027602711, 0.12698979082808134, 0.5928563754334538, 0.28568803598785997, 0.08162515313938856, 0.0386645462239209, 0.047414459499081, 0.2086236217959564, 0.5737149599388801, 0.0237072297495405, 0.14461410147219705, 0.9882666861890833, 0.1568169685241994, 0.019602121065524926, 0.019602121065524926, 0.019602121065524926, 0.803686963686522, 0.16541589938691942, 0.3207630048981133, 0.2287054608914799, 0.12657912300912094, 0.1582239037614012, 0.867785040807582, 0.17145497931410106, 0.49796489644269354, 0.04249101661262505, 0.27805524906156387, 0.009690933613405712, 0.9712381618088277, 0.8877919435144345, 0.1547292709576345, 0.19638715160007456, 0.1725826483758231, 0.26184953546676604, 0.2112649661152317, 0.9809923511699071, 0.01226240438962384, 0.9305999597075447, 0.10613548406885942, 0.39956888120041195, 0.38396072177852086, 0.028094686959403967, 0.0842840608782119, 0.9950184513018245, 0.4448555970577968, 0.5457506809265754, 0.0045861401758535755, 0.9832678851802195, 0.9712379801918519, 0.9600188440742015, 0.9600187718813267, 0.4442228738929828, 0.17575172892339197, 0.13285170060350887, 0.17298398516081887, 0.0733452097081872, 0.9804174049398573, 0.288741946678208, 0.04468625365257981, 0.30592896731381564, 0.05843587016106591, 0.2990541590595726, 0.42471246663129725, 0.07535221182168177, 0.2585950905698624, 0.1301538204192685, 0.11131576746384807, 0.38911240646491146, 0.18496540448156004, 0.1712642634088519, 0.15756312233614372, 0.09590798750895706, 0.7725637043602903, 0.07625304094984683, 0.05618645122620293, 0.0632097576294783, 0.03210654355783025, 0.9600188155584957, 0.3330453613606789, 0.15433809428909512, 0.5036295708380998, 0.9883446861408729, 0.967472589880625, 0.03146252324815041, 0.9806949847493963, 0.2884917576292288, 0.11845356935769658, 0.05158461891383561, 0.5234883549033688, 0.019105414412531708, 0.9863790897403627, 0.05728295361100224, 0.5488076523376666, 0.39358932642398314, 0.004974028273772143, 0.7162600714231886, 0.27854558333124, 0.9611097906406879, 0.17099107547611822, 0.20349351131042168, 0.34198215095223644, 0.13848863964181476, 0.14414123717821536, 0.8452631954592216, 0.146000006488411, 0.0076842108678111054, 0.9787770535235878, 0.9787770973614275, 0.809078401315905, 0.028639943409412567, 0.1575196887517691, 0.15217262068903287, 0.08300324764856339, 0.5395211097156619, 0.22134199372950233, 0.9787768846319225, 0.05055697485682207, 0.008426162476137013, 0.8426162476137012, 0.09268778723750713, 0.008426162476137013, 0.9800958335510394, 0.9187561459463404, 0.10249520342992827, 0.8712092291543903, 0.9662822216508656, 0.11401649829346512, 0.02850412457336628, 0.8266196126276221, 0.0923280359648218, 0.16227351775635346, 0.7022526371869778, 0.04476510834658026, 0.033728966219894393, 0.33728966219894396, 0.1096191402146568, 0.5227989764083631, 0.5773304767270823, 0.08384467504335219, 0.1557115393662255, 0.18206272295127907, 0.974224286187846, 0.03541701609218407, 0.9208424183967858, 0.03541701609218407, 0.9712379960469156, 0.31178810063412543, 0.6829644109128462, 0.007423526205574415, 0.9842683746170169, 0.0035920682259757033, 0.09698584210134399, 0.020115582065463936, 0.750742259228922, 0.12931445613512532, 0.15763182783297056, 0.053661898836755935, 0.7848052704875556, 0.003353868677297246, 0.9743721813294397, 0.10183957665536635, 0.24284822125510439, 0.3016018231716619, 0.3525216114993451, 0.252155977071207, 0.17897784386522733, 0.31387247495576814, 0.05907150511807996, 0.19661112897510197, 0.9718669917928561, 0.007173550327998543, 0.7460492341118484, 0.24390071115195047, 0.9801014347133429, 0.605931684014633, 0.03611513348431587, 0.14245413763257928, 0.21468440460121102, 0.16623718191426567, 0.04237418362520498, 0.5671621500604359, 0.11571411682267514, 0.10756523535628956, 0.9874840847182103, 0.010232995696561765, 0.982645631379534, 0.16922375509545184, 0.5761665947297527, 0.24577735859101338, 0.008058274052164374, 0.8954608042064771, 0.10412334932633455, 0.9774102572293147, 0.08035133289257902, 0.9240403282646589, 0.9762103397333047, 0.9787768924192956, 0.8632121371558251, 0.12883763241131718, 0.9712380479700945, 0.02195427021030723, 0.16308886441942513, 0.08781708084122893, 0.7182182683086222, 0.009408972947274528, 0.20755930252849042, 0.6691998202211674, 0.0035786086642843177, 0.12167269458566679, 0.42220863951628695, 0.18875209766610476, 0.13659691278468108, 0.22103864068793846, 0.03228654302183371, 0.9208011494865685, 0.0762252607190868, 0.0030490104287634718, 0.9787768696798759, 0.9806797230868243, 0.23822189490634854, 0.7543693338701037, 0.06454850510494603, 0.1111668699029626, 0.7566519209524228, 0.043032336736630684, 0.01793014030692945, 0.3247025052118664, 0.08622043923704927, 0.06420671007014307, 0.4164263767406422, 0.10823416840395546, 0.9935673222866084, 0.2804399906602326, 0.004185671502391531, 0.3432250631961056, 0.056506565282285676, 0.3139253626793648, 0.8195965883696675, 0.1766371957693249, 0.11644833092493659, 0.8733624819370244, 0.9808863169276881, 0.9663080719484523, 0.9188857172339087, 0.9662927789265684, 0.20218458677833745, 0.28074038164125836, 0.14552139048377155, 0.25240878349397544, 0.11976539216805977, 0.9600187623346008, 0.8877981939785442, 0.971238058711193, 0.9726196875115132, 0.9685469700919338, 0.9611099223499036, 0.977410303783647, 0.9611096719219904, 0.04818327590775289, 0.036137456930814674, 0.6685429532200714, 0.24091637953876446, 0.9043894371316391, 0.3567168216080037, 0.6393106672974612, 0.9792144950404326, 0.9770034184881549, 0.12120350589277347, 0.15694300122012975, 0.562508578630564, 0.09323346607136421, 0.06837120845233376, 0.9823212378418572, 0.0071702280134442135, 0.17103246900092034, 0.723598907311586, 0.10525075015441253, 0.8947295535336071, 0.006436903262831705, 0.09011664567964388, 0.027143288972559944, 0.950015114039598, 0.6931500257213818, 0.15129670612192597, 0.1548152341712731, 0.9777668340341985, 0.9928999663742891, 0.0955962842606798, 0.6397597485137803, 0.0073535603277446, 0.2500210511433164, 0.9329501478408679, 0.03009516605938284, 0.9701634123938948, 0.6068864768949495, 0.1300471021917749, 0.1427968180929293, 0.050998863604617604, 0.06884846586623376, 0.18179807213338084, 0.817173152518732, 0.18404968036412075, 0.8098185936021314, 0.888466368050002, 0.47112425465505764, 0.1728141370787111, 0.22836153828258252, 0.03908891195827989, 0.0884643796950545, 0.984343926850849, 0.5658032287563541, 0.22632129150254165, 0.1950215384224029, 0.014446039883140957, 0.08784453764610718, 0.08052415950893159, 0.7686397044034379, 0.021961134411526795, 0.029281512548702395, 0.0930420030802267, 0.8373780277220403, 0.06978150231017002, 0.0753313502294169, 0.7438970835154918, 0.03766567511470845, 0.14124628168015668, 0.013539042970496672, 0.16246851564596007, 0.10831234376397338, 0.5957178907018535, 0.12185138673447005, 0.9852246825935495, 0.4297677253134635, 0.1332279948471737, 0.32017695535853036, 0.05801864291731758, 0.05801864291731758, 0.9189388512434563, 0.9600188595563783, 0.9567372747315211, 0.9769984941476663, 0.11895521124488327, 0.8759429191668677, 0.9838838816242269, 0.24989428661991894, 0.7496828598597568, 0.06858448301918697, 0.04572298867945798, 0.8687367849097016, 0.9880387797421518, 0.9790555323623507, 0.0978065848644457, 0.21557369725224765, 0.3922243658339506, 0.22355790826159017, 0.07185789908408255, 0.857831868688246, 0.13955159586315963, 0.9041908417015526, 0.09143502893611206, 0.09072845106388325, 0.2627996513574549, 0.5443707063832995, 0.0156428363903247, 0.08759988378581832, 0.9662687859833354, 0.9712381529540356, 0.009488212455414705, 0.9867740953631293, 0.31924132976081326, 0.05504160857945056, 0.3676779453107297, 0.004403328686356045, 0.2553930638086506, 0.4261201692336949, 0.019861533311740016, 0.05777900599778914, 0.3755635389856294, 0.1191691998704401, 0.9712381052593855, 0.07592347905455864, 0.7040177148695438, 0.18635763040664394, 0.031059605067773992, 0.9826449649176704, 0.9043510820378351, 0.24264471667993012, 0.7279341500397903, 0.9624996352688819, 0.02916665561420854, 0.3167139733525634, 0.015640196214941404, 0.3167139733525634, 0.3479943657824462, 0.9617473336919329, 0.03699028206507434, 0.9889651466133207, 0.950762293586678, 0.018642397913464274, 0.018642397913464274, 0.9657888199699368, 0.9949615420031543, 0.8365694467656464, 0.15492026791956415, 0.9600188023006571, 0.9501987511062578, 0.9918803150217526, 0.4256638404924711, 0.05745156129346236, 0.4452496000243332, 0.0013057173021241444, 0.06920301701257965, 0.9976007499237071, 0.974228721189422, 0.2240126791680005, 0.24604671318452515, 0.2313573571735087, 0.29745945922308265, 0.9578440082175006, 0.04190567535951565, 0.9776885301099991, 0.022914576914427973, 0.03437186537164196, 0.950954941948761, 0.9691537779406606, 0.23218639195385163, 0.2148959159572882, 0.06916190398625367, 0.3952108799214496, 0.08892244798232615, 0.8677850073345366, 0.9600187984821039, 0.8203098463163914, 0.1742251001025964, 0.9964795362845047, 0.9859154970271737, 0.006863595239664573, 0.09151460319552764, 0.6520415477681344, 0.10295392859496859, 0.14413550003295603, 0.4673388933671871, 0.28496273985804094, 0.004559403837728655, 0.2416484033996187, 0.1880483762355787, 0.12894745799011112, 0.3116230234761019, 0.08059216124381946, 0.292818185852544, 0.9611098659088123, 0.011966830335901358, 0.8975122751926019, 0.09573464268721087, 0.06782952265116532, 0.8817837944651491, 0.9691642405874938, 0.9712380570670293, 0.24162156109420393, 0.3221620814589386, 0.09804932913967697, 0.07003523509976926, 0.2661338933791232, 0.9787768720944062, 0.208896294571762, 0.12319525064488529, 0.2142526098171918, 0.4552867958615326, 0.5378960696128724, 0.4598679360579187, 0.2769445725081386, 0.3779478871875773, 0.30952628692086076, 0.03258171441272219, 0.39242383811960707, 0.14364932510201922, 0.1984972492318811, 0.20176200662056337, 0.0639892448181722, 0.9632965366628071, 0.9705971969716323, 0.9787770664833428, 0.07107316738235915, 0.12751362383305612, 0.618754633681715, 0.06062123100260045, 0.12333284928115265, 0.2920309929898428, 0.1779039382581801, 0.5269984586138543, 0.0033566780803430205, 0.9685022413444923, 0.016698314505939522, 0.14700276001191753, 0.6234005933838725, 0.2286709600185384, 0.7299867192871858, 0.2708755750814086, 0.9611098385958923, 0.9900354899525627, 0.0525767886361073, 0.03943259147708047, 0.893805406813824, 0.5455958616409652, 0.12641855330705293, 0.07152628673951679, 0.09647731699748775, 0.1596865936510142, 0.20388000933571246, 0.5205447046869255, 0.27328596996063587, 0.960018771801312, 0.9806834290282354, 0.31698991955724043, 0.19019395173434428, 0.2697100671487029, 0.1096032942197916, 0.11390146262056776, 0.9896423302847508, 0.46372935475431815, 0.15211504312004703, 0.06055064823225173, 0.07384225394177041, 0.24810997324434855, 0.3919817191144807, 0.08819588680075816, 0.16005920197174628, 0.02286560028167804, 0.3364509755732626, 0.11369912039179964, 0.007579941359453309, 0.8186336668209574, 0.053059589516173164, 0.06206863018608922, 0.05741348292213253, 0.30258457215718493, 0.578789976485282, 0.960018904002075], \"Term\": [\"1080p\", \"1080p\", \"12\", \"12\", \"1550\", \"22ghz\", \"23\", \"3\", \"3\", \"3\", \"3\", \"329\", \"44\", \"7\", \"7\", \"7\", \"898\", \"910this\", \"I\", \"I\", \"I\", \"I\", \"I\", \"accidental\", \"ad\", \"air\", \"alexa\", \"alltoocommon\", \"also\", \"also\", \"also\", \"also\", \"also\", \"always\", \"always\", \"always\", \"amazon\", \"amazon\", \"amazon\", \"amazon\", \"amazon\", \"ambient\", \"androidsi\", \"anytime\", \"app\", \"app\", \"app\", \"apple\", \"apple\", \"apple\", \"apple\", \"around\", \"around\", \"around\", \"around\", \"around\", \"asus\", \"available\", \"available\", \"available\", \"awesome\", \"awesome\", \"background\", \"background\", \"background\", \"backthey\", \"bass\", \"bass\", \"before1\", \"blue\", \"blue\", \"bluetooth\", \"body\", \"book\", \"book\", \"book\", \"book\", \"book\", \"booksmagazine\", \"bothread\", \"bound\", \"box\", \"box\", \"brain\", \"bud\", \"budsread\", \"button\", \"button\", \"button\", \"button\", \"buy\", \"buy\", \"buy\", \"buy\", \"buy\", \"bw\", \"camera\", \"camera\", \"camerasthe\", \"cancel\", \"case\", \"case\", \"case\", \"case\", \"case\", \"chance\", \"chance\", \"channel\", \"channel\", \"charger\", \"charger\", \"chromebook\", \"come\", \"come\", \"come\", \"come\", \"come\", \"comfortableread\", \"command\", \"comment\", \"comment\", \"compare\", \"compare\", \"compare\", \"compare\", \"compare\", \"comparison\", \"comparison\", \"comparison\", \"compel\", \"complete\", \"complete\", \"connection\", \"content\", \"content\", \"content\", \"cool\", \"cord\", \"cord\", \"cord\", \"couch\", \"cover\", \"cover\", \"cover\", \"cover\", \"crazy\", \"crazy\", \"danglingread\", \"decent\", \"description\", \"description\", \"description\", \"description\", \"design\", \"design\", \"design\", \"design\", \"device\", \"device\", \"device\", \"device\", \"dislodge\", \"display\", \"display\", \"display\", \"display\", \"display\", \"document\", \"dot\", \"download\", \"download\", \"download\", \"downone\", \"drop\", \"ear\", \"ear\", \"earbud\", \"earn\", \"earpod\", \"earpod\", \"easy\", \"easy\", \"easy\", \"easy\", \"easy\", \"echo\", \"edge\", \"edge\", \"edge\", \"email\", \"enlarge\", \"entire\", \"entire\", \"even\", \"even\", \"even\", \"even\", \"even\", \"everyday\", \"everyday\", \"experience\", \"experience\", \"experience\", \"experience\", \"exterior\", \"fall\", \"fall\", \"fall\", \"fall\", \"far\", \"far\", \"far\", \"far\", \"far\", \"feature\", \"feature\", \"feature\", \"feature\", \"feel\", \"feel\", \"feel\", \"feel\", \"feel\", \"feeling\", \"finally\", \"finally\", \"finally\", \"finally\", \"finally\", \"find\", \"find\", \"find\", \"find\", \"find\", \"finding\", \"fire\", \"fire\", \"fire\", \"fire\", \"fire\", \"fire6\", \"firm\", \"first\", \"first\", \"first\", \"first\", \"first\", \"flat\", \"flat\", \"fold\", \"free\", \"free\", \"free\", \"free\", \"free\", \"fun\", \"game\", \"game\", \"game\", \"gen\", \"gen10\", \"gen2\", \"gen3\", \"get\", \"get\", \"get\", \"get\", \"get\", \"gig\", \"give\", \"give\", \"give\", \"give\", \"give\", \"go\", \"go\", \"go\", \"go\", \"go\", \"good\", \"good\", \"good\", \"good\", \"good\", \"great\", \"great\", \"great\", \"great\", \"great\", \"guilty\", \"hand\", \"hand\", \"hand\", \"hang\", \"hate\", \"hate\", \"hbo\", \"hd\", \"hd\", \"hd\", \"hd\", \"hd\", \"hd7\", \"hdx\", \"hdx\", \"hdx\", \"headphone\", \"headphone\", \"headphone\", \"headphoneslook\", \"helpful\", \"helpful\", \"helpful\", \"helpful\", \"helpful\", \"high\", \"high\", \"high\", \"higherend\", \"highs\", \"home\", \"home\", \"home\", \"hour\", \"hour\", \"hour\", \"hour\", \"ignorance\", \"ill\", \"ill\", \"ill\", \"ill\", \"ill\", \"immediate\", \"impossible\", \"incredible\", \"incredible\", \"informed\", \"interesting\", \"interesting\", \"interesting\", \"ipad\", \"ipad\", \"ipad\", \"ipad\", \"iphone\", \"iphone\", \"iphone\", \"iphone\", \"it\", \"it\", \"it\", \"it\", \"june\", \"keyboard\", \"keyboard\", \"keyboard\", \"keyboard9\", \"kid\", \"kid\", \"kid\", \"killer\", \"kindle\", \"kindle\", \"kindle\", \"kindle\", \"kindle\", \"last\", \"last\", \"last\", \"last\", \"lg\", \"light\", \"light\", \"light\", \"light\", \"like\", \"like\", \"like\", \"like\", \"like\", \"limitation\", \"line\", \"line\", \"line\", \"longevity\", \"love\", \"love\", \"love\", \"love\", \"m\", \"m\", \"m\", \"m\", \"m\", \"magnet\", \"magnet\", \"mainly\", \"many\", \"many\", \"many\", \"many\", \"medium\", \"medium\", \"metalfit\", \"micro\", \"micro\", \"microphone\", \"midrange\", \"mini\", \"mini\", \"mini5\", \"model\", \"model\", \"model\", \"model\", \"model\", \"movie\", \"movie\", \"movie\", \"movie\", \"much\", \"much\", \"much\", \"much\", \"much\", \"music\", \"music\", \"music\", \"musician\", \"name\", \"netflix\", \"netflix\", \"never\", \"never\", \"never\", \"never\", \"never\", \"new\", \"new\", \"new\", \"new\", \"new\", \"nexus\", \"nice\", \"nice\", \"nice\", \"nice\", \"nice\", \"noise\", \"noise\", \"note\", \"note\", \"oasis\", \"occur\", \"odd\", \"offline\", \"one\", \"one\", \"one\", \"one\", \"one\", \"oneamazon\", \"oneread\", \"ongoing\", \"operate\", \"opt\", \"orderingi\", \"otherssound\", \"outfeel\", \"page\", \"page\", \"page\", \"page\", \"pageturne\", \"paperwhite\", \"paperwhite\", \"pass\", \"pdf\", \"people\", \"people\", \"people\", \"people\", \"people\", \"perform\", \"perform\", \"personal\", \"personal\", \"personal\", \"phone\", \"phone\", \"phone\", \"plastic\", \"plastic\", \"play\", \"play\", \"play\", \"player\", \"portable\", \"power\", \"power\", \"power\", \"power\", \"ppi\", \"ppi\", \"preordere\", \"price\", \"price\", \"price\", \"price\", \"price\", \"prime\", \"prime\", \"processor\", \"processor\", \"produce\", \"product\", \"product\", \"product\", \"product\", \"product\", \"profile\", \"quality\", \"quality\", \"quality\", \"quality\", \"quite\", \"quite\", \"quite\", \"quite\", \"quite\", \"range\", \"range\", \"range\", \"re\", \"re\", \"re\", \"re\", \"read\", \"read\", \"read\", \"read\", \"read\", \"reading\", \"really\", \"really\", \"really\", \"really\", \"really\", \"recharge\", \"reflect\", \"refurbish\", \"relate\", \"remove\", \"remove\", \"represent\", \"research\", \"research\", \"resolution\", \"resolution\", \"resolution\", \"responsive\", \"result\", \"review\", \"review\", \"review\", \"review\", \"review\", \"roku\", \"roku\", \"room\", \"room\", \"s\", \"s\", \"s\", \"s\", \"s\", \"s4\", \"sake\", \"samsung\", \"samsung\", \"say\", \"say\", \"say\", \"say\", \"say\", \"screen\", \"screen\", \"screen\", \"screen\", \"screen\", \"seamlessly\", \"search\", \"search\", \"search\", \"search\", \"secondary\", \"secondly\", \"section\", \"section\", \"series\", \"series\", \"set\", \"set\", \"set\", \"set\", \"setup\", \"setup\", \"shove\", \"single\", \"single\", \"single\", \"skullcandy\", \"smart\", \"smartphone\", \"smartphone\", \"smartphonewhich\", \"snap\", \"song\", \"sound\", \"sound\", \"sound\", \"sound\", \"sound\", \"speaker\", \"spreadsheet\", \"still\", \"still\", \"still\", \"still\", \"stream\", \"stream\", \"suggest\", \"suppose\", \"suppose\", \"suppose\", \"surfing\", \"tablet\", \"tablet\", \"tablet\", \"tablet\", \"tablet\", \"tableti\", \"tabletseven\", \"tangle\", \"tangle\", \"tap\", \"team\", \"they\", \"they\", \"they\", \"they\", \"they\", \"thing\", \"thing\", \"thing\", \"thing\", \"think\", \"think\", \"think\", \"think\", \"think\", \"timeaudio\", \"title\", \"title\", \"title\", \"together\", \"together\", \"tough\", \"transformer\", \"try\", \"try\", \"try\", \"try\", \"try\", \"tug\", \"turn\", \"turn\", \"turn\", \"turn\", \"tv\", \"tv\", \"update\", \"update\", \"update\", \"update\", \"use\", \"use\", \"use\", \"use\", \"use\", \"usefulness\", \"vacation\", \"validity\", \"ve\", \"ve\", \"ve\", \"ve\", \"ve\", \"version\", \"version\", \"version\", \"version\", \"via\", \"via\", \"video\", \"video\", \"video\", \"voice\", \"voice\", \"volumei\", \"voyage\", \"vs\", \"vs\", \"vs\", \"want\", \"want\", \"want\", \"want\", \"want\", \"watch\", \"watch\", \"watch\", \"wayfirst\", \"weather\", \"well\", \"well\", \"well\", \"well\", \"well\", \"wherever\", \"work\", \"work\", \"work\", \"work\", \"work\", \"would\", \"would\", \"would\", \"would\", \"would\", \"write\", \"write\", \"write\", \"write\", \"year\", \"year\", \"year\", \"year\", \"younow\"]}, \"R\": 30, \"lambda.step\": 0.01, \"plot.opts\": {\"xlab\": \"PC1\", \"ylab\": \"PC2\"}, \"topic.order\": [5, 1, 3, 4, 2]};\n",
       "\n",
       "function LDAvis_load_lib(url, callback){\n",
       "  var s = document.createElement('script');\n",
       "  s.src = url;\n",
       "  s.async = true;\n",
       "  s.onreadystatechange = s.onload = callback;\n",
       "  s.onerror = function(){console.warn(\"failed to load library \" + url);};\n",
       "  document.getElementsByTagName(\"head\")[0].appendChild(s);\n",
       "}\n",
       "\n",
       "if(typeof(LDAvis) !== \"undefined\"){\n",
       "   // already loaded: just create the visualization\n",
       "   !function(LDAvis){\n",
       "       new LDAvis(\"#\" + \"ldavis_el241357305639325445588445420\", ldavis_el241357305639325445588445420_data);\n",
       "   }(LDAvis);\n",
       "}else if(typeof define === \"function\" && define.amd){\n",
       "   // require.js is available: use it to load d3/LDAvis\n",
       "   require.config({paths: {d3: \"https://d3js.org/d3.v5\"}});\n",
       "   require([\"d3\"], function(d3){\n",
       "      window.d3 = d3;\n",
       "      LDAvis_load_lib(\"https://cdn.jsdelivr.net/gh/bmabey/pyLDAvis@3.2.2/pyLDAvis/js/ldavis.v3.0.0.js\", function(){\n",
       "        new LDAvis(\"#\" + \"ldavis_el241357305639325445588445420\", ldavis_el241357305639325445588445420_data);\n",
       "      });\n",
       "    });\n",
       "}else{\n",
       "    // require.js not available: dynamically load d3 & LDAvis\n",
       "    LDAvis_load_lib(\"https://d3js.org/d3.v5.js\", function(){\n",
       "         LDAvis_load_lib(\"https://cdn.jsdelivr.net/gh/bmabey/pyLDAvis@3.2.2/pyLDAvis/js/ldavis.v3.0.0.js\", function(){\n",
       "                 new LDAvis(\"#\" + \"ldavis_el241357305639325445588445420\", ldavis_el241357305639325445588445420_data);\n",
       "            })\n",
       "         });\n",
       "}\n",
       "</script>"
      ],
      "text/plain": [
       "<IPython.core.display.HTML object>"
      ]
     },
     "metadata": {},
     "output_type": "display_data"
    }
   ],
   "source": [
    "import pyLDAvis.gensim as gensimvis\n",
    "\n",
    "def prepare(ldamodel, doc_term_matrix, dictionary):\n",
    "    vis = gensimvis.prepare(ldamodel, doc_term_matrix, dictionary)\n",
    "    return vis\n",
    "\n",
    "if __name__ == \"__main__\":\n",
    "    # Create a process pool with 4 workers\n",
    "    pool = multiprocessing.Pool(4)\n",
    "\n",
    "    # Submit the `prepare()` function to the process pool\n",
    "    vis = pool.apply_async(prepare, args=(ldamodel, doc_term_matrix, dictionary))\n",
    "\n",
    "    # Get the result from the process pool\n",
    "    vis = vis.get()\n",
    "\n",
    "    # Display the visualization using IPython.display\n",
    "    display(pyLDAvis.display(vis))"
   ]
  },
  {
   "cell_type": "code",
   "execution_count": 13,
   "id": "012b61de",
   "metadata": {
    "execution": {
     "iopub.execute_input": "2023-06-16T17:49:39.087389Z",
     "iopub.status.busy": "2023-06-16T17:49:39.086348Z",
     "iopub.status.idle": "2023-06-16T17:49:40.327243Z",
     "shell.execute_reply": "2023-06-16T17:49:40.326272Z"
    },
    "id": "tp1VaQizYsR9",
    "outputId": "5f46e2a5-5c63-43ce-80dc-15ef34544d45",
    "papermill": {
     "duration": 1.255092,
     "end_time": "2023-06-16T17:49:40.329628",
     "exception": false,
     "start_time": "2023-06-16T17:49:39.074536",
     "status": "completed"
    },
    "tags": []
   },
   "outputs": [],
   "source": [
    "def format_topics_sentences(ldamodel, corpus, texts):\n",
    "    # Init output\n",
    "    topic_num_list = []\n",
    "    prop_topic_list = []\n",
    "    topic_keywords_list = []\n",
    "\n",
    "    # Get main topic in each document\n",
    "    for i, row in enumerate(ldamodel[corpus]):\n",
    "        row = sorted(row, key=lambda x: (x[1]), reverse=True)\n",
    "        # Get the Dominant topic, Perc Contribution and Keywords for each document\n",
    "        for j, (topic_num, prop_topic) in enumerate(row):\n",
    "            if j == 0:  # => dominant topic\n",
    "                wp = ldamodel.show_topic(topic_num)\n",
    "                topic_keywords = \", \".join([word for word, prop in wp])\n",
    "                topic_num_list.append(int(topic_num))\n",
    "                prop_topic_list.append(round(prop_topic,4))\n",
    "                topic_keywords_list.append(topic_keywords)\n",
    "                break\n",
    "\n",
    "    # Create DataFrame\n",
    "    sent_topics_df = pd.DataFrame({'Dominant_Topic': topic_num_list,\n",
    "                                   'Perc_Contribution': prop_topic_list,\n",
    "                                   'Topic_Keywords': topic_keywords_list})\n",
    "\n",
    "    # Add original text to the end of the output\n",
    "    contents = pd.Series(texts)\n",
    "    sent_topics_df = pd.concat([sent_topics_df, contents.rename('Texts')], axis=1)\n",
    "    return(sent_topics_df)\n",
    "\n",
    "df_topic_sents_keywords = format_topics_sentences(ldamodel=ldamodel, corpus=doc_term_matrix, texts=doc_clean)\n"
   ]
  },
  {
   "cell_type": "markdown",
   "id": "24da22d9",
   "metadata": {
    "id": "-0zWRKwEPvpw",
    "papermill": {
     "duration": 0.009278,
     "end_time": "2023-06-16T17:49:40.348237",
     "exception": false,
     "start_time": "2023-06-16T17:49:40.338959",
     "status": "completed"
    },
    "tags": []
   },
   "source": [
    "# Top ten Dominant Topic"
   ]
  },
  {
   "cell_type": "code",
   "execution_count": 14,
   "id": "18f050b8",
   "metadata": {
    "execution": {
     "iopub.execute_input": "2023-06-16T17:49:40.369175Z",
     "iopub.status.busy": "2023-06-16T17:49:40.368816Z",
     "iopub.status.idle": "2023-06-16T17:49:40.399129Z",
     "shell.execute_reply": "2023-06-16T17:49:40.397925Z"
    },
    "id": "OUffYFo_XqN_",
    "outputId": "01c0a21e-61a0-459d-d650-662ae8e9eaf0",
    "papermill": {
     "duration": 0.044041,
     "end_time": "2023-06-16T17:49:40.401502",
     "exception": false,
     "start_time": "2023-06-16T17:49:40.357461",
     "status": "completed"
    },
    "tags": []
   },
   "outputs": [
    {
     "data": {
      "text/html": [
       "<div>\n",
       "<style scoped>\n",
       "    .dataframe tbody tr th:only-of-type {\n",
       "        vertical-align: middle;\n",
       "    }\n",
       "\n",
       "    .dataframe tbody tr th {\n",
       "        vertical-align: top;\n",
       "    }\n",
       "\n",
       "    .dataframe thead th {\n",
       "        text-align: right;\n",
       "    }\n",
       "</style>\n",
       "<table border=\"1\" class=\"dataframe\">\n",
       "  <thead>\n",
       "    <tr style=\"text-align: right;\">\n",
       "      <th></th>\n",
       "      <th>Document_No</th>\n",
       "      <th>Dominant_Topic</th>\n",
       "      <th>Topic_Perc_Contrib</th>\n",
       "      <th>Keywords</th>\n",
       "      <th>Text</th>\n",
       "    </tr>\n",
       "  </thead>\n",
       "  <tbody>\n",
       "    <tr>\n",
       "      <th>0</th>\n",
       "      <td>0</td>\n",
       "      <td>3</td>\n",
       "      <td>0.6617</td>\n",
       "      <td>kindle, fire, year, tablet, use, read, book, h...</td>\n",
       "      <td>[initially, trouble, decide, paperwhite, voyag...</td>\n",
       "    </tr>\n",
       "    <tr>\n",
       "      <th>1</th>\n",
       "      <td>1</td>\n",
       "      <td>3</td>\n",
       "      <td>0.7309</td>\n",
       "      <td>kindle, fire, year, tablet, use, read, book, h...</td>\n",
       "      <td>[allow, preface, little, history, be, casual, ...</td>\n",
       "    </tr>\n",
       "    <tr>\n",
       "      <th>2</th>\n",
       "      <td>2</td>\n",
       "      <td>3</td>\n",
       "      <td>0.7181</td>\n",
       "      <td>kindle, fire, year, tablet, use, read, book, h...</td>\n",
       "      <td>[enjoy, far, great, read, original, fire, sinc...</td>\n",
       "    </tr>\n",
       "    <tr>\n",
       "      <th>3</th>\n",
       "      <td>3</td>\n",
       "      <td>3</td>\n",
       "      <td>0.4945</td>\n",
       "      <td>kindle, fire, year, tablet, use, read, book, h...</td>\n",
       "      <td>[buy, one, first, paperwhite, please, constant...</td>\n",
       "    </tr>\n",
       "    <tr>\n",
       "      <th>4</th>\n",
       "      <td>4</td>\n",
       "      <td>3</td>\n",
       "      <td>0.5981</td>\n",
       "      <td>kindle, fire, year, tablet, use, read, book, h...</td>\n",
       "      <td>[say, upfront, like, coroporate, hermetically,...</td>\n",
       "    </tr>\n",
       "    <tr>\n",
       "      <th>5</th>\n",
       "      <td>5</td>\n",
       "      <td>1</td>\n",
       "      <td>0.3979</td>\n",
       "      <td>headphone, like, I, would, kindle, work, nice,...</td>\n",
       "      <td>[previous, kindle, dx, second, kindle, year, l...</td>\n",
       "    </tr>\n",
       "    <tr>\n",
       "      <th>6</th>\n",
       "      <td>6</td>\n",
       "      <td>3</td>\n",
       "      <td>0.7312</td>\n",
       "      <td>kindle, fire, year, tablet, use, read, book, h...</td>\n",
       "      <td>[allow, preface, little, history, be, casual, ...</td>\n",
       "    </tr>\n",
       "    <tr>\n",
       "      <th>7</th>\n",
       "      <td>7</td>\n",
       "      <td>1</td>\n",
       "      <td>0.4713</td>\n",
       "      <td>headphone, like, I, would, kindle, work, nice,...</td>\n",
       "      <td>[get, mine, right, now, look, previous, genera...</td>\n",
       "    </tr>\n",
       "    <tr>\n",
       "      <th>8</th>\n",
       "      <td>8</td>\n",
       "      <td>3</td>\n",
       "      <td>0.6610</td>\n",
       "      <td>kindle, fire, year, tablet, use, read, book, h...</td>\n",
       "      <td>[initially, trouble, decide, paperwhite, voyag...</td>\n",
       "    </tr>\n",
       "    <tr>\n",
       "      <th>9</th>\n",
       "      <td>9</td>\n",
       "      <td>3</td>\n",
       "      <td>0.8432</td>\n",
       "      <td>kindle, fire, year, tablet, use, read, book, h...</td>\n",
       "      <td>[enjoy, far, great, read, original, fire, sinc...</td>\n",
       "    </tr>\n",
       "  </tbody>\n",
       "</table>\n",
       "</div>"
      ],
      "text/plain": [
       "   Document_No  Dominant_Topic  Topic_Perc_Contrib  \\\n",
       "0            0               3              0.6617   \n",
       "1            1               3              0.7309   \n",
       "2            2               3              0.7181   \n",
       "3            3               3              0.4945   \n",
       "4            4               3              0.5981   \n",
       "5            5               1              0.3979   \n",
       "6            6               3              0.7312   \n",
       "7            7               1              0.4713   \n",
       "8            8               3              0.6610   \n",
       "9            9               3              0.8432   \n",
       "\n",
       "                                            Keywords  \\\n",
       "0  kindle, fire, year, tablet, use, read, book, h...   \n",
       "1  kindle, fire, year, tablet, use, read, book, h...   \n",
       "2  kindle, fire, year, tablet, use, read, book, h...   \n",
       "3  kindle, fire, year, tablet, use, read, book, h...   \n",
       "4  kindle, fire, year, tablet, use, read, book, h...   \n",
       "5  headphone, like, I, would, kindle, work, nice,...   \n",
       "6  kindle, fire, year, tablet, use, read, book, h...   \n",
       "7  headphone, like, I, would, kindle, work, nice,...   \n",
       "8  kindle, fire, year, tablet, use, read, book, h...   \n",
       "9  kindle, fire, year, tablet, use, read, book, h...   \n",
       "\n",
       "                                                Text  \n",
       "0  [initially, trouble, decide, paperwhite, voyag...  \n",
       "1  [allow, preface, little, history, be, casual, ...  \n",
       "2  [enjoy, far, great, read, original, fire, sinc...  \n",
       "3  [buy, one, first, paperwhite, please, constant...  \n",
       "4  [say, upfront, like, coroporate, hermetically,...  \n",
       "5  [previous, kindle, dx, second, kindle, year, l...  \n",
       "6  [allow, preface, little, history, be, casual, ...  \n",
       "7  [get, mine, right, now, look, previous, genera...  \n",
       "8  [initially, trouble, decide, paperwhite, voyag...  \n",
       "9  [enjoy, far, great, read, original, fire, sinc...  "
      ]
     },
     "execution_count": 14,
     "metadata": {},
     "output_type": "execute_result"
    }
   ],
   "source": [
    "# Format\n",
    "df_dominant_topic = df_topic_sents_keywords.reset_index()\n",
    "df_dominant_topic.columns = ['Document_No', 'Dominant_Topic', 'Topic_Perc_Contrib', 'Keywords', 'Text']\n",
    "\n",
    "# Show\n",
    "df_dominant_topic.head(10)"
   ]
  },
  {
   "cell_type": "markdown",
   "id": "ba285793",
   "metadata": {
    "id": "beZMEVWvP0zQ",
    "papermill": {
     "duration": 0.009293,
     "end_time": "2023-06-16T17:49:40.420038",
     "exception": false,
     "start_time": "2023-06-16T17:49:40.410745",
     "status": "completed"
    },
    "tags": []
   },
   "source": [
    "# Distribution of Dominant Topic"
   ]
  },
  {
   "cell_type": "code",
   "execution_count": 15,
   "id": "05d79367",
   "metadata": {
    "execution": {
     "iopub.execute_input": "2023-06-16T17:49:40.440605Z",
     "iopub.status.busy": "2023-06-16T17:49:40.439704Z",
     "iopub.status.idle": "2023-06-16T17:49:40.762602Z",
     "shell.execute_reply": "2023-06-16T17:49:40.761730Z"
    },
    "id": "Hk2yBujsZKPZ",
    "outputId": "5400d638-bf6b-49bd-cb56-b765e304de81",
    "papermill": {
     "duration": 0.33583,
     "end_time": "2023-06-16T17:49:40.764956",
     "exception": false,
     "start_time": "2023-06-16T17:49:40.429126",
     "status": "completed"
    },
    "tags": []
   },
   "outputs": [
    {
     "data": {
      "image/png": "[encoded data removed]",
      "text/plain": [
       "<Figure size 1000x600 with 1 Axes>"
      ]
     },
     "metadata": {},
     "output_type": "display_data"
    }
   ],
   "source": [
    "import matplotlib.pyplot as plt\n",
    "\n",
    "# Count the frequency of each dominant topic\n",
    "topic_counts = df_dominant_topic['Dominant_Topic'].value_counts()\n",
    "\n",
    "# Sort the topics by their frequencies\n",
    "sorted_topics = topic_counts.sort_index()\n",
    "\n",
    "# Plot the bar chart\n",
    "plt.figure(figsize=(10, 6))\n",
    "plt.bar(sorted_topics.index, sorted_topics.values)\n",
    "plt.xlabel('Dominant Topic')\n",
    "plt.ylabel('Frequency')\n",
    "plt.title('Distribution of Dominant Topics')\n",
    "plt.xticks(sorted_topics.index)\n",
    "plt.show()"
   ]
  }
 ],
 "metadata": {
  "kernelspec": {
   "display_name": "Python 3",
   "language": "python",
   "name": "python3"
  },
  "language_info": {
   "codemirror_mode": {
    "name": "ipython",
    "version": 3
   },
   "file_extension": ".py",
   "mimetype": "text/x-python",
   "name": "python",
   "nbconvert_exporter": "python",
   "pygments_lexer": "ipython3",
   "version": "3.10.10"
  },
  "papermill": {
   "default_parameters": {},
   "duration": 184.319094,
   "end_time": "2023-06-16T17:49:43.414082",
   "environment_variables": {},
   "exception": null,
   "input_path": "__notebook__.ipynb",
   "output_path": "__notebook__.ipynb",
   "parameters": {},
   "start_time": "2023-06-16T17:46:39.094988",
   "version": "2.4.0"
  }
 },
 "nbformat": 4,
 "nbformat_minor": 5
}
