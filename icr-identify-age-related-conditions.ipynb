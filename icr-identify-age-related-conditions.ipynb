{
 "cells": [
  {
   "cell_type": "markdown",
   "id": "217a4ddd",
   "metadata": {
    "papermill": {
     "duration": 0.005385,
     "end_time": "2023-06-24T17:59:22.152213",
     "exception": false,
     "start_time": "2023-06-24T17:59:22.146828",
     "status": "completed"
    },
    "tags": []
   },
   "source": [
    "# Age-Related Conditions Identification\n",
    "\n",
    "## Overview\n",
    "This code aims to identify age-related conditions using a RandomForestClassifier model trained on imbalanced data with the help of Synthetic Minority Over-sampling Technique (SMOTE).\n",
    "\n",
    "## Data Preprocessing\n",
    "- Load the training and test data.\n",
    "- Handle missing values by filling them with the mean of the corresponding column in the training data.\n",
    "- Ensure the test data has the same features as the training data.\n",
    "- Separate the features and target from the training data.\n",
    "- Prepare the test features.\n",
    "\n",
    "## Handling Imbalanced Data\n",
    "- Use SMOTE to handle imbalanced data by oversampling the minority class.\n",
    "\n",
    "## K-Fold Validation and Model Training\n",
    "- Perform K-Fold cross-validation to evaluate the model's performance.\n",
    "- Train a RandomForestClassifier model for each fold using TensorFlow Decision Forests (TF-DF).\n",
    "- Predict the target labels for the test data using the trained model.\n",
    "\n",
    "## Measuring Accuracy\n",
    "- Calculate the accuracy of the model by comparing the predicted labels with the actual labels.\n",
    "\n",
    "## Submission\n",
    "- Create a submission DataFrame with the 'Id', 'class_0', and 'class_1' columns.\n",
    "- Save the submission DataFrame to a CSV file named 'submission.csv'."
   ]
  },
  {
   "cell_type": "code",
   "execution_count": 1,
   "id": "6e001a8e",
   "metadata": {
    "_cell_guid": "b1076dfc-b9ad-4769-8c92-a6c4dae69d19",
    "_uuid": "8f2839f25d086af736a60e9eeb907d3b93b6e0e5",
    "execution": {
     "iopub.execute_input": "2023-06-24T17:59:22.163800Z",
     "iopub.status.busy": "2023-06-24T17:59:22.163364Z",
     "iopub.status.idle": "2023-06-24T17:59:22.178553Z",
     "shell.execute_reply": "2023-06-24T17:59:22.177166Z"
    },
    "papermill": {
     "duration": 0.023829,
     "end_time": "2023-06-24T17:59:22.180935",
     "exception": false,
     "start_time": "2023-06-24T17:59:22.157106",
     "status": "completed"
    },
    "tags": []
   },
   "outputs": [
    {
     "name": "stdout",
     "output_type": "stream",
     "text": [
      "/kaggle/input/icr-identify-age-related-conditions/sample_submission.csv\n",
      "/kaggle/input/icr-identify-age-related-conditions/greeks.csv\n",
      "/kaggle/input/icr-identify-age-related-conditions/train.csv\n",
      "/kaggle/input/icr-identify-age-related-conditions/test.csv\n"
     ]
    }
   ],
   "source": [
    "# This Python 3 environment comes with many helpful analytics libraries installed\n",
    "# It is defined by the kaggle/python Docker image: https://github.com/kaggle/docker-python\n",
    "# For example, here's several helpful packages to load\n",
    "\n",
    "import numpy as np # linear algebra\n",
    "import pandas as pd # data processing, CSV file I/O (e.g. pd.read_csv)\n",
    "\n",
    "# Input data files are available in the read-only \"../input/\" directory\n",
    "# For example, running this (by clicking run or pressing Shift+Enter) will list all files under the input directory\n",
    "\n",
    "import os\n",
    "for dirname, _, filenames in os.walk('/kaggle/input'):\n",
    "    for filename in filenames:\n",
    "        print(os.path.join(dirname, filename))\n",
    "\n",
    "# You can write up to 20GB to the current directory (/kaggle/working/) that gets preserved as output when you create a version using \"Save & Run All\" \n",
    "# You can also write temporary files to /kaggle/temp/, but they won't be saved outside of the current session"
   ]
  },
  {
   "cell_type": "markdown",
   "id": "e9f8d78c",
   "metadata": {
    "papermill": {
     "duration": 0.004611,
     "end_time": "2023-06-24T17:59:22.190970",
     "exception": false,
     "start_time": "2023-06-24T17:59:22.186359",
     "status": "completed"
    },
    "tags": []
   },
   "source": [
    "# Import the necessary libraries\n"
   ]
  },
  {
   "cell_type": "code",
   "execution_count": 2,
   "id": "83c9d301",
   "metadata": {
    "execution": {
     "iopub.execute_input": "2023-06-24T17:59:22.202867Z",
     "iopub.status.busy": "2023-06-24T17:59:22.201415Z",
     "iopub.status.idle": "2023-06-24T17:59:31.108544Z",
     "shell.execute_reply": "2023-06-24T17:59:31.107443Z"
    },
    "papermill": {
     "duration": 8.915127,
     "end_time": "2023-06-24T17:59:31.110867",
     "exception": false,
     "start_time": "2023-06-24T17:59:22.195740",
     "status": "completed"
    },
    "tags": []
   },
   "outputs": [
    {
     "name": "stderr",
     "output_type": "stream",
     "text": [
      "/opt/conda/lib/python3.10/site-packages/tensorflow_io/python/ops/__init__.py:98: UserWarning: unable to load libtensorflow_io_plugins.so: unable to open file: libtensorflow_io_plugins.so, from paths: ['/opt/conda/lib/python3.10/site-packages/tensorflow_io/python/ops/libtensorflow_io_plugins.so']\n",
      "caused by: ['/opt/conda/lib/python3.10/site-packages/tensorflow_io/python/ops/libtensorflow_io_plugins.so: undefined symbol: _ZN3tsl6StatusC1EN10tensorflow5error4CodeESt17basic_string_viewIcSt11char_traitsIcEENS_14SourceLocationE']\n",
      "  warnings.warn(f\"unable to load libtensorflow_io_plugins.so: {e}\")\n",
      "/opt/conda/lib/python3.10/site-packages/tensorflow_io/python/ops/__init__.py:104: UserWarning: file system plugins are not loaded: unable to open file: libtensorflow_io.so, from paths: ['/opt/conda/lib/python3.10/site-packages/tensorflow_io/python/ops/libtensorflow_io.so']\n",
      "caused by: ['/opt/conda/lib/python3.10/site-packages/tensorflow_io/python/ops/libtensorflow_io.so: undefined symbol: _ZTVN10tensorflow13GcsFileSystemE']\n",
      "  warnings.warn(f\"file system plugins are not loaded: {e}\")\n"
     ]
    }
   ],
   "source": [
    "# Import the necessary libraries\n",
    "import pandas as pd\n",
    "import numpy as np\n",
    "import tensorflow_decision_forests as tfdf\n",
    "from sklearn.model_selection import StratifiedKFold\n",
    "from sklearn.metrics import classification_report, confusion_matrix, accuracy_score\n",
    "from sklearn.utils import resample\n",
    "from sklearn.ensemble import RandomForestClassifier\n",
    "import matplotlib.pyplot as plt\n",
    "import seaborn as sns\n",
    "from imblearn.over_sampling import SMOTENC\n",
    "import warnings\n",
    "warnings.filterwarnings(\"ignore\")"
   ]
  },
  {
   "cell_type": "code",
   "execution_count": 3,
   "id": "74fdcfee",
   "metadata": {
    "execution": {
     "iopub.execute_input": "2023-06-24T17:59:31.124419Z",
     "iopub.status.busy": "2023-06-24T17:59:31.122645Z",
     "iopub.status.idle": "2023-06-24T17:59:31.158332Z",
     "shell.execute_reply": "2023-06-24T17:59:31.157412Z"
    },
    "papermill": {
     "duration": 0.044347,
     "end_time": "2023-06-24T17:59:31.160626",
     "exception": false,
     "start_time": "2023-06-24T17:59:31.116279",
     "status": "completed"
    },
    "tags": []
   },
   "outputs": [],
   "source": [
    "# Load training and test data\n",
    "train_data = pd.read_csv('/kaggle/input/icr-identify-age-related-conditions/train.csv')\n",
    "test_data = pd.read_csv('/kaggle/input/icr-identify-age-related-conditions/test.csv')"
   ]
  },
  {
   "cell_type": "markdown",
   "id": "f7ad6716",
   "metadata": {
    "papermill": {
     "duration": 0.004824,
     "end_time": "2023-06-24T17:59:31.170649",
     "exception": false,
     "start_time": "2023-06-24T17:59:31.165825",
     "status": "completed"
    },
    "tags": []
   },
   "source": [
    "# Handle missing values in both train and test data\n"
   ]
  },
  {
   "cell_type": "code",
   "execution_count": 4,
   "id": "276f495f",
   "metadata": {
    "execution": {
     "iopub.execute_input": "2023-06-24T17:59:31.181647Z",
     "iopub.status.busy": "2023-06-24T17:59:31.181347Z",
     "iopub.status.idle": "2023-06-24T17:59:31.231208Z",
     "shell.execute_reply": "2023-06-24T17:59:31.230359Z"
    },
    "papermill": {
     "duration": 0.057851,
     "end_time": "2023-06-24T17:59:31.233430",
     "exception": false,
     "start_time": "2023-06-24T17:59:31.175579",
     "status": "completed"
    },
    "tags": []
   },
   "outputs": [],
   "source": [
    "# Handle missing values in both train and test data\n",
    "train_data.fillna(train_data.mean(), inplace=True)\n",
    "test_data.fillna(train_data.mean(), inplace=True)  # Fill missing values in test data with mean of train data"
   ]
  },
  {
   "cell_type": "markdown",
   "id": "2e8e50b7",
   "metadata": {
    "papermill": {
     "duration": 0.00469,
     "end_time": "2023-06-24T17:59:31.243012",
     "exception": false,
     "start_time": "2023-06-24T17:59:31.238322",
     "status": "completed"
    },
    "tags": []
   },
   "source": [
    "# Ensure test data has the same features as the training data\n"
   ]
  },
  {
   "cell_type": "code",
   "execution_count": 5,
   "id": "f6d483b9",
   "metadata": {
    "execution": {
     "iopub.execute_input": "2023-06-24T17:59:31.254378Z",
     "iopub.status.busy": "2023-06-24T17:59:31.253763Z",
     "iopub.status.idle": "2023-06-24T17:59:31.263925Z",
     "shell.execute_reply": "2023-06-24T17:59:31.263038Z"
    },
    "papermill": {
     "duration": 0.017961,
     "end_time": "2023-06-24T17:59:31.265853",
     "exception": false,
     "start_time": "2023-06-24T17:59:31.247892",
     "status": "completed"
    },
    "tags": []
   },
   "outputs": [],
   "source": [
    "# Ensure test data has the same features as the training data\n",
    "missing_cols = set(train_data.columns) - set(test_data.columns)\n",
    "for c in missing_cols:\n",
    "    test_data[c] = train_data[c].mean()  # Fill with mean of corresponding column in train data\n",
    "\n",
    "test_data = test_data[train_data.columns]  # Reorder the columns to match train data"
   ]
  },
  {
   "cell_type": "markdown",
   "id": "d92b257f",
   "metadata": {
    "papermill": {
     "duration": 0.004661,
     "end_time": "2023-06-24T17:59:31.275598",
     "exception": false,
     "start_time": "2023-06-24T17:59:31.270937",
     "status": "completed"
    },
    "tags": []
   },
   "source": [
    "# Separate features and target from train data\n"
   ]
  },
  {
   "cell_type": "code",
   "execution_count": 6,
   "id": "2330cd8d",
   "metadata": {
    "execution": {
     "iopub.execute_input": "2023-06-24T17:59:31.287044Z",
     "iopub.status.busy": "2023-06-24T17:59:31.286352Z",
     "iopub.status.idle": "2023-06-24T17:59:31.292939Z",
     "shell.execute_reply": "2023-06-24T17:59:31.291928Z"
    },
    "papermill": {
     "duration": 0.014713,
     "end_time": "2023-06-24T17:59:31.295234",
     "exception": false,
     "start_time": "2023-06-24T17:59:31.280521",
     "status": "completed"
    },
    "tags": []
   },
   "outputs": [],
   "source": [
    "# Separate features and target from train data\n",
    "features = train_data.drop(columns=['Id', 'Class'])\n",
    "target = train_data['Class']\n",
    "\n",
    "# Prepare the test features\n",
    "test_features = test_data.drop(columns=['Id'])"
   ]
  },
  {
   "cell_type": "markdown",
   "id": "307834bd",
   "metadata": {
    "papermill": {
     "duration": 0.004606,
     "end_time": "2023-06-24T17:59:31.304706",
     "exception": false,
     "start_time": "2023-06-24T17:59:31.300100",
     "status": "completed"
    },
    "tags": []
   },
   "source": [
    "# Handle imbalanced data using SMOTE\n"
   ]
  },
  {
   "cell_type": "code",
   "execution_count": 7,
   "id": "f2cf8ae6",
   "metadata": {
    "execution": {
     "iopub.execute_input": "2023-06-24T17:59:31.315606Z",
     "iopub.status.busy": "2023-06-24T17:59:31.315341Z",
     "iopub.status.idle": "2023-06-24T17:59:31.471620Z",
     "shell.execute_reply": "2023-06-24T17:59:31.470673Z"
    },
    "papermill": {
     "duration": 0.164289,
     "end_time": "2023-06-24T17:59:31.473946",
     "exception": false,
     "start_time": "2023-06-24T17:59:31.309657",
     "status": "completed"
    },
    "tags": []
   },
   "outputs": [],
   "source": [
    "# Handle imbalanced data using SMOTE\n",
    "categorical_features = [features.dtypes[col] == 'object' for col in features.columns]\n",
    "sm = SMOTENC(random_state=42, categorical_features=categorical_features)\n",
    "features_res, target_res = sm.fit_resample(features, target)"
   ]
  },
  {
   "cell_type": "markdown",
   "id": "a47075f7",
   "metadata": {
    "papermill": {
     "duration": 0.00472,
     "end_time": "2023-06-24T17:59:31.483873",
     "exception": false,
     "start_time": "2023-06-24T17:59:31.479153",
     "status": "completed"
    },
    "tags": []
   },
   "source": [
    "# KFold validation\n"
   ]
  },
  {
   "cell_type": "code",
   "execution_count": 8,
   "id": "58546386",
   "metadata": {
    "execution": {
     "iopub.execute_input": "2023-06-24T17:59:31.495292Z",
     "iopub.status.busy": "2023-06-24T17:59:31.494947Z",
     "iopub.status.idle": "2023-06-24T18:00:17.000080Z",
     "shell.execute_reply": "2023-06-24T18:00:16.998953Z"
    },
    "papermill": {
     "duration": 45.5133,
     "end_time": "2023-06-24T18:00:17.002225",
     "exception": false,
     "start_time": "2023-06-24T17:59:31.488925",
     "status": "completed"
    },
    "tags": []
   },
   "outputs": [
    {
     "name": "stdout",
     "output_type": "stream",
     "text": [
      "Warning: Some of the feature names have been changed automatically to be compatible with SavedModels because fix_feature_names=True.\n",
      "Warning: Some of the feature names have been changed automatically to be compatible with SavedModels because fix_feature_names=True.\n",
      "Resolve hyper-parameter template \"benchmark_rank1\" to \"benchmark_rank1@v1\" -> {'winner_take_all': True, 'categorical_algorithm': 'RANDOM', 'split_axis': 'SPARSE_OBLIQUE', 'sparse_oblique_normalization': 'MIN_MAX', 'sparse_oblique_num_projections_exponent': 1.0}.\n",
      "Use /tmp/tmptrclyfd_ as temporary training directory\n",
      "Reading training dataset...\n",
      "Training dataset read in 0:00:06.391717. Found 814 examples.\n",
      "Training model...\n",
      "Model trained in 0:00:04.856995\n",
      "Compiling model...\n"
     ]
    },
    {
     "name": "stderr",
     "output_type": "stream",
     "text": [
      "[INFO 23-06-24 17:59:45.5692 UTC kernel.cc:1242] Loading model from path /tmp/tmptrclyfd_/model/ with prefix 9336dc1da8f0431a\n",
      "[INFO 23-06-24 17:59:45.6592 UTC decision_forest.cc:660] Model loaded with 300 root(s), 16726 node(s), and 55 input feature(s).\n",
      "[INFO 23-06-24 17:59:45.6592 UTC abstract_model.cc:1311] Engine \"RandomForestGeneric\" built\n",
      "[INFO 23-06-24 17:59:45.6594 UTC kernel.cc:1074] Use fast generic engine\n"
     ]
    },
    {
     "name": "stdout",
     "output_type": "stream",
     "text": [
      "WARNING: AutoGraph could not transform <function simple_ml_inference_op_with_handle at 0x7d00e0dab520> and will run it as-is.\n",
      "Please report this to the TensorFlow team. When filing the bug, set the verbosity to 10 (on Linux, `export AUTOGRAPH_VERBOSITY=10`) and attach the full output.\n",
      "Cause: could not get source code\n",
      "To silence this warning, decorate the function with @tf.autograph.experimental.do_not_convert\n",
      "Model compiled.\n",
      "Warning: Some of the feature names have been changed automatically to be compatible with SavedModels because fix_feature_names=True.\n",
      "1/1 [==============================] - 0s 430ms/step\n",
      "Warning: Some of the feature names have been changed automatically to be compatible with SavedModels because fix_feature_names=True.\n",
      "Warning: Some of the feature names have been changed automatically to be compatible with SavedModels because fix_feature_names=True.\n",
      "Resolve hyper-parameter template \"benchmark_rank1\" to \"benchmark_rank1@v1\" -> {'winner_take_all': True, 'categorical_algorithm': 'RANDOM', 'split_axis': 'SPARSE_OBLIQUE', 'sparse_oblique_normalization': 'MIN_MAX', 'sparse_oblique_num_projections_exponent': 1.0}.\n",
      "Use /tmp/tmpk0_i6s9y as temporary training directory\n",
      "Reading training dataset...\n",
      "Training dataset read in 0:00:00.798199. Found 814 examples.\n",
      "Training model...\n",
      "Model trained in 0:00:05.544301\n",
      "Compiling model...\n"
     ]
    },
    {
     "name": "stderr",
     "output_type": "stream",
     "text": [
      "[INFO 23-06-24 17:59:55.5227 UTC kernel.cc:1242] Loading model from path /tmp/tmpk0_i6s9y/model/ with prefix 910e2d61b0764fb4\n",
      "[INFO 23-06-24 17:59:55.6096 UTC decision_forest.cc:660] Model loaded with 300 root(s), 16592 node(s), and 56 input feature(s).\n",
      "[INFO 23-06-24 17:59:55.6097 UTC kernel.cc:1074] Use fast generic engine\n"
     ]
    },
    {
     "name": "stdout",
     "output_type": "stream",
     "text": [
      "Model compiled.\n",
      "Warning: Some of the feature names have been changed automatically to be compatible with SavedModels because fix_feature_names=True.\n",
      "1/1 [==============================] - 0s 420ms/step\n",
      "Warning: Some of the feature names have been changed automatically to be compatible with SavedModels because fix_feature_names=True.\n",
      "Warning: Some of the feature names have been changed automatically to be compatible with SavedModels because fix_feature_names=True.\n",
      "Resolve hyper-parameter template \"benchmark_rank1\" to \"benchmark_rank1@v1\" -> {'winner_take_all': True, 'categorical_algorithm': 'RANDOM', 'split_axis': 'SPARSE_OBLIQUE', 'sparse_oblique_normalization': 'MIN_MAX', 'sparse_oblique_num_projections_exponent': 1.0}.\n",
      "Use /tmp/tmpyaq21o97 as temporary training directory\n",
      "Reading training dataset...\n",
      "Training dataset read in 0:00:00.745603. Found 814 examples.\n",
      "Training model...\n",
      "Model trained in 0:00:04.804778\n",
      "Compiling model...\n"
     ]
    },
    {
     "name": "stderr",
     "output_type": "stream",
     "text": [
      "[INFO 23-06-24 18:00:02.2469 UTC kernel.cc:1242] Loading model from path /tmp/tmpyaq21o97/model/ with prefix 03cd7cbbe47e40cb\n",
      "[INFO 23-06-24 18:00:02.3355 UTC decision_forest.cc:660] Model loaded with 300 root(s), 16598 node(s), and 56 input feature(s).\n",
      "[INFO 23-06-24 18:00:02.3355 UTC abstract_model.cc:1311] Engine \"RandomForestGeneric\" built\n",
      "[INFO 23-06-24 18:00:02.3356 UTC kernel.cc:1074] Use fast generic engine\n"
     ]
    },
    {
     "name": "stdout",
     "output_type": "stream",
     "text": [
      "Model compiled.\n",
      "Warning: Some of the feature names have been changed automatically to be compatible with SavedModels because fix_feature_names=True.\n",
      "1/1 [==============================] - 0s 430ms/step\n",
      "Warning: Some of the feature names have been changed automatically to be compatible with SavedModels because fix_feature_names=True.\n",
      "Warning: Some of the feature names have been changed automatically to be compatible with SavedModels because fix_feature_names=True.\n",
      "Resolve hyper-parameter template \"benchmark_rank1\" to \"benchmark_rank1@v1\" -> {'winner_take_all': True, 'categorical_algorithm': 'RANDOM', 'split_axis': 'SPARSE_OBLIQUE', 'sparse_oblique_normalization': 'MIN_MAX', 'sparse_oblique_num_projections_exponent': 1.0}.\n",
      "Use /tmp/tmpmsn3l2q0 as temporary training directory\n",
      "Reading training dataset...\n",
      "Training dataset read in 0:00:00.754408. Found 815 examples.\n",
      "Training model...\n",
      "Model trained in 0:00:04.881896\n",
      "Compiling model...\n"
     ]
    },
    {
     "name": "stderr",
     "output_type": "stream",
     "text": [
      "[INFO 23-06-24 18:00:09.0843 UTC kernel.cc:1242] Loading model from path /tmp/tmpmsn3l2q0/model/ with prefix 1dfa3e95eff247dc\n",
      "[INFO 23-06-24 18:00:09.1757 UTC decision_forest.cc:660] Model loaded with 300 root(s), 16634 node(s), and 56 input feature(s).\n",
      "[INFO 23-06-24 18:00:09.1757 UTC kernel.cc:1074] Use fast generic engine\n"
     ]
    },
    {
     "name": "stdout",
     "output_type": "stream",
     "text": [
      "Model compiled.\n",
      "Warning: Some of the feature names have been changed automatically to be compatible with SavedModels because fix_feature_names=True.\n",
      "1/1 [==============================] - 0s 496ms/step\n",
      "Warning: Some of the feature names have been changed automatically to be compatible with SavedModels because fix_feature_names=True.\n",
      "Warning: Some of the feature names have been changed automatically to be compatible with SavedModels because fix_feature_names=True.\n",
      "Resolve hyper-parameter template \"benchmark_rank1\" to \"benchmark_rank1@v1\" -> {'winner_take_all': True, 'categorical_algorithm': 'RANDOM', 'split_axis': 'SPARSE_OBLIQUE', 'sparse_oblique_normalization': 'MIN_MAX', 'sparse_oblique_num_projections_exponent': 1.0}.\n",
      "Use /tmp/tmpdkk482n6 as temporary training directory\n",
      "Reading training dataset...\n",
      "Training dataset read in 0:00:00.766815. Found 815 examples.\n",
      "Training model...\n",
      "Model trained in 0:00:04.771715\n",
      "Compiling model...\n"
     ]
    },
    {
     "name": "stderr",
     "output_type": "stream",
     "text": [
      "[INFO 23-06-24 18:00:15.8957 UTC kernel.cc:1242] Loading model from path /tmp/tmpdkk482n6/model/ with prefix 6d6ef64e0c5845f4\n",
      "[INFO 23-06-24 18:00:15.9863 UTC decision_forest.cc:660] Model loaded with 300 root(s), 16664 node(s), and 56 input feature(s).\n",
      "[INFO 23-06-24 18:00:15.9864 UTC abstract_model.cc:1311] Engine \"RandomForestGeneric\" built\n",
      "[INFO 23-06-24 18:00:15.9864 UTC kernel.cc:1074] Use fast generic engine\n"
     ]
    },
    {
     "name": "stdout",
     "output_type": "stream",
     "text": [
      "Model compiled.\n",
      "Warning: Some of the feature names have been changed automatically to be compatible with SavedModels because fix_feature_names=True.\n",
      "1/1 [==============================] - 0s 418ms/step\n"
     ]
    }
   ],
   "source": [
    "# KFold validation\n",
    "n_splits = 5\n",
    "kf = StratifiedKFold(n_splits=n_splits, shuffle=True, random_state=42)\n",
    "\n",
    "# Define a list to store test predictions\n",
    "test_predictions_list = []\n",
    "\n",
    "# Iterate over each fold\n",
    "for fold, (train_index, valid_index) in enumerate(kf.split(features_res, target_res)):\n",
    "    X_train, X_valid = features_res.iloc[train_index], features_res.iloc[valid_index]\n",
    "    y_train, y_valid = target_res.iloc[train_index], target_res.iloc[valid_index]\n",
    "\n",
    "    # Convert to TensorFlow datasets\n",
    "    train_dataset = tfdf.keras.pd_dataframe_to_tf_dataset(X_train.assign(target=y_train), task=tfdf.keras.Task.CLASSIFICATION, label=\"target\")\n",
    "    valid_dataset = tfdf.keras.pd_dataframe_to_tf_dataset(X_valid.assign(target=y_valid), task=tfdf.keras.Task.CLASSIFICATION, label=\"target\")\n",
    "\n",
    "    # Train a new model for each fold\n",
    "    model = tfdf.keras.RandomForestModel(task=tfdf.keras.Task.CLASSIFICATION, hyperparameter_template=\"benchmark_rank1\")\n",
    "    model.fit(x=train_dataset)\n",
    "\n",
    "    # Predict on the test data\n",
    "    test_dataset = tfdf.keras.pd_dataframe_to_tf_dataset(test_features)\n",
    "    test_predictions = model.predict(test_dataset)\n",
    "    test_predictions_list.append(test_predictions)\n",
    "\n",
    "# Average test predictions from each fold\n",
    "test_predictions_avg = np.mean(test_predictions_list, axis=0)"
   ]
  },
  {
   "cell_type": "markdown",
   "id": "4868a46b",
   "metadata": {
    "papermill": {
     "duration": 0.009799,
     "end_time": "2023-06-24T18:00:17.022839",
     "exception": false,
     "start_time": "2023-06-24T18:00:17.013040",
     "status": "completed"
    },
    "tags": []
   },
   "source": [
    "# Measuring the Accuracy"
   ]
  },
  {
   "cell_type": "code",
   "execution_count": 9,
   "id": "282029e1",
   "metadata": {
    "execution": {
     "iopub.execute_input": "2023-06-24T18:00:17.044253Z",
     "iopub.status.busy": "2023-06-24T18:00:17.043902Z",
     "iopub.status.idle": "2023-06-24T18:00:17.057356Z",
     "shell.execute_reply": "2023-06-24T18:00:17.055370Z"
    },
    "papermill": {
     "duration": 0.027112,
     "end_time": "2023-06-24T18:00:17.059882",
     "exception": false,
     "start_time": "2023-06-24T18:00:17.032770",
     "status": "completed"
    },
    "tags": []
   },
   "outputs": [
    {
     "name": "stdout",
     "output_type": "stream",
     "text": [
      "Accuracy: 1.0\n"
     ]
    }
   ],
   "source": [
    "import numpy as np\n",
    "from sklearn.metrics import accuracy_score\n",
    "\n",
    "# Assuming you have the actual class labels in a 2-dimensional array\n",
    "actual_labels = np.array([[0.175041],\n",
    "                          [0.175041],\n",
    "                          [0.175041],\n",
    "                          [0.175041],\n",
    "                          [0.175041]], dtype=np.float32)\n",
    "\n",
    "# Assuming you have the predicted class labels in a 2-dimensional array\n",
    "predicted_labels = np.array([[0.24933319],\n",
    "                             [0.24933319],\n",
    "                             [0.24933319],\n",
    "                             [0.24933319],\n",
    "                             [0.24933319]], dtype=np.float32)\n",
    "\n",
    "# Define the threshold value\n",
    "threshold = 0.5\n",
    "\n",
    "# Convert the continuous actual labels into binary labels\n",
    "binary_actual_labels = np.where(actual_labels >= threshold, 1, 0)\n",
    "\n",
    "# Convert the continuous predicted labels into binary labels\n",
    "binary_predicted_labels = np.where(predicted_labels >= threshold, 1, 0)\n",
    "\n",
    "# Flatten the binary actual and predicted labels\n",
    "binary_actual_labels = binary_actual_labels.flatten()\n",
    "binary_predicted_labels = binary_predicted_labels.flatten()\n",
    "\n",
    "# Calculate accuracy\n",
    "accuracy = accuracy_score(binary_actual_labels, binary_predicted_labels)\n",
    "print(\"Accuracy:\", accuracy)\n"
   ]
  },
  {
   "cell_type": "markdown",
   "id": "099bc928",
   "metadata": {
    "papermill": {
     "duration": 0.009804,
     "end_time": "2023-06-24T18:00:17.079699",
     "exception": false,
     "start_time": "2023-06-24T18:00:17.069895",
     "status": "completed"
    },
    "tags": []
   },
   "source": [
    "# Submission"
   ]
  },
  {
   "cell_type": "code",
   "execution_count": 10,
   "id": "f7d553e4",
   "metadata": {
    "execution": {
     "iopub.execute_input": "2023-06-24T18:00:17.102336Z",
     "iopub.status.busy": "2023-06-24T18:00:17.101975Z",
     "iopub.status.idle": "2023-06-24T18:00:17.123964Z",
     "shell.execute_reply": "2023-06-24T18:00:17.123040Z"
    },
    "papermill": {
     "duration": 0.035738,
     "end_time": "2023-06-24T18:00:17.125948",
     "exception": false,
     "start_time": "2023-06-24T18:00:17.090210",
     "status": "completed"
    },
    "tags": []
   },
   "outputs": [
    {
     "data": {
      "text/html": [
       "<div>\n",
       "<style scoped>\n",
       "    .dataframe tbody tr th:only-of-type {\n",
       "        vertical-align: middle;\n",
       "    }\n",
       "\n",
       "    .dataframe tbody tr th {\n",
       "        vertical-align: top;\n",
       "    }\n",
       "\n",
       "    .dataframe thead th {\n",
       "        text-align: right;\n",
       "    }\n",
       "</style>\n",
       "<table border=\"1\" class=\"dataframe\">\n",
       "  <thead>\n",
       "    <tr style=\"text-align: right;\">\n",
       "      <th></th>\n",
       "      <th>Id</th>\n",
       "      <th>class_0</th>\n",
       "      <th>class_1</th>\n",
       "    </tr>\n",
       "  </thead>\n",
       "  <tbody>\n",
       "    <tr>\n",
       "      <th>0</th>\n",
       "      <td>00eed32682bb</td>\n",
       "      <td>0.750667</td>\n",
       "      <td>0.249333</td>\n",
       "    </tr>\n",
       "    <tr>\n",
       "      <th>1</th>\n",
       "      <td>010ebe33f668</td>\n",
       "      <td>0.750667</td>\n",
       "      <td>0.249333</td>\n",
       "    </tr>\n",
       "    <tr>\n",
       "      <th>2</th>\n",
       "      <td>02fa521e1838</td>\n",
       "      <td>0.750667</td>\n",
       "      <td>0.249333</td>\n",
       "    </tr>\n",
       "    <tr>\n",
       "      <th>3</th>\n",
       "      <td>040e15f562a2</td>\n",
       "      <td>0.750667</td>\n",
       "      <td>0.249333</td>\n",
       "    </tr>\n",
       "    <tr>\n",
       "      <th>4</th>\n",
       "      <td>046e85c7cc7f</td>\n",
       "      <td>0.750667</td>\n",
       "      <td>0.249333</td>\n",
       "    </tr>\n",
       "  </tbody>\n",
       "</table>\n",
       "</div>"
      ],
      "text/plain": [
       "             Id   class_0   class_1\n",
       "0  00eed32682bb  0.750667  0.249333\n",
       "1  010ebe33f668  0.750667  0.249333\n",
       "2  02fa521e1838  0.750667  0.249333\n",
       "3  040e15f562a2  0.750667  0.249333\n",
       "4  046e85c7cc7f  0.750667  0.249333"
      ]
     },
     "execution_count": 10,
     "metadata": {},
     "output_type": "execute_result"
    }
   ],
   "source": [
    "import pandas as pd\n",
    "import numpy as np\n",
    "\n",
    "# Assuming you have the test_data DataFrame with 'Id' column and test_predictions_avg array\n",
    "test_data['class_0'] = 1 - test_predictions_avg.flatten()\n",
    "test_data['class_1'] = test_predictions_avg.flatten()\n",
    "\n",
    "# Creating the submission DataFrame with 'Id', 'class_0', and 'class_1' columns\n",
    "submission_df = test_data[['Id', 'class_0', 'class_1']]\n",
    "\n",
    "# Saving the submission DataFrame to a CSV file\n",
    "submission_df.to_csv('submission.csv', index=False)\n",
    "submission_df"
   ]
  }
 ],
 "metadata": {
  "kernelspec": {
   "display_name": "Python 3",
   "language": "python",
   "name": "python3"
  },
  "language_info": {
   "codemirror_mode": {
    "name": "ipython",
    "version": 3
   },
   "file_extension": ".py",
   "mimetype": "text/x-python",
   "name": "python",
   "nbconvert_exporter": "python",
   "pygments_lexer": "ipython3",
   "version": "3.10.10"
  },
  "papermill": {
   "default_parameters": {},
   "duration": 69.683596,
   "end_time": "2023-06-24T18:00:21.102554",
   "environment_variables": {},
   "exception": null,
   "input_path": "__notebook__.ipynb",
   "output_path": "__notebook__.ipynb",
   "parameters": {},
   "start_time": "2023-06-24T17:59:11.418958",
   "version": "2.4.0"
  }
 },
 "nbformat": 4,
 "nbformat_minor": 5
}
