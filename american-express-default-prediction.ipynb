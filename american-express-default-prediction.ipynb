{
 "cells": [
  {
   "cell_type": "code",
   "execution_count": 1,
   "id": "4f4d5f54",
   "metadata": {
    "_cell_guid": "b1076dfc-b9ad-4769-8c92-a6c4dae69d19",
    "_uuid": "8f2839f25d086af736a60e9eeb907d3b93b6e0e5",
    "execution": {
     "iopub.execute_input": "2022-08-31T12:23:05.060321Z",
     "iopub.status.busy": "2022-08-31T12:23:05.059821Z",
     "iopub.status.idle": "2022-08-31T12:23:05.080863Z",
     "shell.execute_reply": "2022-08-31T12:23:05.079587Z"
    },
    "papermill": {
     "duration": 0.034347,
     "end_time": "2022-08-31T12:23:05.083991",
     "exception": false,
     "start_time": "2022-08-31T12:23:05.049644",
     "status": "completed"
    },
    "tags": []
   },
   "outputs": [
    {
     "name": "stdout",
     "output_type": "stream",
     "text": [
      "/kaggle/input/amex-default-prediction/sample_submission.csv\n",
      "/kaggle/input/amex-default-prediction/train_data.csv\n",
      "/kaggle/input/amex-default-prediction/test_data.csv\n",
      "/kaggle/input/amex-default-prediction/train_labels.csv\n",
      "/kaggle/input/american-express-default-prediction/american-express-prediction.ipynb\n",
      "/kaggle/input/american-express-default-prediction/submission (2).csv\n"
     ]
    }
   ],
   "source": [
    "# This Python 3 environment comes with many helpful analytics libraries installed\n",
    "# It is defined by the kaggle/python Docker image: https://github.com/kaggle/docker-python\n",
    "# For example, here's several helpful packages to load\n",
    "\n",
    "import numpy as np # linear algebra\n",
    "import pandas as pd # data processing, CSV file I/O (e.g. pd.read_csv)\n",
    "\n",
    "# Input data files are available in the read-only \"../input/\" directory\n",
    "# For example, running this (by clicking run or pressing Shift+Enter) will list all files under the input directory\n",
    "\n",
    "import os\n",
    "for dirname, _, filenames in os.walk('/kaggle/input'):\n",
    "    for filename in filenames:\n",
    "        print(os.path.join(dirname, filename))\n",
    "\n",
    "# You can write up to 20GB to the current directory (/kaggle/working/) that gets preserved as output when you create a version using \"Save & Run All\" \n",
    "# You can also write temporary files to /kaggle/temp/, but they won't be saved outside of the current session"
   ]
  },
  {
   "cell_type": "markdown",
   "id": "e899daa5",
   "metadata": {
    "papermill": {
     "duration": 0.007119,
     "end_time": "2022-08-31T12:23:05.098749",
     "exception": false,
     "start_time": "2022-08-31T12:23:05.091630",
     "status": "completed"
    },
    "tags": []
   },
   "source": [
    "**Problem Statement:**\n",
    "\n",
    "* Whether out at a restaurant or buying tickets to a concert, modern life counts on the convenience of a credit card to make daily purchases. It saves us from carrying large amounts of cash and also can advance a full purchase that can be paid over time.\n",
    "* How do card issuers know we’ll pay back what we charge? That’s a complex problem with many existing solutions—and even more potential improvements, to be explored in this competition.\n",
    "* Credit default prediction is central to managing risk in a consumer lending business. \n",
    " * Credit default prediction allows lenders to optimize lending decisions, which leads to a better customer experience and sound business economics. \n",
    "* Current models exist to help manage risk. But it's possible to create better models that can outperform those currently in use.\n",
    "\n",
    "* The objective of this competition is to predict the probability that a customer does not pay back their credit card balance amount in the future based on their monthly customer profile. \n",
    " * The target binary variable is calculated by observing 18 months performance window after the latest credit card statement, and if the customer does not pay due amount in 120 days after their latest statement date it is considered a default event."
   ]
  },
  {
   "cell_type": "code",
   "execution_count": 2,
   "id": "98f7a424",
   "metadata": {
    "execution": {
     "iopub.execute_input": "2022-08-31T12:23:05.114871Z",
     "iopub.status.busy": "2022-08-31T12:23:05.114185Z",
     "iopub.status.idle": "2022-08-31T12:23:06.828840Z",
     "shell.execute_reply": "2022-08-31T12:23:06.827534Z"
    },
    "papermill": {
     "duration": 1.725904,
     "end_time": "2022-08-31T12:23:06.831704",
     "exception": false,
     "start_time": "2022-08-31T12:23:05.105800",
     "status": "completed"
    },
    "tags": []
   },
   "outputs": [],
   "source": [
    "# Import the Libraries\n",
    "import numpy as np\n",
    "import pandas as pd\n",
    "import dask.dataframe as dd #this finds all the path name\n",
    "import matplotlib.pyplot as plt\n",
    "import seaborn as sns # Data Visualization\n",
    "from datetime import datetime \n",
    "import re"
   ]
  },
  {
   "cell_type": "code",
   "execution_count": 3,
   "id": "8f653e41",
   "metadata": {
    "execution": {
     "iopub.execute_input": "2022-08-31T12:23:06.848185Z",
     "iopub.status.busy": "2022-08-31T12:23:06.847728Z",
     "iopub.status.idle": "2022-08-31T12:23:07.416001Z",
     "shell.execute_reply": "2022-08-31T12:23:07.414739Z"
    },
    "papermill": {
     "duration": 0.579763,
     "end_time": "2022-08-31T12:23:07.419130",
     "exception": false,
     "start_time": "2022-08-31T12:23:06.839367",
     "status": "completed"
    },
    "tags": []
   },
   "outputs": [],
   "source": [
    "#importing SimpleImputer for handling missing value\n",
    "from sklearn.impute import SimpleImputer\n",
    "\n",
    "# importing MissingIndicator for handling missing value\n",
    "from sklearn.impute import MissingIndicator\n",
    "\n",
    "# importing StandardScaler for standardization\n",
    "from sklearn.preprocessing import StandardScaler\n",
    "\n",
    "# importing OnHotEncoder for encoding categorical variable\n",
    "from sklearn.preprocessing import OneHotEncoder\n",
    "\n",
    "# importing for transformation\n",
    "from sklearn.compose import ColumnTransformer\n",
    "from sklearn.compose import make_column_transformer\n",
    "from sklearn.compose import make_column_selector\n",
    "\n",
    "# importing PCA for handling dimensonality reduction\n",
    "from sklearn.decomposition import PCA\n",
    "\n",
    "# importing pipeline for chaining model building activities\n",
    "from sklearn.pipeline import Pipeline\n",
    "from sklearn.pipeline import make_pipeline\n",
    "from imblearn.pipeline import Pipeline\n",
    "from imblearn.pipeline import make_pipeline as mp\n",
    "\n",
    "# importing FeatureUnion for combining transformers\n",
    "from sklearn.pipeline import FeatureUnion\n",
    "\n",
    "# importing samplers for handling data imbalance\n",
    "from imblearn.combine import SMOTEENN \n",
    "from imblearn.over_sampling import SMOTE\n",
    "from imblearn.over_sampling import RandomOverSampler \n",
    "from imblearn.under_sampling import RandomUnderSampler \n",
    "\n",
    "# importing train_test_split for train and validation split\n",
    "from sklearn.model_selection import train_test_split\n",
    "\n",
    "# importing SelectFromModel to select features from model \n",
    "from sklearn.feature_selection import SelectFromModel               "
   ]
  },
  {
   "cell_type": "code",
   "execution_count": 4,
   "id": "72b717c6",
   "metadata": {
    "execution": {
     "iopub.execute_input": "2022-08-31T12:23:07.441078Z",
     "iopub.status.busy": "2022-08-31T12:23:07.439746Z",
     "iopub.status.idle": "2022-08-31T12:23:08.283866Z",
     "shell.execute_reply": "2022-08-31T12:23:08.282605Z"
    },
    "papermill": {
     "duration": 0.858928,
     "end_time": "2022-08-31T12:23:08.286887",
     "exception": false,
     "start_time": "2022-08-31T12:23:07.427959",
     "status": "completed"
    },
    "tags": []
   },
   "outputs": [
    {
     "data": {
      "text/html": [
       "<style type='text/css'>\n",
       ".datatable table.frame { margin-bottom: 0; }\n",
       ".datatable table.frame thead { border-bottom: none; }\n",
       ".datatable table.frame tr.coltypes td {  color: #FFFFFF;  line-height: 6px;  padding: 0 0.5em;}\n",
       ".datatable .bool    { background: #DDDD99; }\n",
       ".datatable .object  { background: #565656; }\n",
       ".datatable .int     { background: #5D9E5D; }\n",
       ".datatable .float   { background: #4040CC; }\n",
       ".datatable .str     { background: #CC4040; }\n",
       ".datatable .time    { background: #40CC40; }\n",
       ".datatable .row_index {  background: var(--jp-border-color3);  border-right: 1px solid var(--jp-border-color0);  color: var(--jp-ui-font-color3);  font-size: 9px;}\n",
       ".datatable .frame tbody td { text-align: left; }\n",
       ".datatable .frame tr.coltypes .row_index {  background: var(--jp-border-color0);}\n",
       ".datatable th:nth-child(2) { padding-left: 12px; }\n",
       ".datatable .hellipsis {  color: var(--jp-cell-editor-border-color);}\n",
       ".datatable .vellipsis {  background: var(--jp-layout-color0);  color: var(--jp-cell-editor-border-color);}\n",
       ".datatable .na {  color: var(--jp-cell-editor-border-color);  font-size: 80%;}\n",
       ".datatable .sp {  opacity: 0.25;}\n",
       ".datatable .footer { font-size: 9px; }\n",
       ".datatable .frame_dimensions {  background: var(--jp-border-color3);  border-top: 1px solid var(--jp-border-color0);  color: var(--jp-ui-font-color3);  display: inline-block;  opacity: 0.6;  padding: 1px 10px 1px 5px;}\n",
       "</style>\n"
      ],
      "text/plain": [
       "<IPython.core.display.HTML object>"
      ]
     },
     "metadata": {},
     "output_type": "display_data"
    }
   ],
   "source": [
    "# importing classifiers to try with\n",
    "from sklearn.linear_model import LogisticRegression\n",
    "from sklearn.tree import DecisionTreeClassifier\n",
    "from sklearn.ensemble import RandomForestClassifier\n",
    "from sklearn.naive_bayes import GaussianNB\n",
    "from sklearn.neighbors import KNeighborsClassifier\n",
    "from sklearn.ensemble import AdaBoostClassifier\n",
    "from sklearn.ensemble import GradientBoostingClassifier\n",
    "from xgboost import XGBClassifier\n",
    "from lightgbm import LGBMClassifier\n",
    "from catboost import CatBoostClassifier\n",
    "\n",
    "# importing metrics required for model evaluation\n",
    "from sklearn.metrics import accuracy_score\n",
    "from sklearn.metrics import precision_score\n",
    "from sklearn.metrics import recall_score\n",
    "from sklearn.metrics import f1_score\n",
    "from sklearn.metrics import classification_report\n",
    "from sklearn.metrics import make_scorer\n",
    "from sklearn.metrics import confusion_matrix\n",
    "from sklearn.metrics import ConfusionMatrixDisplay\n",
    "\n",
    "# importing RepeatedKFold for cross validation\n",
    "from sklearn.model_selection import RepeatedKFold\n",
    "# importing for model evaluation\n",
    "from sklearn.model_selection import cross_validate\n",
    "from sklearn.model_selection import cross_val_predict\n",
    "from sklearn.model_selection import cross_val_score\n",
    "from sklearn.model_selection import validation_curve\n",
    "\n",
    "# importing RepeatedStratifiedKFold for model evaluation\n",
    "from sklearn.model_selection import RepeatedStratifiedKFold\n",
    "\n",
    "# importing GridSearchCV for hyperparameter tuning\n",
    "from sklearn.model_selection import GridSearchCV\n",
    "from sklearn.model_selection import RandomizedSearchCV\n",
    "from yellowbrick.model_selection import ValidationCurve"
   ]
  },
  {
   "cell_type": "markdown",
   "id": "543c8bde",
   "metadata": {
    "papermill": {
     "duration": 0.00705,
     "end_time": "2022-08-31T12:23:08.301519",
     "exception": false,
     "start_time": "2022-08-31T12:23:08.294469",
     "status": "completed"
    },
    "tags": []
   },
   "source": [
    "**Dataset:**\n",
    "\n",
    "* **train_data.csv** - training data with multiple statement dates per customer_ID\n",
    "* **train_labels.csv** - target label for each customer_ID\n",
    "* **test_data.csv** - corresponding test data; objective is to predict the target label for each customer_ID\n",
    "* **sample_submission.csv** - a sample submission file in the correct format\n",
    "\n",
    "---"
   ]
  },
  {
   "cell_type": "code",
   "execution_count": 5,
   "id": "ad1bef97",
   "metadata": {
    "execution": {
     "iopub.execute_input": "2022-08-31T12:23:08.317945Z",
     "iopub.status.busy": "2022-08-31T12:23:08.317519Z",
     "iopub.status.idle": "2022-08-31T12:23:08.331864Z",
     "shell.execute_reply": "2022-08-31T12:23:08.330365Z"
    },
    "papermill": {
     "duration": 0.026311,
     "end_time": "2022-08-31T12:23:08.335274",
     "exception": false,
     "start_time": "2022-08-31T12:23:08.308963",
     "status": "completed"
    },
    "tags": []
   },
   "outputs": [
    {
     "name": "stdout",
     "output_type": "stream",
     "text": [
      "/kaggle/input/amex-default-prediction/sample_submission.csv size is 59.1 MB bytes\n",
      "/kaggle/input/amex-default-prediction/train_data.csv size is 15.3 GB bytes\n",
      "/kaggle/input/amex-default-prediction/test_data.csv size is 31.5 GB bytes\n",
      "/kaggle/input/amex-default-prediction/train_labels.csv size is 29.3 MB bytes\n",
      "/kaggle/input/american-express-default-prediction/american-express-prediction.ipynb size is 16.2 KB bytes\n",
      "/kaggle/input/american-express-default-prediction/submission (2).csv size is 93.5 MB bytes\n"
     ]
    }
   ],
   "source": [
    "# calculate file size in KB, MB, GB\n",
    "def convert_bytes(size):\n",
    "    \"\"\" Convert bytes to KB, or MB or GB\"\"\"\n",
    "    for x in ['bytes', 'KB', 'MB', 'GB', 'TB']:\n",
    "        if size < 1024.0:\n",
    "            return \"%3.1f %s\" % (size, x)\n",
    "        size /= 1024.0\n",
    "\n",
    "# display CSV file with size\n",
    "for dirname, _, filenames in os.walk('/kaggle/input'):\n",
    "    for filename in filenames:\n",
    "        csvfile=os.path.join(dirname, filename)\n",
    "        csvfilesize = os.path.getsize(csvfile)\n",
    "        filesize = convert_bytes(csvfilesize)\n",
    "        print(f'{csvfile} size is', filesize, 'bytes')"
   ]
  },
  {
   "cell_type": "code",
   "execution_count": 6,
   "id": "e84f175e",
   "metadata": {
    "execution": {
     "iopub.execute_input": "2022-08-31T12:23:08.352385Z",
     "iopub.status.busy": "2022-08-31T12:23:08.351615Z",
     "iopub.status.idle": "2022-08-31T12:23:14.941796Z",
     "shell.execute_reply": "2022-08-31T12:23:14.939893Z"
    },
    "papermill": {
     "duration": 6.602274,
     "end_time": "2022-08-31T12:23:14.944997",
     "exception": false,
     "start_time": "2022-08-31T12:23:08.342723",
     "status": "completed"
    },
    "tags": []
   },
   "outputs": [
    {
     "name": "stdout",
     "output_type": "stream",
     "text": [
      "Shape of dataset is: (100000, 190)\n",
      "<class 'pandas.core.frame.DataFrame'>\n",
      "RangeIndex: 100000 entries, 0 to 99999\n",
      "Columns: 190 entries, customer_ID to D_145\n",
      "dtypes: float64(185), int64(1), object(4)\n",
      "memory usage: 145.0+ MB\n"
     ]
    }
   ],
   "source": [
    "#Loading the training dataset with 100,000 rows\n",
    "train_data = pd.read_csv('/kaggle/input/amex-default-prediction/train_data.csv',nrows = 100000)\n",
    "\n",
    "# get shape of dataframe\n",
    "print('Shape of dataset is:', train_data.shape)\n",
    "\n",
    "# print summary of dataframe\n",
    "train_data.info()"
   ]
  },
  {
   "cell_type": "markdown",
   "id": "26be648d",
   "metadata": {
    "papermill": {
     "duration": 0.006943,
     "end_time": "2022-08-31T12:23:14.959468",
     "exception": false,
     "start_time": "2022-08-31T12:23:14.952525",
     "status": "completed"
    },
    "tags": []
   },
   "source": [
    "There is a total of 190 variables of which 185 are float 1 variable and 4 are object datatype"
   ]
  },
  {
   "cell_type": "code",
   "execution_count": 7,
   "id": "635a3299",
   "metadata": {
    "execution": {
     "iopub.execute_input": "2022-08-31T12:23:14.975726Z",
     "iopub.status.busy": "2022-08-31T12:23:14.975281Z",
     "iopub.status.idle": "2022-08-31T12:23:15.873473Z",
     "shell.execute_reply": "2022-08-31T12:23:15.871814Z"
    },
    "papermill": {
     "duration": 0.91022,
     "end_time": "2022-08-31T12:23:15.876964",
     "exception": false,
     "start_time": "2022-08-31T12:23:14.966744",
     "status": "completed"
    },
    "tags": []
   },
   "outputs": [
    {
     "name": "stdout",
     "output_type": "stream",
     "text": [
      "Shape of dataset is: (458913, 2)\n",
      "<class 'pandas.core.frame.DataFrame'>\n",
      "RangeIndex: 458913 entries, 0 to 458912\n",
      "Data columns (total 2 columns):\n",
      " #   Column       Non-Null Count   Dtype \n",
      "---  ------       --------------   ----- \n",
      " 0   customer_ID  458913 non-null  object\n",
      " 1   target       458913 non-null  int64 \n",
      "dtypes: int64(1), object(1)\n",
      "memory usage: 7.0+ MB\n"
     ]
    }
   ],
   "source": [
    "# Loading dataset train_labels.csv\n",
    "train_label_data = pd.read_csv('../input/amex-default-prediction/train_labels.csv')\n",
    "\n",
    "# get shape of dataframe\n",
    "print('Shape of dataset is:', train_label_data.shape)\n",
    "\n",
    "# print summary of dataframe\n",
    "train_label_data.info()"
   ]
  },
  {
   "cell_type": "markdown",
   "id": "593e7cf3",
   "metadata": {
    "papermill": {
     "duration": 0.007004,
     "end_time": "2022-08-31T12:23:15.891451",
     "exception": false,
     "start_time": "2022-08-31T12:23:15.884447",
     "status": "completed"
    },
    "tags": []
   },
   "source": [
    "* There are total 458,913 entries for target label with customer_ID\n",
    "* There is variable (column) customer_ID which has dtype as object and variable (column) target which has dtype as int64"
   ]
  },
  {
   "cell_type": "code",
   "execution_count": 8,
   "id": "9b34083f",
   "metadata": {
    "execution": {
     "iopub.execute_input": "2022-08-31T12:23:15.907913Z",
     "iopub.status.busy": "2022-08-31T12:23:15.907490Z",
     "iopub.status.idle": "2022-08-31T12:23:22.177893Z",
     "shell.execute_reply": "2022-08-31T12:23:22.176271Z"
    },
    "papermill": {
     "duration": 6.281953,
     "end_time": "2022-08-31T12:23:22.180759",
     "exception": false,
     "start_time": "2022-08-31T12:23:15.898806",
     "status": "completed"
    },
    "tags": []
   },
   "outputs": [
    {
     "name": "stdout",
     "output_type": "stream",
     "text": [
      "Shape of dataset is: (100000, 189)\n",
      "<class 'pandas.core.frame.DataFrame'>\n",
      "Index: 100000 entries, 00000469ba478561f23a92a868bd366de6f6527a684c9a2e78fb826dcac3b9b7 to 0246c7eb137ed9b08014d66e29caf1772b0512becef11a1eda0948b8b8908576\n",
      "Columns: 189 entries, S_2 to D_145\n",
      "dtypes: float64(185), int64(1), object(3)\n",
      "memory usage: 145.0+ MB\n"
     ]
    }
   ],
   "source": [
    "# Loading dataset test_data.csv\n",
    "test_data = pd.read_csv('../input/amex-default-prediction/test_data.csv', nrows=100000, index_col='customer_ID')\n",
    "\n",
    "# get shape of dataframe\n",
    "print('Shape of dataset is:', test_data.shape)\n",
    "\n",
    "# print summary of dataframe\n",
    "# test_df.info(verbose=True)\n",
    "test_data.info()"
   ]
  },
  {
   "cell_type": "markdown",
   "id": "faeb22f3",
   "metadata": {
    "papermill": {
     "duration": 0.007023,
     "end_time": "2022-08-31T12:23:22.195232",
     "exception": false,
     "start_time": "2022-08-31T12:23:22.188209",
     "status": "completed"
    },
    "tags": []
   },
   "source": [
    "* There are 185 variables(Columns) as dtype float64, 1 variable(Column) as dtype int64 and 4 variables(Columns) as dtype object, same structure as train_data.csv"
   ]
  },
  {
   "cell_type": "code",
   "execution_count": 9,
   "id": "b2db47df",
   "metadata": {
    "execution": {
     "iopub.execute_input": "2022-08-31T12:23:22.213402Z",
     "iopub.status.busy": "2022-08-31T12:23:22.212147Z",
     "iopub.status.idle": "2022-08-31T12:23:22.778857Z",
     "shell.execute_reply": "2022-08-31T12:23:22.777548Z"
    },
    "papermill": {
     "duration": 0.578393,
     "end_time": "2022-08-31T12:23:22.781862",
     "exception": false,
     "start_time": "2022-08-31T12:23:22.203469",
     "status": "completed"
    },
    "tags": []
   },
   "outputs": [
    {
     "name": "stdout",
     "output_type": "stream",
     "text": [
      "Shape of dataset is: (100000, 191)\n",
      "<class 'pandas.core.frame.DataFrame'>\n",
      "Int64Index: 100000 entries, 0 to 99999\n",
      "Columns: 191 entries, customer_ID to target\n",
      "dtypes: float64(185), int64(2), object(4)\n",
      "memory usage: 146.5+ MB\n"
     ]
    }
   ],
   "source": [
    "# Merge of train_data and train_label_data dataframe using key as customer_ID\n",
    "train_data = pd.merge(train_data, train_label_data, how=\"inner\", on=[\"customer_ID\"])\n",
    "\n",
    "\n",
    "# get shape of dataframe\n",
    "print('Shape of dataset is:', train_data.shape)\n",
    "\n",
    "# print summary of dataframe\n",
    "train_data.info()"
   ]
  },
  {
   "cell_type": "code",
   "execution_count": 10,
   "id": "fcba0e58",
   "metadata": {
    "execution": {
     "iopub.execute_input": "2022-08-31T12:23:22.799574Z",
     "iopub.status.busy": "2022-08-31T12:23:22.798903Z",
     "iopub.status.idle": "2022-08-31T12:23:22.972302Z",
     "shell.execute_reply": "2022-08-31T12:23:22.971345Z"
    },
    "papermill": {
     "duration": 0.185491,
     "end_time": "2022-08-31T12:23:22.975035",
     "exception": false,
     "start_time": "2022-08-31T12:23:22.789544",
     "status": "completed"
    },
    "tags": []
   },
   "outputs": [],
   "source": [
    "#drop customer_ID and S_2 from train_data dataframe which are not required for model building\n",
    "train_data.drop(axis=1, columns=['customer_ID','S_2'], inplace=True)"
   ]
  },
  {
   "cell_type": "code",
   "execution_count": 11,
   "id": "a081ef26",
   "metadata": {
    "execution": {
     "iopub.execute_input": "2022-08-31T12:23:22.992575Z",
     "iopub.status.busy": "2022-08-31T12:23:22.991391Z",
     "iopub.status.idle": "2022-08-31T12:23:23.047949Z",
     "shell.execute_reply": "2022-08-31T12:23:23.046709Z"
    },
    "papermill": {
     "duration": 0.068478,
     "end_time": "2022-08-31T12:23:23.051027",
     "exception": false,
     "start_time": "2022-08-31T12:23:22.982549",
     "status": "completed"
    },
    "tags": []
   },
   "outputs": [],
   "source": [
    "#drop S_2 in test_df dataframe which is not required for model building\n",
    "test_data.drop(axis=1, columns=['S_2'], inplace=True)"
   ]
  },
  {
   "cell_type": "code",
   "execution_count": 12,
   "id": "9bccc15d",
   "metadata": {
    "execution": {
     "iopub.execute_input": "2022-08-31T12:23:23.068886Z",
     "iopub.status.busy": "2022-08-31T12:23:23.068455Z",
     "iopub.status.idle": "2022-08-31T12:23:25.033117Z",
     "shell.execute_reply": "2022-08-31T12:23:25.031809Z"
    },
    "papermill": {
     "duration": 1.977709,
     "end_time": "2022-08-31T12:23:25.036212",
     "exception": false,
     "start_time": "2022-08-31T12:23:23.058503",
     "status": "completed"
    },
    "tags": []
   },
   "outputs": [
    {
     "name": "stdout",
     "output_type": "stream",
     "text": [
      "No\n"
     ]
    }
   ],
   "source": [
    "#check if any duplicate row\n",
    "if (any(train_data.duplicated())):\n",
    "    print(\"Yes\")\n",
    "else:\n",
    "    print(\"No\")"
   ]
  },
  {
   "cell_type": "code",
   "execution_count": 13,
   "id": "15daf7de",
   "metadata": {
    "execution": {
     "iopub.execute_input": "2022-08-31T12:23:25.054086Z",
     "iopub.status.busy": "2022-08-31T12:23:25.053648Z",
     "iopub.status.idle": "2022-08-31T12:23:26.988202Z",
     "shell.execute_reply": "2022-08-31T12:23:26.986610Z"
    },
    "papermill": {
     "duration": 1.946987,
     "end_time": "2022-08-31T12:23:26.990846",
     "exception": false,
     "start_time": "2022-08-31T12:23:25.043859",
     "status": "completed"
    },
    "tags": []
   },
   "outputs": [
    {
     "name": "stdout",
     "output_type": "stream",
     "text": [
      "No\n"
     ]
    }
   ],
   "source": [
    "#check if any duplicate row in test dataset\n",
    "if (any(test_data.duplicated())):\n",
    "    print(\"Yes\")\n",
    "else:\n",
    "    print(\"No\")"
   ]
  },
  {
   "cell_type": "code",
   "execution_count": 14,
   "id": "bab7b97e",
   "metadata": {
    "execution": {
     "iopub.execute_input": "2022-08-31T12:23:27.007853Z",
     "iopub.status.busy": "2022-08-31T12:23:27.007449Z",
     "iopub.status.idle": "2022-08-31T12:23:27.061617Z",
     "shell.execute_reply": "2022-08-31T12:23:27.060065Z"
    },
    "papermill": {
     "duration": 0.065899,
     "end_time": "2022-08-31T12:23:27.064358",
     "exception": false,
     "start_time": "2022-08-31T12:23:26.998459",
     "status": "completed"
    },
    "tags": []
   },
   "outputs": [
    {
     "name": "stdout",
     "output_type": "stream",
     "text": [
      "Yes\n"
     ]
    }
   ],
   "source": [
    "# Check for missing value\n",
    "if(any(train_data.isna().sum())):\n",
    "    print(\"Yes\")\n",
    "else:\n",
    "    print(\"No\")"
   ]
  },
  {
   "cell_type": "code",
   "execution_count": 15,
   "id": "2520d1d3",
   "metadata": {
    "execution": {
     "iopub.execute_input": "2022-08-31T12:23:27.081831Z",
     "iopub.status.busy": "2022-08-31T12:23:27.081093Z",
     "iopub.status.idle": "2022-08-31T12:23:27.134665Z",
     "shell.execute_reply": "2022-08-31T12:23:27.133681Z"
    },
    "papermill": {
     "duration": 0.065728,
     "end_time": "2022-08-31T12:23:27.137930",
     "exception": false,
     "start_time": "2022-08-31T12:23:27.072202",
     "status": "completed"
    },
    "tags": []
   },
   "outputs": [
    {
     "name": "stdout",
     "output_type": "stream",
     "text": [
      "Yes\n"
     ]
    }
   ],
   "source": [
    "# Check for missing value in test dataset\n",
    "if(any(test_data.isna().sum())):\n",
    "    print(\"Yes\")\n",
    "else:\n",
    "    print(\"No\")"
   ]
  },
  {
   "cell_type": "code",
   "execution_count": 16,
   "id": "6921a06b",
   "metadata": {
    "execution": {
     "iopub.execute_input": "2022-08-31T12:23:27.155853Z",
     "iopub.status.busy": "2022-08-31T12:23:27.155430Z",
     "iopub.status.idle": "2022-08-31T12:23:28.429427Z",
     "shell.execute_reply": "2022-08-31T12:23:28.427572Z"
    },
    "papermill": {
     "duration": 1.28665,
     "end_time": "2022-08-31T12:23:28.432944",
     "exception": false,
     "start_time": "2022-08-31T12:23:27.146294",
     "status": "completed"
    },
    "tags": []
   },
   "outputs": [
    {
     "name": "stdout",
     "output_type": "stream",
     "text": [
      "Dropping column D_42\n",
      "Dropping column D_49\n",
      "Dropping column D_66\n",
      "Dropping column D_73\n",
      "Dropping column D_76\n",
      "Dropping column R_9\n",
      "Dropping column B_29\n",
      "Dropping column D_87\n",
      "Dropping column D_88\n",
      "Dropping column D_106\n",
      "Dropping column R_26\n",
      "Dropping column D_108\n",
      "Dropping column D_110\n",
      "Dropping column D_111\n",
      "Dropping column B_39\n",
      "Dropping column B_42\n",
      "Dropping column D_132\n",
      "Dropping column D_134\n",
      "Dropping column D_135\n",
      "Dropping column D_136\n",
      "Dropping column D_137\n",
      "Dropping column D_138\n",
      "Dropping column D_142\n",
      "Total number of columns dropped in train dataframe 23\n"
     ]
    }
   ],
   "source": [
    "#drop variables with missing values >=75% in the train dataframe\n",
    "i=0\n",
    "for col in train_data.columns:\n",
    "    if (train_data[col].isnull().sum()/len(train_data[col])*100) >=75:\n",
    "        print(\"Dropping column\", col)\n",
    "        train_data.drop(labels=col,axis=1,inplace=True)\n",
    "        i=i+1\n",
    "        \n",
    "print(\"Total number of columns dropped in train dataframe\", i)"
   ]
  },
  {
   "cell_type": "code",
   "execution_count": 17,
   "id": "fa2c1951",
   "metadata": {
    "execution": {
     "iopub.execute_input": "2022-08-31T12:23:28.453450Z",
     "iopub.status.busy": "2022-08-31T12:23:28.452851Z",
     "iopub.status.idle": "2022-08-31T12:23:29.712333Z",
     "shell.execute_reply": "2022-08-31T12:23:29.710767Z"
    },
    "papermill": {
     "duration": 1.27347,
     "end_time": "2022-08-31T12:23:29.715530",
     "exception": false,
     "start_time": "2022-08-31T12:23:28.442060",
     "status": "completed"
    },
    "tags": []
   },
   "outputs": [
    {
     "name": "stdout",
     "output_type": "stream",
     "text": [
      "Dropping column D_42\n",
      "Dropping column D_49\n",
      "Dropping column D_66\n",
      "Dropping column D_73\n",
      "Dropping column D_76\n",
      "Dropping column R_9\n",
      "Dropping column B_29\n",
      "Dropping column D_87\n",
      "Dropping column D_88\n",
      "Dropping column D_106\n",
      "Dropping column R_26\n",
      "Dropping column D_108\n",
      "Dropping column D_110\n",
      "Dropping column D_111\n",
      "Dropping column B_39\n",
      "Dropping column B_42\n",
      "Dropping column D_132\n",
      "Dropping column D_134\n",
      "Dropping column D_135\n",
      "Dropping column D_136\n",
      "Dropping column D_137\n",
      "Dropping column D_138\n",
      "Dropping column D_142\n",
      "Total number of columns dropped in test dataframe 23\n"
     ]
    }
   ],
   "source": [
    "#drop variables with missing values >=75% in the test dataframe\n",
    "i=0\n",
    "for col in test_data.columns:\n",
    "    if (test_data[col].isnull().sum()/len(test_data[col])*100) >=75:\n",
    "        print(\"Dropping column\", col)\n",
    "        test_data.drop(labels=col,axis=1,inplace=True)\n",
    "        i=i+1\n",
    "        \n",
    "print(\"Total number of columns dropped in test dataframe\", i)"
   ]
  },
  {
   "cell_type": "markdown",
   "id": "cdfbbdaa",
   "metadata": {
    "papermill": {
     "duration": 0.00912,
     "end_time": "2022-08-31T12:23:29.734216",
     "exception": false,
     "start_time": "2022-08-31T12:23:29.725096",
     "status": "completed"
    },
    "tags": []
   },
   "source": [
    "* with the following features being categorical:\n",
    "\n",
    "**['B_30', 'B_38', 'D_114', 'D_116', 'D_117', 'D_120', 'D_126', 'D_63', 'D_64', 'D_66', 'D_68']**"
   ]
  },
  {
   "cell_type": "code",
   "execution_count": 18,
   "id": "98a09ffb",
   "metadata": {
    "execution": {
     "iopub.execute_input": "2022-08-31T12:23:29.754921Z",
     "iopub.status.busy": "2022-08-31T12:23:29.754500Z",
     "iopub.status.idle": "2022-08-31T12:23:30.502492Z",
     "shell.execute_reply": "2022-08-31T12:23:30.501010Z"
    },
    "papermill": {
     "duration": 0.761798,
     "end_time": "2022-08-31T12:23:30.505339",
     "exception": false,
     "start_time": "2022-08-31T12:23:29.743541",
     "status": "completed"
    },
    "tags": []
   },
   "outputs": [],
   "source": [
    "#convert dtype for B and D categorical variable to object for training set\n",
    "train_data = train_data.astype({\"B_30\": 'str', \"B_38\": 'str',\"D_114\": 'str', \"D_116\": 'str', \"D_117\": 'str', \"D_120\": 'str', \"D_126\": 'str', \"D_68\": 'str'})\n",
    "#convert dtype for B and D categorical variable to object for test set\n",
    "test_data = test_data.astype({\"B_30\": 'str', \"B_38\": 'str',\"D_114\": 'str', \"D_116\": 'str', \"D_117\": 'str', \"D_120\": 'str', \"D_126\": 'str', \"D_68\": 'str'})"
   ]
  },
  {
   "cell_type": "code",
   "execution_count": 19,
   "id": "59693c7d",
   "metadata": {
    "execution": {
     "iopub.execute_input": "2022-08-31T12:23:30.526752Z",
     "iopub.status.busy": "2022-08-31T12:23:30.526292Z",
     "iopub.status.idle": "2022-08-31T12:23:30.724506Z",
     "shell.execute_reply": "2022-08-31T12:23:30.722570Z"
    },
    "papermill": {
     "duration": 0.212896,
     "end_time": "2022-08-31T12:23:30.727634",
     "exception": false,
     "start_time": "2022-08-31T12:23:30.514738",
     "status": "completed"
    },
    "tags": []
   },
   "outputs": [
    {
     "name": "stdout",
     "output_type": "stream",
     "text": [
      "Shape of X (100000, 165)\n",
      "Shape of y (100000,)\n"
     ]
    }
   ],
   "source": [
    "# separate X and y for further processing\n",
    "X = train_data.drop(columns='target')\n",
    "print(\"Shape of X\", X.shape)\n",
    "y = train_data['target']\n",
    "print(\"Shape of y\", y.shape)"
   ]
  },
  {
   "cell_type": "code",
   "execution_count": null,
   "id": "a1f91a1c",
   "metadata": {
    "papermill": {
     "duration": 0.009835,
     "end_time": "2022-08-31T12:23:30.747091",
     "exception": false,
     "start_time": "2022-08-31T12:23:30.737256",
     "status": "completed"
    },
    "tags": []
   },
   "outputs": [],
   "source": []
  }
 ],
 "metadata": {
  "kernelspec": {
   "display_name": "Python 3",
   "language": "python",
   "name": "python3"
  },
  "language_info": {
   "codemirror_mode": {
    "name": "ipython",
    "version": 3
   },
   "file_extension": ".py",
   "mimetype": "text/x-python",
   "name": "python",
   "nbconvert_exporter": "python",
   "pygments_lexer": "ipython3",
   "version": "3.7.12"
  },
  "papermill": {
   "default_parameters": {},
   "duration": 37.365836,
   "end_time": "2022-08-31T12:23:31.780471",
   "environment_variables": {},
   "exception": null,
   "input_path": "__notebook__.ipynb",
   "output_path": "__notebook__.ipynb",
   "parameters": {},
   "start_time": "2022-08-31T12:22:54.414635",
   "version": "2.3.4"
  }
 },
 "nbformat": 4,
 "nbformat_minor": 5
}
