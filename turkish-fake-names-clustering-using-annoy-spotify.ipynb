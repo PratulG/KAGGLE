{
 "cells": [
  {
   "cell_type": "markdown",
   "id": "386ceeaa",
   "metadata": {
    "papermill": {
     "duration": 0.004819,
     "end_time": "2023-03-30T19:04:03.977274",
     "exception": false,
     "start_time": "2023-03-30T19:04:03.972455",
     "status": "completed"
    },
    "tags": []
   },
   "source": [
    "# Install Annoy"
   ]
  },
  {
   "cell_type": "code",
   "execution_count": 1,
   "id": "a9b7574e",
   "metadata": {
    "execution": {
     "iopub.execute_input": "2023-03-30T19:04:03.986280Z",
     "iopub.status.busy": "2023-03-30T19:04:03.985793Z",
     "iopub.status.idle": "2023-03-30T19:04:14.177815Z",
     "shell.execute_reply": "2023-03-30T19:04:14.176620Z"
    },
    "papermill": {
     "duration": 10.199862,
     "end_time": "2023-03-30T19:04:14.180815",
     "exception": false,
     "start_time": "2023-03-30T19:04:03.980953",
     "status": "completed"
    },
    "tags": []
   },
   "outputs": [
    {
     "name": "stdout",
     "output_type": "stream",
     "text": [
      "Requirement already satisfied: annoy in /opt/conda/lib/python3.7/site-packages (1.17.1)\r\n",
      "\u001b[33mWARNING: Running pip as the 'root' user can result in broken permissions and conflicting behaviour with the system package manager. It is recommended to use a virtual environment instead: https://pip.pypa.io/warnings/venv\u001b[0m\u001b[33m\r\n",
      "\u001b[0m"
     ]
    }
   ],
   "source": [
    "# Step 1: Install Annoy\n",
    "!pip install annoy"
   ]
  },
  {
   "cell_type": "markdown",
   "id": "4e883c4e",
   "metadata": {
    "papermill": {
     "duration": 0.0037,
     "end_time": "2023-03-30T19:04:14.188668",
     "exception": false,
     "start_time": "2023-03-30T19:04:14.184968",
     "status": "completed"
    },
    "tags": []
   },
   "source": [
    "# Import necessary libraries"
   ]
  },
  {
   "cell_type": "code",
   "execution_count": 2,
   "id": "9e23550b",
   "metadata": {
    "execution": {
     "iopub.execute_input": "2023-03-30T19:04:14.197891Z",
     "iopub.status.busy": "2023-03-30T19:04:14.197132Z",
     "iopub.status.idle": "2023-03-30T19:04:15.605153Z",
     "shell.execute_reply": "2023-03-30T19:04:15.604098Z"
    },
    "papermill": {
     "duration": 1.415325,
     "end_time": "2023-03-30T19:04:15.607643",
     "exception": false,
     "start_time": "2023-03-30T19:04:14.192318",
     "status": "completed"
    },
    "tags": []
   },
   "outputs": [],
   "source": [
    "# Step 2: Import necessary libraries\n",
    "import numpy as np\n",
    "import pandas as pd\n",
    "from sklearn.feature_extraction.text import TfidfVectorizer\n",
    "import nltk\n",
    "from annoy import AnnoyIndex\n",
    "from sklearn.model_selection import train_test_split\n",
    "from sklearn.metrics import precision_score, recall_score, f1_score"
   ]
  },
  {
   "cell_type": "markdown",
   "id": "733f9288",
   "metadata": {
    "papermill": {
     "duration": 0.003478,
     "end_time": "2023-03-30T19:04:15.615044",
     "exception": false,
     "start_time": "2023-03-30T19:04:15.611566",
     "status": "completed"
    },
    "tags": []
   },
   "source": [
    "# Load the dataset"
   ]
  },
  {
   "cell_type": "code",
   "execution_count": 3,
   "id": "8cd9d8d8",
   "metadata": {
    "execution": {
     "iopub.execute_input": "2023-03-30T19:04:15.623676Z",
     "iopub.status.busy": "2023-03-30T19:04:15.623357Z",
     "iopub.status.idle": "2023-03-30T19:04:16.544654Z",
     "shell.execute_reply": "2023-03-30T19:04:16.543268Z"
    },
    "papermill": {
     "duration": 0.929108,
     "end_time": "2023-03-30T19:04:16.547774",
     "exception": false,
     "start_time": "2023-03-30T19:04:15.618666",
     "status": "completed"
    },
    "tags": []
   },
   "outputs": [],
   "source": [
    "# Step 3: Load the dataset\n",
    "customers_df = pd.read_csv(\"/kaggle/input/fake-turkish-names-csv-format/Customers_100K_Row.csv\")"
   ]
  },
  {
   "cell_type": "markdown",
   "id": "07de2d92",
   "metadata": {
    "papermill": {
     "duration": 0.003685,
     "end_time": "2023-03-30T19:04:16.555966",
     "exception": false,
     "start_time": "2023-03-30T19:04:16.552281",
     "status": "completed"
    },
    "tags": []
   },
   "source": [
    "# Preprocess the data"
   ]
  },
  {
   "cell_type": "code",
   "execution_count": 4,
   "id": "a47c0920",
   "metadata": {
    "execution": {
     "iopub.execute_input": "2023-03-30T19:04:16.564885Z",
     "iopub.status.busy": "2023-03-30T19:04:16.564558Z",
     "iopub.status.idle": "2023-03-30T19:04:16.727072Z",
     "shell.execute_reply": "2023-03-30T19:04:16.726062Z"
    },
    "papermill": {
     "duration": 0.170112,
     "end_time": "2023-03-30T19:04:16.729791",
     "exception": false,
     "start_time": "2023-03-30T19:04:16.559679",
     "status": "completed"
    },
    "tags": []
   },
   "outputs": [],
   "source": [
    "# Step 4: Preprocess the data\n",
    "customers_df[\"CHAR_NAMESURNAME\"] = customers_df[\"NAMESURNAME\"].apply(lambda x: \" \".join([c for c in x]))"
   ]
  },
  {
   "cell_type": "markdown",
   "id": "cc078afc",
   "metadata": {
    "papermill": {
     "duration": 0.003557,
     "end_time": "2023-03-30T19:04:16.737408",
     "exception": false,
     "start_time": "2023-03-30T19:04:16.733851",
     "status": "completed"
    },
    "tags": []
   },
   "source": [
    "# Vectorize the data using TF-IDF"
   ]
  },
  {
   "cell_type": "code",
   "execution_count": 5,
   "id": "5c4b0ad3",
   "metadata": {
    "execution": {
     "iopub.execute_input": "2023-03-30T19:04:16.747254Z",
     "iopub.status.busy": "2023-03-30T19:04:16.745662Z",
     "iopub.status.idle": "2023-03-30T19:04:28.492520Z",
     "shell.execute_reply": "2023-03-30T19:04:28.491422Z"
    },
    "papermill": {
     "duration": 11.754323,
     "end_time": "2023-03-30T19:04:28.495390",
     "exception": false,
     "start_time": "2023-03-30T19:04:16.741067",
     "status": "completed"
    },
    "tags": []
   },
   "outputs": [],
   "source": [
    "# Step 5: Vectorize the data using TF-IDF\n",
    "def preprocess(text):\n",
    "    return nltk.word_tokenize(text)\n",
    "\n",
    "vectorizer = TfidfVectorizer(tokenizer=preprocess, ngram_range=(1, 3))\n",
    "tfidf_matrix = vectorizer.fit_transform(customers_df[\"CHAR_NAMESURNAME\"])"
   ]
  },
  {
   "cell_type": "markdown",
   "id": "fc5d6907",
   "metadata": {
    "papermill": {
     "duration": 0.003481,
     "end_time": "2023-03-30T19:04:28.502963",
     "exception": false,
     "start_time": "2023-03-30T19:04:28.499482",
     "status": "completed"
    },
    "tags": []
   },
   "source": [
    "# Build the Annoy index"
   ]
  },
  {
   "cell_type": "code",
   "execution_count": 6,
   "id": "40913f8b",
   "metadata": {
    "execution": {
     "iopub.execute_input": "2023-03-30T19:04:28.511633Z",
     "iopub.status.busy": "2023-03-30T19:04:28.511288Z",
     "iopub.status.idle": "2023-03-30T19:06:09.928092Z",
     "shell.execute_reply": "2023-03-30T19:06:09.927058Z"
    },
    "papermill": {
     "duration": 101.4269,
     "end_time": "2023-03-30T19:06:09.933464",
     "exception": false,
     "start_time": "2023-03-30T19:04:28.506564",
     "status": "completed"
    },
    "tags": []
   },
   "outputs": [
    {
     "data": {
      "text/plain": [
       "True"
      ]
     },
     "execution_count": 6,
     "metadata": {},
     "output_type": "execute_result"
    }
   ],
   "source": [
    "# Step 6: Build the Annoy index\n",
    "f = tfidf_matrix.shape[1]\n",
    "t = AnnoyIndex(f, 'angular')\n",
    "\n",
    "for i in range(tfidf_matrix.shape[0]):\n",
    "    v = tfidf_matrix[i].toarray()[0]\n",
    "    t.add_item(i, v)\n",
    "\n",
    "t.build(10)  # 10 trees"
   ]
  },
  {
   "cell_type": "markdown",
   "id": "7695b4dc",
   "metadata": {
    "papermill": {
     "duration": 0.003547,
     "end_time": "2023-03-30T19:06:09.941104",
     "exception": false,
     "start_time": "2023-03-30T19:06:09.937557",
     "status": "completed"
    },
    "tags": []
   },
   "source": [
    "# Query the index"
   ]
  },
  {
   "cell_type": "code",
   "execution_count": 7,
   "id": "aa429053",
   "metadata": {
    "execution": {
     "iopub.execute_input": "2023-03-30T19:06:09.950400Z",
     "iopub.status.busy": "2023-03-30T19:06:09.949522Z",
     "iopub.status.idle": "2023-03-30T19:06:10.016987Z",
     "shell.execute_reply": "2023-03-30T19:06:10.015634Z"
    },
    "papermill": {
     "duration": 0.076181,
     "end_time": "2023-03-30T19:06:10.020944",
     "exception": false,
     "start_time": "2023-03-30T19:06:09.944763",
     "status": "completed"
    },
    "tags": []
   },
   "outputs": [
    {
     "name": "stdout",
     "output_type": "stream",
     "text": [
      "          ID   NAME_ SURNAME    NAMESURNAME GENDER   BIRTHDATE  \\\n",
      "0          1  Melike  ÖZİPEK  Melike ÖZİPEK      K  1970-02-13   \n",
      "43122  43123   Asiye  ÖZİPEK   Asiye ÖZİPEK      K  1986-10-15   \n",
      "77774  77775  Melike    ÖZER    Melike ÖZER      K  1985-01-13   \n",
      "25705  25706  Melike    ÖZAY    Melike ÖZAY      K  1967-08-31   \n",
      "55642  55643  Melike   ÖZDAL   Melike ÖZDAL      K  1995-10-16   \n",
      "\n",
      "                                       EMAIL     TCNUMBER        TELNR  \\\n",
      "0                   mel_ozipek@fakeyahoo.com  42151320682  555-4182308   \n",
      "43122             asi_ozipek@fakehotmail.com  74335685034  555-1315279   \n",
      "77774                 mel_ozer@fakeyahoo.com  81562064518  536-1969269   \n",
      "25705               mel_ozay@fakehotmail.com  88802058818  532-2273035   \n",
      "55642  mel_ozdal@fakegmail.com@fakeyahoo.com  44758047672  554-1959916   \n",
      "\n",
      "             CITY      TOWN         DISTRICT                   STREET  \\\n",
      "0       Gaziantep   OĞUZELİ     ÇAYBAŞI MAH.  BESİ ORG.SAN.79 CADDESİ   \n",
      "43122    İstanbul  ÜMRANİYE   HEKİMBAŞI MAH.       EZGİ ÇIKMAZI SOKAK   \n",
      "77774  Kırklareli  BABAESKİ   HACIHASAN MAH.           679 NOLU SOKAK   \n",
      "25705    İstanbul  BEŞİKTAŞ     TÜRKALİ MAH.        ASMALIKAHVE SOKAK   \n",
      "55642       Konya     ÇUMRA  BAKKALBAŞI MAH.              MERAM SOKAK   \n",
      "\n",
      "       POSTALCODE                                        ADDRESSTEXT  \\\n",
      "0           27900  ÇAYBAŞI MAH. BESİ ORG.SAN.79 CADDESİ  27900  O...   \n",
      "43122       34766  HEKİMBAŞI MAH. EZGİ ÇIKMAZI SOKAK  34766  ÜMRA...   \n",
      "77774       39200  HACIHASAN MAH. 679 NOLU SOKAK  39200  BABAESKİ...   \n",
      "25705       34357  TÜRKALİ MAH. ASMALIKAHVE SOKAK  34357  BEŞİKTA...   \n",
      "55642       42500    BAKKALBAŞI MAH. MERAM SOKAK  42500  ÇUMRA/KONYA   \n",
      "\n",
      "                CHAR_NAMESURNAME  \n",
      "0      M e l i k e   Ö Z İ P E K  \n",
      "43122    A s i y e   Ö Z İ P E K  \n",
      "77774      M e l i k e   Ö Z E R  \n",
      "25705      M e l i k e   Ö Z A Y  \n",
      "55642    M e l i k e   Ö Z D A L  \n"
     ]
    }
   ],
   "source": [
    "# Step 7: Query the index\n",
    "def find_nearest_neighbors(index, vec, k=10):\n",
    "    indices = index.get_nns_by_vector(vec, k)\n",
    "    return customers_df.iloc[indices]\n",
    "\n",
    "query_index = 0  # Index of the query point\n",
    "query_vector = tfidf_matrix[query_index].toarray()[0]\n",
    "k = 5  # Number of nearest neighbors\n",
    "\n",
    "nearest_neighbors = find_nearest_neighbors(t, query_vector, k)\n",
    "print(nearest_neighbors)"
   ]
  },
  {
   "cell_type": "markdown",
   "id": "8eba86d8",
   "metadata": {
    "papermill": {
     "duration": 0.003776,
     "end_time": "2023-03-30T19:06:10.028889",
     "exception": false,
     "start_time": "2023-03-30T19:06:10.025113",
     "status": "completed"
    },
    "tags": []
   },
   "source": [
    "# Defining the simlarity metric"
   ]
  },
  {
   "cell_type": "code",
   "execution_count": 8,
   "id": "a1bebb51",
   "metadata": {
    "execution": {
     "iopub.execute_input": "2023-03-30T19:06:10.038472Z",
     "iopub.status.busy": "2023-03-30T19:06:10.038163Z",
     "iopub.status.idle": "2023-03-30T19:06:10.044625Z",
     "shell.execute_reply": "2023-03-30T19:06:10.043695Z"
    },
    "papermill": {
     "duration": 0.013596,
     "end_time": "2023-03-30T19:06:10.046690",
     "exception": false,
     "start_time": "2023-03-30T19:06:10.033094",
     "status": "completed"
    },
    "tags": []
   },
   "outputs": [],
   "source": [
    "# Step 8: Defining the simlarity metric\n",
    "\n",
    "from sklearn.metrics.pairwise import cosine_similarity\n",
    "\n",
    "def find_exact_nearest_neighbors(tfidf_matrix, query_index, k=10):\n",
    "    similarities = cosine_similarity(tfidf_matrix[query_index], tfidf_matrix)\n",
    "    sorted_indices = np.argsort(-similarities[0])\n",
    "    return customers_df.iloc[sorted_indices[:k]]\n"
   ]
  },
  {
   "cell_type": "markdown",
   "id": "7a865d46",
   "metadata": {
    "papermill": {
     "duration": 0.00357,
     "end_time": "2023-03-30T19:06:10.054012",
     "exception": false,
     "start_time": "2023-03-30T19:06:10.050442",
     "status": "completed"
    },
    "tags": []
   },
   "source": [
    "# Getting Precision and Recall"
   ]
  },
  {
   "cell_type": "code",
   "execution_count": 9,
   "id": "4d4544cf",
   "metadata": {
    "execution": {
     "iopub.execute_input": "2023-03-30T19:06:10.064268Z",
     "iopub.status.busy": "2023-03-30T19:06:10.063437Z",
     "iopub.status.idle": "2023-03-30T19:06:22.582851Z",
     "shell.execute_reply": "2023-03-30T19:06:22.581266Z"
    },
    "papermill": {
     "duration": 12.526334,
     "end_time": "2023-03-30T19:06:22.585125",
     "exception": false,
     "start_time": "2023-03-30T19:06:10.058791",
     "status": "completed"
    },
    "tags": []
   },
   "outputs": [
    {
     "name": "stdout",
     "output_type": "stream",
     "text": [
      "Precision: 0.6079999999999999\n",
      "Recall: 0.6079999999999999\n"
     ]
    }
   ],
   "source": [
    "# Step 9: Getting Precision and Recall\n",
    "\n",
    "\n",
    "import numpy as np\n",
    "\n",
    "num_queries = 100\n",
    "k = 5\n",
    "precision = 0\n",
    "recall = 0\n",
    "\n",
    "for query_index in range(num_queries):\n",
    "    query_vector = tfidf_matrix[query_index].toarray()[0]\n",
    "\n",
    "    approx_neighbors = find_nearest_neighbors(t, query_vector, k)\n",
    "    exact_neighbors = find_exact_nearest_neighbors(tfidf_matrix, query_index, k)\n",
    "\n",
    "    approx_neighbors_set = set(approx_neighbors.index)\n",
    "    exact_neighbors_set = set(exact_neighbors.index)\n",
    "\n",
    "    true_positives = len(approx_neighbors_set.intersection(exact_neighbors_set))\n",
    "    false_positives = k - true_positives\n",
    "    false_negatives = k - true_positives\n",
    "\n",
    "    precision += true_positives / (true_positives + false_positives)\n",
    "    recall += true_positives / (true_positives + false_negatives)\n",
    "\n",
    "precision /= num_queries\n",
    "recall /= num_queries\n",
    "\n",
    "print(f\"Precision: {precision}\")\n",
    "print(f\"Recall: {recall}\")\n"
   ]
  }
 ],
 "metadata": {
  "kernelspec": {
   "display_name": "Python 3",
   "language": "python",
   "name": "python3"
  },
  "language_info": {
   "codemirror_mode": {
    "name": "ipython",
    "version": 3
   },
   "file_extension": ".py",
   "mimetype": "text/x-python",
   "name": "python",
   "nbconvert_exporter": "python",
   "pygments_lexer": "ipython3",
   "version": "3.7.12"
  },
  "papermill": {
   "default_parameters": {},
   "duration": 148.675788,
   "end_time": "2023-03-30T19:06:23.510395",
   "environment_variables": {},
   "exception": null,
   "input_path": "__notebook__.ipynb",
   "output_path": "__notebook__.ipynb",
   "parameters": {},
   "start_time": "2023-03-30T19:03:54.834607",
   "version": "2.4.0"
  }
 },
 "nbformat": 4,
 "nbformat_minor": 5
}
